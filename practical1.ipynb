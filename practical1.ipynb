{
 "cells": [
  {
   "cell_type": "markdown",
   "metadata": {},
   "source": [
    "## Practical 1: word2vec\n",
    "<p>Oxford CS - Deep NLP 2017<br>\n",
    "https://www.cs.ox.ac.uk/teaching/courses/2016-2017/dl/</p>\n",
    "<p>[Yannis Assael, Brendan Shillingford, Chris Dyer]</p>"
   ]
  },
  {
   "cell_type": "markdown",
   "metadata": {},
   "source": [
    "This practical is presented as an IPython Notebook, with the code written for recent versions of **Python 3**. The code in this practical will not work with Python 2 unless you modify it. If you are using your own Python installation, ensure you have a setup identical to that described in the installation shell script (which is intended for use with the department lab machines). We will be unable to support installation on personal machines due to time constraints, so please use the lab machines and the setup script if you are unfamiliar with how to install Anaconda.\n",
    "\n",
    "To execute a notebook cell, press `shift-enter`. The return value of the last command will be displayed, if it is not `None`.\n",
    "\n",
    "Potentially useful library documentation, references, and resources:\n",
    "\n",
    "* IPython notebooks: <https://ipython.org/ipython-doc/3/notebook/notebook.html#introduction>\n",
    "* Numpy numerical array library: <https://docs.scipy.org/doc/>\n",
    "* Gensim's word2vec: <https://radimrehurek.com/gensim/models/word2vec.html>\n",
    "* Bokeh interactive plots: <http://bokeh.pydata.org/en/latest/> (we provide plotting code here, but click the thumbnails for more examples to copy-paste)\n",
    "* scikit-learn ML library (aka `sklearn`): <http://scikit-learn.org/stable/documentation.html>\n",
    "* nltk NLP toolkit: <http://www.nltk.org/>\n",
    "* tutorial for processing xml in python using `lxml`: <http://lxml.de/tutorial.html> (we did this for you below, but in case you need it in the future)"
   ]
  },
  {
   "cell_type": "code",
   "execution_count": 1,
   "metadata": {},
   "outputs": [],
   "source": [
    "import numpy as np\n",
    "import os\n",
    "from random import shuffle\n",
    "import re"
   ]
  },
  {
   "cell_type": "code",
   "execution_count": 2,
   "metadata": {},
   "outputs": [
    {
     "data": {
      "text/html": [
       "\n",
       "    <div class=\"bk-root\">\n",
       "        <a href=\"https://bokeh.pydata.org\" target=\"_blank\" class=\"bk-logo bk-logo-small bk-logo-notebook\"></a>\n",
       "        <span id=\"897be06a-27e1-45e6-b765-0335ca680868\">Loading BokehJS ...</span>\n",
       "    </div>"
      ]
     },
     "metadata": {},
     "output_type": "display_data"
    },
    {
     "data": {
      "application/javascript": [
       "\n",
       "(function(root) {\n",
       "  function now() {\n",
       "    return new Date();\n",
       "  }\n",
       "\n",
       "  var force = true;\n",
       "\n",
       "  if (typeof (root._bokeh_onload_callbacks) === \"undefined\" || force === true) {\n",
       "    root._bokeh_onload_callbacks = [];\n",
       "    root._bokeh_is_loading = undefined;\n",
       "  }\n",
       "\n",
       "  var JS_MIME_TYPE = 'application/javascript';\n",
       "  var HTML_MIME_TYPE = 'text/html';\n",
       "  var EXEC_MIME_TYPE = 'application/vnd.bokehjs_exec.v0+json';\n",
       "  var CLASS_NAME = 'output_bokeh rendered_html';\n",
       "\n",
       "  /**\n",
       "   * Render data to the DOM node\n",
       "   */\n",
       "  function render(props, node) {\n",
       "    var script = document.createElement(\"script\");\n",
       "    node.appendChild(script);\n",
       "  }\n",
       "\n",
       "  /**\n",
       "   * Handle when an output is cleared or removed\n",
       "   */\n",
       "  function handleClearOutput(event, handle) {\n",
       "    var cell = handle.cell;\n",
       "\n",
       "    var id = cell.output_area._bokeh_element_id;\n",
       "    var server_id = cell.output_area._bokeh_server_id;\n",
       "    // Clean up Bokeh references\n",
       "    if (id !== undefined) {\n",
       "      Bokeh.index[id].model.document.clear();\n",
       "      delete Bokeh.index[id];\n",
       "    }\n",
       "\n",
       "    if (server_id !== undefined) {\n",
       "      // Clean up Bokeh references\n",
       "      var cmd = \"from bokeh.io.state import curstate; print(curstate().uuid_to_server['\" + server_id + \"'].get_sessions()[0].document.roots[0]._id)\";\n",
       "      cell.notebook.kernel.execute(cmd, {\n",
       "        iopub: {\n",
       "          output: function(msg) {\n",
       "            var element_id = msg.content.text.trim();\n",
       "            Bokeh.index[element_id].model.document.clear();\n",
       "            delete Bokeh.index[element_id];\n",
       "          }\n",
       "        }\n",
       "      });\n",
       "      // Destroy server and session\n",
       "      var cmd = \"import bokeh.io.notebook as ion; ion.destroy_server('\" + server_id + \"')\";\n",
       "      cell.notebook.kernel.execute(cmd);\n",
       "    }\n",
       "  }\n",
       "\n",
       "  /**\n",
       "   * Handle when a new output is added\n",
       "   */\n",
       "  function handleAddOutput(event, handle) {\n",
       "    var output_area = handle.output_area;\n",
       "    var output = handle.output;\n",
       "\n",
       "    // limit handleAddOutput to display_data with EXEC_MIME_TYPE content only\n",
       "    if ((output.output_type != \"display_data\") || (!output.data.hasOwnProperty(EXEC_MIME_TYPE))) {\n",
       "      return\n",
       "    }\n",
       "\n",
       "    var toinsert = output_area.element.find(\".\" + CLASS_NAME.split(' ')[0]);\n",
       "\n",
       "    if (output.metadata[EXEC_MIME_TYPE][\"id\"] !== undefined) {\n",
       "      toinsert[0].firstChild.textContent = output.data[JS_MIME_TYPE];\n",
       "      // store reference to embed id on output_area\n",
       "      output_area._bokeh_element_id = output.metadata[EXEC_MIME_TYPE][\"id\"];\n",
       "    }\n",
       "    if (output.metadata[EXEC_MIME_TYPE][\"server_id\"] !== undefined) {\n",
       "      var bk_div = document.createElement(\"div\");\n",
       "      bk_div.innerHTML = output.data[HTML_MIME_TYPE];\n",
       "      var script_attrs = bk_div.children[0].attributes;\n",
       "      for (var i = 0; i < script_attrs.length; i++) {\n",
       "        toinsert[0].firstChild.setAttribute(script_attrs[i].name, script_attrs[i].value);\n",
       "      }\n",
       "      // store reference to server id on output_area\n",
       "      output_area._bokeh_server_id = output.metadata[EXEC_MIME_TYPE][\"server_id\"];\n",
       "    }\n",
       "  }\n",
       "\n",
       "  function register_renderer(events, OutputArea) {\n",
       "\n",
       "    function append_mime(data, metadata, element) {\n",
       "      // create a DOM node to render to\n",
       "      var toinsert = this.create_output_subarea(\n",
       "        metadata,\n",
       "        CLASS_NAME,\n",
       "        EXEC_MIME_TYPE\n",
       "      );\n",
       "      this.keyboard_manager.register_events(toinsert);\n",
       "      // Render to node\n",
       "      var props = {data: data, metadata: metadata[EXEC_MIME_TYPE]};\n",
       "      render(props, toinsert[0]);\n",
       "      element.append(toinsert);\n",
       "      return toinsert\n",
       "    }\n",
       "\n",
       "    /* Handle when an output is cleared or removed */\n",
       "    events.on('clear_output.CodeCell', handleClearOutput);\n",
       "    events.on('delete.Cell', handleClearOutput);\n",
       "\n",
       "    /* Handle when a new output is added */\n",
       "    events.on('output_added.OutputArea', handleAddOutput);\n",
       "\n",
       "    /**\n",
       "     * Register the mime type and append_mime function with output_area\n",
       "     */\n",
       "    OutputArea.prototype.register_mime_type(EXEC_MIME_TYPE, append_mime, {\n",
       "      /* Is output safe? */\n",
       "      safe: true,\n",
       "      /* Index of renderer in `output_area.display_order` */\n",
       "      index: 0\n",
       "    });\n",
       "  }\n",
       "\n",
       "  // register the mime type if in Jupyter Notebook environment and previously unregistered\n",
       "  if (root.Jupyter !== undefined) {\n",
       "    var events = require('base/js/events');\n",
       "    var OutputArea = require('notebook/js/outputarea').OutputArea;\n",
       "\n",
       "    if (OutputArea.prototype.mime_types().indexOf(EXEC_MIME_TYPE) == -1) {\n",
       "      register_renderer(events, OutputArea);\n",
       "    }\n",
       "  }\n",
       "\n",
       "  \n",
       "  if (typeof (root._bokeh_timeout) === \"undefined\" || force === true) {\n",
       "    root._bokeh_timeout = Date.now() + 5000;\n",
       "    root._bokeh_failed_load = false;\n",
       "  }\n",
       "\n",
       "  var NB_LOAD_WARNING = {'data': {'text/html':\n",
       "     \"<div style='background-color: #fdd'>\\n\"+\n",
       "     \"<p>\\n\"+\n",
       "     \"BokehJS does not appear to have successfully loaded. If loading BokehJS from CDN, this \\n\"+\n",
       "     \"may be due to a slow or bad network connection. Possible fixes:\\n\"+\n",
       "     \"</p>\\n\"+\n",
       "     \"<ul>\\n\"+\n",
       "     \"<li>re-rerun `output_notebook()` to attempt to load from CDN again, or</li>\\n\"+\n",
       "     \"<li>use INLINE resources instead, as so:</li>\\n\"+\n",
       "     \"</ul>\\n\"+\n",
       "     \"<code>\\n\"+\n",
       "     \"from bokeh.resources import INLINE\\n\"+\n",
       "     \"output_notebook(resources=INLINE)\\n\"+\n",
       "     \"</code>\\n\"+\n",
       "     \"</div>\"}};\n",
       "\n",
       "  function display_loaded() {\n",
       "    var el = document.getElementById(\"897be06a-27e1-45e6-b765-0335ca680868\");\n",
       "    if (el != null) {\n",
       "      el.textContent = \"BokehJS is loading...\";\n",
       "    }\n",
       "    if (root.Bokeh !== undefined) {\n",
       "      if (el != null) {\n",
       "        el.textContent = \"BokehJS \" + root.Bokeh.version + \" successfully loaded.\";\n",
       "      }\n",
       "    } else if (Date.now() < root._bokeh_timeout) {\n",
       "      setTimeout(display_loaded, 100)\n",
       "    }\n",
       "  }\n",
       "\n",
       "\n",
       "  function run_callbacks() {\n",
       "    try {\n",
       "      root._bokeh_onload_callbacks.forEach(function(callback) { callback() });\n",
       "    }\n",
       "    finally {\n",
       "      delete root._bokeh_onload_callbacks\n",
       "    }\n",
       "    console.info(\"Bokeh: all callbacks have finished\");\n",
       "  }\n",
       "\n",
       "  function load_libs(js_urls, callback) {\n",
       "    root._bokeh_onload_callbacks.push(callback);\n",
       "    if (root._bokeh_is_loading > 0) {\n",
       "      console.log(\"Bokeh: BokehJS is being loaded, scheduling callback at\", now());\n",
       "      return null;\n",
       "    }\n",
       "    if (js_urls == null || js_urls.length === 0) {\n",
       "      run_callbacks();\n",
       "      return null;\n",
       "    }\n",
       "    console.log(\"Bokeh: BokehJS not loaded, scheduling load and callback at\", now());\n",
       "    root._bokeh_is_loading = js_urls.length;\n",
       "    for (var i = 0; i < js_urls.length; i++) {\n",
       "      var url = js_urls[i];\n",
       "      var s = document.createElement('script');\n",
       "      s.src = url;\n",
       "      s.async = false;\n",
       "      s.onreadystatechange = s.onload = function() {\n",
       "        root._bokeh_is_loading--;\n",
       "        if (root._bokeh_is_loading === 0) {\n",
       "          console.log(\"Bokeh: all BokehJS libraries loaded\");\n",
       "          run_callbacks()\n",
       "        }\n",
       "      };\n",
       "      s.onerror = function() {\n",
       "        console.warn(\"failed to load library \" + url);\n",
       "      };\n",
       "      console.log(\"Bokeh: injecting script tag for BokehJS library: \", url);\n",
       "      document.getElementsByTagName(\"head\")[0].appendChild(s);\n",
       "    }\n",
       "  };var element = document.getElementById(\"897be06a-27e1-45e6-b765-0335ca680868\");\n",
       "  if (element == null) {\n",
       "    console.log(\"Bokeh: ERROR: autoload.js configured with elementid '897be06a-27e1-45e6-b765-0335ca680868' but no matching script tag was found. \")\n",
       "    return false;\n",
       "  }\n",
       "\n",
       "  var js_urls = [\"https://cdn.pydata.org/bokeh/release/bokeh-0.12.13.min.js\", \"https://cdn.pydata.org/bokeh/release/bokeh-widgets-0.12.13.min.js\", \"https://cdn.pydata.org/bokeh/release/bokeh-tables-0.12.13.min.js\", \"https://cdn.pydata.org/bokeh/release/bokeh-gl-0.12.13.min.js\"];\n",
       "\n",
       "  var inline_js = [\n",
       "    function(Bokeh) {\n",
       "      Bokeh.set_log_level(\"info\");\n",
       "    },\n",
       "    \n",
       "    function(Bokeh) {\n",
       "      \n",
       "    },\n",
       "    function(Bokeh) {\n",
       "      console.log(\"Bokeh: injecting CSS: https://cdn.pydata.org/bokeh/release/bokeh-0.12.13.min.css\");\n",
       "      Bokeh.embed.inject_css(\"https://cdn.pydata.org/bokeh/release/bokeh-0.12.13.min.css\");\n",
       "      console.log(\"Bokeh: injecting CSS: https://cdn.pydata.org/bokeh/release/bokeh-widgets-0.12.13.min.css\");\n",
       "      Bokeh.embed.inject_css(\"https://cdn.pydata.org/bokeh/release/bokeh-widgets-0.12.13.min.css\");\n",
       "      console.log(\"Bokeh: injecting CSS: https://cdn.pydata.org/bokeh/release/bokeh-tables-0.12.13.min.css\");\n",
       "      Bokeh.embed.inject_css(\"https://cdn.pydata.org/bokeh/release/bokeh-tables-0.12.13.min.css\");\n",
       "    }\n",
       "  ];\n",
       "\n",
       "  function run_inline_js() {\n",
       "    \n",
       "    if ((root.Bokeh !== undefined) || (force === true)) {\n",
       "      for (var i = 0; i < inline_js.length; i++) {\n",
       "        inline_js[i].call(root, root.Bokeh);\n",
       "      }if (force === true) {\n",
       "        display_loaded();\n",
       "      }} else if (Date.now() < root._bokeh_timeout) {\n",
       "      setTimeout(run_inline_js, 100);\n",
       "    } else if (!root._bokeh_failed_load) {\n",
       "      console.log(\"Bokeh: BokehJS failed to load within specified timeout.\");\n",
       "      root._bokeh_failed_load = true;\n",
       "    } else if (force !== true) {\n",
       "      var cell = $(document.getElementById(\"897be06a-27e1-45e6-b765-0335ca680868\")).parents('.cell').data().cell;\n",
       "      cell.output_area.append_execute_result(NB_LOAD_WARNING)\n",
       "    }\n",
       "\n",
       "  }\n",
       "\n",
       "  if (root._bokeh_is_loading === 0) {\n",
       "    console.log(\"Bokeh: BokehJS loaded, going straight to plotting\");\n",
       "    run_inline_js();\n",
       "  } else {\n",
       "    load_libs(js_urls, function() {\n",
       "      console.log(\"Bokeh: BokehJS plotting callback run at\", now());\n",
       "      run_inline_js();\n",
       "    });\n",
       "  }\n",
       "}(window));"
      ],
      "application/vnd.bokehjs_load.v0+json": "\n(function(root) {\n  function now() {\n    return new Date();\n  }\n\n  var force = true;\n\n  if (typeof (root._bokeh_onload_callbacks) === \"undefined\" || force === true) {\n    root._bokeh_onload_callbacks = [];\n    root._bokeh_is_loading = undefined;\n  }\n\n  \n\n  \n  if (typeof (root._bokeh_timeout) === \"undefined\" || force === true) {\n    root._bokeh_timeout = Date.now() + 5000;\n    root._bokeh_failed_load = false;\n  }\n\n  var NB_LOAD_WARNING = {'data': {'text/html':\n     \"<div style='background-color: #fdd'>\\n\"+\n     \"<p>\\n\"+\n     \"BokehJS does not appear to have successfully loaded. If loading BokehJS from CDN, this \\n\"+\n     \"may be due to a slow or bad network connection. Possible fixes:\\n\"+\n     \"</p>\\n\"+\n     \"<ul>\\n\"+\n     \"<li>re-rerun `output_notebook()` to attempt to load from CDN again, or</li>\\n\"+\n     \"<li>use INLINE resources instead, as so:</li>\\n\"+\n     \"</ul>\\n\"+\n     \"<code>\\n\"+\n     \"from bokeh.resources import INLINE\\n\"+\n     \"output_notebook(resources=INLINE)\\n\"+\n     \"</code>\\n\"+\n     \"</div>\"}};\n\n  function display_loaded() {\n    var el = document.getElementById(\"897be06a-27e1-45e6-b765-0335ca680868\");\n    if (el != null) {\n      el.textContent = \"BokehJS is loading...\";\n    }\n    if (root.Bokeh !== undefined) {\n      if (el != null) {\n        el.textContent = \"BokehJS \" + root.Bokeh.version + \" successfully loaded.\";\n      }\n    } else if (Date.now() < root._bokeh_timeout) {\n      setTimeout(display_loaded, 100)\n    }\n  }\n\n\n  function run_callbacks() {\n    try {\n      root._bokeh_onload_callbacks.forEach(function(callback) { callback() });\n    }\n    finally {\n      delete root._bokeh_onload_callbacks\n    }\n    console.info(\"Bokeh: all callbacks have finished\");\n  }\n\n  function load_libs(js_urls, callback) {\n    root._bokeh_onload_callbacks.push(callback);\n    if (root._bokeh_is_loading > 0) {\n      console.log(\"Bokeh: BokehJS is being loaded, scheduling callback at\", now());\n      return null;\n    }\n    if (js_urls == null || js_urls.length === 0) {\n      run_callbacks();\n      return null;\n    }\n    console.log(\"Bokeh: BokehJS not loaded, scheduling load and callback at\", now());\n    root._bokeh_is_loading = js_urls.length;\n    for (var i = 0; i < js_urls.length; i++) {\n      var url = js_urls[i];\n      var s = document.createElement('script');\n      s.src = url;\n      s.async = false;\n      s.onreadystatechange = s.onload = function() {\n        root._bokeh_is_loading--;\n        if (root._bokeh_is_loading === 0) {\n          console.log(\"Bokeh: all BokehJS libraries loaded\");\n          run_callbacks()\n        }\n      };\n      s.onerror = function() {\n        console.warn(\"failed to load library \" + url);\n      };\n      console.log(\"Bokeh: injecting script tag for BokehJS library: \", url);\n      document.getElementsByTagName(\"head\")[0].appendChild(s);\n    }\n  };var element = document.getElementById(\"897be06a-27e1-45e6-b765-0335ca680868\");\n  if (element == null) {\n    console.log(\"Bokeh: ERROR: autoload.js configured with elementid '897be06a-27e1-45e6-b765-0335ca680868' but no matching script tag was found. \")\n    return false;\n  }\n\n  var js_urls = [\"https://cdn.pydata.org/bokeh/release/bokeh-0.12.13.min.js\", \"https://cdn.pydata.org/bokeh/release/bokeh-widgets-0.12.13.min.js\", \"https://cdn.pydata.org/bokeh/release/bokeh-tables-0.12.13.min.js\", \"https://cdn.pydata.org/bokeh/release/bokeh-gl-0.12.13.min.js\"];\n\n  var inline_js = [\n    function(Bokeh) {\n      Bokeh.set_log_level(\"info\");\n    },\n    \n    function(Bokeh) {\n      \n    },\n    function(Bokeh) {\n      console.log(\"Bokeh: injecting CSS: https://cdn.pydata.org/bokeh/release/bokeh-0.12.13.min.css\");\n      Bokeh.embed.inject_css(\"https://cdn.pydata.org/bokeh/release/bokeh-0.12.13.min.css\");\n      console.log(\"Bokeh: injecting CSS: https://cdn.pydata.org/bokeh/release/bokeh-widgets-0.12.13.min.css\");\n      Bokeh.embed.inject_css(\"https://cdn.pydata.org/bokeh/release/bokeh-widgets-0.12.13.min.css\");\n      console.log(\"Bokeh: injecting CSS: https://cdn.pydata.org/bokeh/release/bokeh-tables-0.12.13.min.css\");\n      Bokeh.embed.inject_css(\"https://cdn.pydata.org/bokeh/release/bokeh-tables-0.12.13.min.css\");\n    }\n  ];\n\n  function run_inline_js() {\n    \n    if ((root.Bokeh !== undefined) || (force === true)) {\n      for (var i = 0; i < inline_js.length; i++) {\n        inline_js[i].call(root, root.Bokeh);\n      }if (force === true) {\n        display_loaded();\n      }} else if (Date.now() < root._bokeh_timeout) {\n      setTimeout(run_inline_js, 100);\n    } else if (!root._bokeh_failed_load) {\n      console.log(\"Bokeh: BokehJS failed to load within specified timeout.\");\n      root._bokeh_failed_load = true;\n    } else if (force !== true) {\n      var cell = $(document.getElementById(\"897be06a-27e1-45e6-b765-0335ca680868\")).parents('.cell').data().cell;\n      cell.output_area.append_execute_result(NB_LOAD_WARNING)\n    }\n\n  }\n\n  if (root._bokeh_is_loading === 0) {\n    console.log(\"Bokeh: BokehJS loaded, going straight to plotting\");\n    run_inline_js();\n  } else {\n    load_libs(js_urls, function() {\n      console.log(\"Bokeh: BokehJS plotting callback run at\", now());\n      run_inline_js();\n    });\n  }\n}(window));"
     },
     "metadata": {},
     "output_type": "display_data"
    }
   ],
   "source": [
    "from bokeh.models import ColumnDataSource, LabelSet\n",
    "from bokeh.plotting import figure, show, output_file\n",
    "from bokeh.io import output_notebook\n",
    "output_notebook()"
   ]
  },
  {
   "cell_type": "markdown",
   "metadata": {},
   "source": [
    "### Part 0: Download the TED dataset"
   ]
  },
  {
   "cell_type": "code",
   "execution_count": 3,
   "metadata": {},
   "outputs": [],
   "source": [
    "import urllib.request\n",
    "import zipfile\n",
    "import lxml.etree"
   ]
  },
  {
   "cell_type": "code",
   "execution_count": 4,
   "metadata": {},
   "outputs": [],
   "source": [
    "# Download the dataset if it's not already there: this may take a minute as it is 75MB\n",
    "if not os.path.isfile('ted_en-20160408.zip'):\n",
    "    urllib.request.urlretrieve(\"https://wit3.fbk.eu/get.php?path=XML_releases/xml/ted_en-20160408.zip&filename=ted_en-20160408.zip\", filename=\"ted_en-20160408.zip\")"
   ]
  },
  {
   "cell_type": "code",
   "execution_count": 5,
   "metadata": {},
   "outputs": [],
   "source": [
    "# For now, we're only interested in the subtitle text, so let's extract that from the XML:\n",
    "with zipfile.ZipFile('ted_en-20160408.zip', 'r') as z:\n",
    "    doc = lxml.etree.parse(z.open('ted_en-20160408.xml', 'r'))\n",
    "input_text = '\\n'.join(doc.xpath('//content/text()'))\n",
    "del doc"
   ]
  },
  {
   "cell_type": "markdown",
   "metadata": {},
   "source": [
    "### Part 1: Preprocessing\n",
    "\n",
    "In this part, we attempt to clean up the raw subtitles a bit, so that we get only sentences. The following substring shows examples of what we're trying to get rid of. Since it's hard to define precisely what we want to get rid of, we'll just use some simple heuristics."
   ]
  },
  {
   "cell_type": "code",
   "execution_count": 6,
   "metadata": {
    "scrolled": false
   },
   "outputs": [
    {
     "data": {
      "text/plain": [
       "' baby does.\\n(Video) Hyowon Gweon: See this? (Ball squeaks) Did you see that? (Ball squeaks) Cool. See this one? (Ball squeaks) Wow.\\nLaura Schulz: Told you. (Laughs)\\n(Vide'"
      ]
     },
     "execution_count": 6,
     "metadata": {},
     "output_type": "execute_result"
    }
   ],
   "source": [
    "i = input_text.find(\"Hyowon Gweon: See this?\")\n",
    "input_text[i-20:i+150]"
   ]
  },
  {
   "cell_type": "markdown",
   "metadata": {},
   "source": [
    "Let's start by removing all parenthesized strings using a regex:"
   ]
  },
  {
   "cell_type": "code",
   "execution_count": 7,
   "metadata": {},
   "outputs": [],
   "source": [
    "input_text_noparens = re.sub(r'\\([^)]*\\)', '', input_text)"
   ]
  },
  {
   "cell_type": "markdown",
   "metadata": {},
   "source": [
    "We can verify the same location in the text is now clean as follows. We won't worry about the irregular spaces since we'll later split the text into sentences and tokenize it anyway."
   ]
  },
  {
   "cell_type": "code",
   "execution_count": 8,
   "metadata": {},
   "outputs": [
    {
     "data": {
      "text/plain": [
       "\"hat the baby does.\\n Hyowon Gweon: See this?  Did you see that?  Cool. See this one?  Wow.\\nLaura Schulz: Told you. \\n HG: See this one?  Hey Clara, this one's for you. You \""
      ]
     },
     "execution_count": 8,
     "metadata": {},
     "output_type": "execute_result"
    }
   ],
   "source": [
    "i = input_text_noparens.find(\"Hyowon Gweon: See this?\")\n",
    "input_text_noparens[i-20:i+150]"
   ]
  },
  {
   "cell_type": "markdown",
   "metadata": {},
   "source": [
    "Now, let's attempt to remove speakers' names that occur at the beginning of a line, by deleting pieces of the form \"`<up to 20 characters>:`\", as shown in this example. Of course, this is an imperfect heuristic. "
   ]
  },
  {
   "cell_type": "code",
   "execution_count": 9,
   "metadata": {},
   "outputs": [
    {
     "data": {
      "text/plain": [
       "[\"Here are two reasons companies fail: they only do more of the same, or they only do what's new\",\n",
       " 'To me the real, real solution to quality growth is figuring out the balance between two activities: exploration and exploitation',\n",
       " ' Both are necessary, but it can be too much of a good thing',\n",
       " 'Consider Facit',\n",
       " \" I'm actually old enough to remember them\"]"
      ]
     },
     "execution_count": 9,
     "metadata": {},
     "output_type": "execute_result"
    }
   ],
   "source": [
    "sentences_strings_ted = []\n",
    "for line in input_text_noparens.split('\\n'):\n",
    "    m = re.match(r'^(?:(?P<precolon>[^:]{,20}):)?(?P<postcolon>.*)$', line)\n",
    "    sentences_strings_ted.extend(sent for sent in m.groupdict()['postcolon'].split('.') if sent)\n",
    "\n",
    "# Uncomment if you need to save some RAM: these strings are about 50MB.\n",
    "# del input_text, input_text_noparens\n",
    "\n",
    "# Let's view the first few:\n",
    "sentences_strings_ted[:5]"
   ]
  },
  {
   "cell_type": "markdown",
   "metadata": {},
   "source": [
    "Now that we have sentences, we're ready to tokenize each of them into words. This tokenization is imperfect, of course. For instance, how many tokens is \"can't\", and where/how do we split it? We'll take the simplest naive approach of splitting on spaces. Before splitting, we remove non-alphanumeric characters, such as punctuation. You may want to consider the following question: why do we replace these characters with spaces rather than deleting them? Think of a case where this yields a different answer."
   ]
  },
  {
   "cell_type": "code",
   "execution_count": 10,
   "metadata": {},
   "outputs": [],
   "source": [
    "sentences_ted = []\n",
    "for sent_str in sentences_strings_ted:\n",
    "    tokens = re.sub(r\"[^a-z0-9]+\", \" \", sent_str.lower()).split()\n",
    "    sentences_ted.append(tokens)"
   ]
  },
  {
   "cell_type": "markdown",
   "metadata": {},
   "source": [
    "Two sample processed sentences:"
   ]
  },
  {
   "cell_type": "code",
   "execution_count": 11,
   "metadata": {},
   "outputs": [
    {
     "data": {
      "text/plain": [
       "266694"
      ]
     },
     "execution_count": 11,
     "metadata": {},
     "output_type": "execute_result"
    }
   ],
   "source": [
    "len(sentences_ted)"
   ]
  },
  {
   "cell_type": "code",
   "execution_count": 12,
   "metadata": {},
   "outputs": [
    {
     "name": "stdout",
     "output_type": "stream",
     "text": [
      "['here', 'are', 'two', 'reasons', 'companies', 'fail', 'they', 'only', 'do', 'more', 'of', 'the', 'same', 'or', 'they', 'only', 'do', 'what', 's', 'new']\n",
      "['to', 'me', 'the', 'real', 'real', 'solution', 'to', 'quality', 'growth', 'is', 'figuring', 'out', 'the', 'balance', 'between', 'two', 'activities', 'exploration', 'and', 'exploitation']\n"
     ]
    }
   ],
   "source": [
    "print(sentences_ted[0])\n",
    "print(sentences_ted[1])"
   ]
  },
  {
   "cell_type": "markdown",
   "metadata": {},
   "source": [
    "### Part 2: Word Frequencies"
   ]
  },
  {
   "cell_type": "markdown",
   "metadata": {},
   "source": [
    "If you store the counts of the top 1000 words in a list called `counts_ted_top1000`, the code below will plot the histogram requested in the writeup."
   ]
  },
  {
   "cell_type": "code",
   "execution_count": 13,
   "metadata": {},
   "outputs": [],
   "source": [
    "word_dict = {}\n",
    "for sentence_str in sentences_ted:\n",
    "    for word in sentence_str:\n",
    "        if word in word_dict:\n",
    "            word_dict[word]+=1\n",
    "        else:\n",
    "            word_dict[word]=1"
   ]
  },
  {
   "cell_type": "code",
   "execution_count": 14,
   "metadata": {},
   "outputs": [
    {
     "data": {
      "text/plain": [
       "54454"
      ]
     },
     "execution_count": 14,
     "metadata": {},
     "output_type": "execute_result"
    }
   ],
   "source": [
    "len(word_dict)"
   ]
  },
  {
   "cell_type": "code",
   "execution_count": 15,
   "metadata": {},
   "outputs": [],
   "source": [
    "counts_ted_top1000_tuple = sorted(word_dict.items(), key=lambda x:-x[1])\n",
    "counts_ted_top1000 = list(map(lambda x: int(x[1]),counts_ted_top1000_tuple))[0:1000]"
   ]
  },
  {
   "cell_type": "code",
   "execution_count": 57,
   "metadata": {},
   "outputs": [],
   "source": [
    "words_top_ted = list(map(lambda x: x[0],counts_ted_top1000_tuple))[0:1000]"
   ]
  },
  {
   "cell_type": "markdown",
   "metadata": {},
   "source": [
    "Plot distribution of top-1000 words"
   ]
  },
  {
   "cell_type": "code",
   "execution_count": 16,
   "metadata": {},
   "outputs": [
    {
     "data": {
      "text/html": [
       "\n",
       "<div class=\"bk-root\">\n",
       "    <div class=\"bk-plotdiv\" id=\"f64270db-08bd-43f2-9a49-37dd95b72d96\"></div>\n",
       "</div>"
      ]
     },
     "metadata": {},
     "output_type": "display_data"
    },
    {
     "data": {
      "application/javascript": [
       "(function(root) {\n",
       "  function embed_document(root) {\n",
       "    \n",
       "  var docs_json = {\"65061d60-7d91-47f5-b473-8b6a2a1d6cab\":{\"roots\":{\"references\":[{\"attributes\":{\"formatter\":{\"id\":\"a4a98557-738a-43d8-ab58-e05d1051b35d\",\"type\":\"BasicTickFormatter\"},\"plot\":{\"id\":\"76f1a11b-6950-473a-abb0-97aa8404d12d\",\"subtype\":\"Figure\",\"type\":\"Plot\"},\"ticker\":{\"id\":\"4db057f8-49fa-46af-b81f-14b65ca3adf1\",\"type\":\"BasicTicker\"}},\"id\":\"2bd849f9-0500-4164-bd67-3dcd741bdf87\",\"type\":\"LinearAxis\"},{\"attributes\":{\"callback\":null},\"id\":\"4086f6f1-2c64-4e23-b02f-beb869c8331a\",\"type\":\"DataRange1d\"},{\"attributes\":{\"formatter\":{\"id\":\"373be7e5-38d0-4aab-92c3-22c974f46d9c\",\"type\":\"BasicTickFormatter\"},\"plot\":{\"id\":\"76f1a11b-6950-473a-abb0-97aa8404d12d\",\"subtype\":\"Figure\",\"type\":\"Plot\"},\"ticker\":{\"id\":\"27dd625f-ff68-46f3-acd4-6067bdfeb03e\",\"type\":\"BasicTicker\"}},\"id\":\"741a1dbc-38fa-4430-ab1e-67dd57ce5fd3\",\"type\":\"LinearAxis\"},{\"attributes\":{},\"id\":\"763df0ae-4e84-42e8-9b04-f66ed9d508da\",\"type\":\"LinearScale\"},{\"attributes\":{\"data_source\":{\"id\":\"af9b35f7-973a-40e6-a833-9ee9498770d2\",\"type\":\"ColumnDataSource\"},\"glyph\":{\"id\":\"b8548c4e-1fe0-43a8-8475-d28fb5c052d7\",\"type\":\"Quad\"},\"hover_glyph\":null,\"muted_glyph\":null,\"nonselection_glyph\":{\"id\":\"b56b7dc9-50c9-4e35-b240-54b535c66840\",\"type\":\"Quad\"},\"selection_glyph\":null,\"view\":{\"id\":\"67b97690-9176-47a0-b6c2-91f9e9e385b9\",\"type\":\"CDSView\"}},\"id\":\"04136393-948b-43d6-8938-50ec94927dbf\",\"type\":\"GlyphRenderer\"},{\"attributes\":{},\"id\":\"27dd625f-ff68-46f3-acd4-6067bdfeb03e\",\"type\":\"BasicTicker\"},{\"attributes\":{\"active_drag\":\"auto\",\"active_inspect\":\"auto\",\"active_scroll\":\"auto\",\"active_tap\":\"auto\",\"tools\":[{\"id\":\"d00dc92d-66e9-47e3-b36f-46ad7c8ccb4f\",\"type\":\"PanTool\"},{\"id\":\"481c75fd-f087-419c-814d-cd3b3da4d4b8\",\"type\":\"WheelZoomTool\"},{\"id\":\"f9345a80-11e8-49e7-a8be-18c9019acab4\",\"type\":\"ResetTool\"},{\"id\":\"c0ba2748-45eb-46ee-88d6-f6ffdb64cba8\",\"type\":\"SaveTool\"}]},\"id\":\"00a206cd-f8ed-4b62-9cb0-a69b8fb6e89e\",\"type\":\"Toolbar\"},{\"attributes\":{\"dimension\":1,\"plot\":{\"id\":\"76f1a11b-6950-473a-abb0-97aa8404d12d\",\"subtype\":\"Figure\",\"type\":\"Plot\"},\"ticker\":{\"id\":\"27dd625f-ff68-46f3-acd4-6067bdfeb03e\",\"type\":\"BasicTicker\"}},\"id\":\"cf4bbddd-72eb-4814-98b6-8bcd42d30091\",\"type\":\"Grid\"},{\"attributes\":{},\"id\":\"4db057f8-49fa-46af-b81f-14b65ca3adf1\",\"type\":\"BasicTicker\"},{\"attributes\":{\"plot\":{\"id\":\"76f1a11b-6950-473a-abb0-97aa8404d12d\",\"subtype\":\"Figure\",\"type\":\"Plot\"},\"ticker\":{\"id\":\"4db057f8-49fa-46af-b81f-14b65ca3adf1\",\"type\":\"BasicTicker\"}},\"id\":\"d165dafa-da23-4d66-add0-29d7033354aa\",\"type\":\"Grid\"},{\"attributes\":{},\"id\":\"d00dc92d-66e9-47e3-b36f-46ad7c8ccb4f\",\"type\":\"PanTool\"},{\"attributes\":{\"source\":{\"id\":\"af9b35f7-973a-40e6-a833-9ee9498770d2\",\"type\":\"ColumnDataSource\"}},\"id\":\"67b97690-9176-47a0-b6c2-91f9e9e385b9\",\"type\":\"CDSView\"},{\"attributes\":{},\"id\":\"587211e4-cf0b-4911-9053-f42ca32fc505\",\"type\":\"LinearScale\"},{\"attributes\":{\"callback\":null,\"column_names\":[\"left\",\"right\",\"top\"],\"data\":{\"left\":{\"__ndarray__\":\"AAAAAABAeUB7FK5H4VqjQHsUrkfhxrFAuB6F61HguUB7FK5H4fzAQJqZmZmZCcVAuB6F61EWyUDXo3A9CiPNQHsUrkfhl9BACtejcD2e0kCamZmZmaTUQClcj8L1qtZAuB6F61Gx2EBI4XoUrrfaQNejcD0KvtxAZ2ZmZmbE3kB7FK5HYWXgQMP1KFyPaOFACtejcL1r4kBSuB6F627jQJqZmZkZcuRA4XoUrkd15UApXI/CdXjmQHE9Cteje+dAuB6F69F+6EAAAAAAAILpQEjhehQuhepAkML1KFyI60DXo3A9iovsQB+F61G4ju1AZ2ZmZuaR7kCuR+F6FJXvQHsUrkchTPBAH4XrUbjN8EDD9ShcT0/xQGdmZmbm0PFACtejcH1S8kCuR+F6FNTyQFK4HoWrVfNA9ihcj0LX80CamZmZ2Vj0QD4K16Nw2vRA4XoUrgdc9UCF61G4nt31QClcj8I1X/ZAzczMzMzg9kBxPQrXY2L3QBWuR+H64/dAuB6F65Fl+EBcj8L1KOf4QAAAAADAaPlApHA9Clfq+UBI4XoU7mv6QOxRuB6F7fpAkML1KBxv+0AzMzMzs/D7QNejcD1KcvxAexSuR+Hz/EAfhetReHX9QMP1KFwP9/1AZ2ZmZqZ4/kAK16NwPfr+QK5H4XrUe/9AUrgehWv9/0B7FK5HgT8AQc3MzMxMgABBH4XrURjBAEFxPQrX4wEBQcP1KFyvQgFBFa5H4XqDAUFnZmZmRsQBQbgehesRBQJBCtejcN1FAkFcj8L1qIYCQa5H4Xp0xwJBAAAAAEAIA0FSuB6FC0kDQaRwPQrXiQNB9ihcj6LKA0FI4XoUbgsEQZqZmZk5TARB7FG4HgWNBEE+Ctej0M0EQZDC9SicDgVB4XoUrmdPBUEzMzMzM5AFQYXrUbj+0AVB16NwPcoRBkEpXI/ClVIGQXsUrkdhkwZBzczMzCzUBkEfhetR+BQHQXE9CtfDVQdBw/UoXI+WB0EVrkfhWtcHQWdmZmYmGAhBuB6F6/FYCEEK16NwvZkIQVyPwvWI2ghBrkfhelQbCUE=\",\"dtype\":\"float64\",\"shape\":[100]},\"right\":{\"__ndarray__\":\"exSuR+Fao0B7FK5H4caxQLgehetR4LlAexSuR+H8wECamZmZmQnFQLgehetRFslA16NwPQojzUB7FK5H4ZfQQArXo3A9ntJAmpmZmZmk1EApXI/C9arWQLgehetRsdhASOF6FK632kDXo3A9Cr7cQGdmZmZmxN5AexSuR2Fl4EDD9Shcj2jhQArXo3C9a+JAUrgehetu40CamZmZGXLkQOF6FK5HdeVAKVyPwnV45kBxPQrXo3vnQLgehevRfuhAAAAAAACC6UBI4XoULoXqQJDC9ShciOtA16NwPYqL7EAfhetRuI7tQGdmZmbmke5ArkfhehSV70B7FK5HIUzwQB+F61G4zfBAw/UoXE9P8UBnZmZm5tDxQArXo3B9UvJArkfhehTU8kBSuB6Fq1XzQPYoXI9C1/NAmpmZmdlY9EA+CtejcNr0QOF6FK4HXPVAhetRuJ7d9UApXI/CNV/2QM3MzMzM4PZAcT0K12Ni90AVrkfh+uP3QLgeheuRZfhAXI/C9Sjn+EAAAAAAwGj5QKRwPQpX6vlASOF6FO5r+kDsUbgehe36QJDC9Sgcb/tAMzMzM7Pw+0DXo3A9SnL8QHsUrkfh8/xAH4XrUXh1/UDD9ShcD/f9QGdmZmameP5ACtejcD36/kCuR+F61Hv/QFK4HoVr/f9AexSuR4E/AEHNzMzMTIAAQR+F61EYwQBBcT0K1+MBAUHD9Shcr0IBQRWuR+F6gwFBZ2ZmZkbEAUG4HoXrEQUCQQrXo3DdRQJBXI/C9aiGAkGuR+F6dMcCQQAAAABACANBUrgehQtJA0GkcD0K14kDQfYoXI+iygNBSOF6FG4LBEGamZmZOUwEQexRuB4FjQRBPgrXo9DNBEGQwvUonA4FQeF6FK5nTwVBMzMzMzOQBUGF61G4/tAFQdejcD3KEQZBKVyPwpVSBkF7FK5HYZMGQc3MzMws1AZBH4XrUfgUB0FxPQrXw1UHQcP1KFyPlgdBFa5H4VrXB0FnZmZmJhgIQbgehevxWAhBCtejcL2ZCEFcj8L1iNoIQa5H4XpUGwlBAAAAACBcCUE=\",\"dtype\":\"float64\",\"shape\":[100]},\"top\":{\"__ndarray__\":\"50H1zNSBOT/ypb1tgHIBPwsriUb5Uew+zuTFiLI04j78kGUPxTHhPh40R25oQNY+zuTFiLI00j4pPQWW1y7APsTbB2FDRsg+JT0FltcuwD4tPQWW1y6wPi09BZbXLrA+JT0FltcuwD4tPQWW1y6gPiU9BZbXLrA+LT0FltcuoD4AAAAAAAAAADU9BZbXLqA+AAAAAAAAAAAAAAAAAAAAAAAAAAAAAAAAAAAAAAAAAAAAAAAAAAAAADU9BZbXLqA+AAAAAAAAAAAAAAAAAAAAAAAAAAAAAAAANT0FltcuoD4AAAAAAAAAAAAAAAAAAAAANT0FltcuoD4AAAAAAAAAACU9BZbXLqA+AAAAAAAAAAAlPQWW1y6gPkU9BZbXLqA+AAAAAAAAAAAlPQWW1y6gPgAAAAAAAAAAJT0FltcuoD4AAAAAAAAAAAAAAAAAAAAAAAAAAAAAAAAAAAAAAAAAAAAAAAAAAAAAJT0FltcuoD4AAAAAAAAAAAAAAAAAAAAAAAAAAAAAAAAAAAAAAAAAACU9BZbXLqA+AAAAAAAAAAAAAAAAAAAAAAAAAAAAAAAAAAAAAAAAAAAlPQWW1y6gPgAAAAAAAAAAAAAAAAAAAAAAAAAAAAAAAAAAAAAAAAAART0FltcuoD4AAAAAAAAAAAAAAAAAAAAAAAAAAAAAAAAAAAAAAAAAAAAAAAAAAAAAAAAAAAAAAAAAAAAAAAAAAAAAAAAAAAAAAAAAAAAAAAAAAAAAAAAAACU9BZbXLqA+AAAAAAAAAAAAAAAAAAAAAAAAAAAAAAAAAAAAAAAAAAAAAAAAAAAAAAAAAAAAAAAAAAAAAAAAAAAAAAAAAAAAAAAAAAAAAAAAAAAAAAAAAAAAAAAAAAAAAAAAAAAAAAAAAAAAAAAAAAAAAAAAAAAAAAAAAAAAAAAAAAAAAAAAAAAAAAAAAAAAAAAAAAAAAAAAAAAAAAAAAAAAAAAAAAAAAAAAAAAAAAAAAAAAAAAAAAAAAAAAAAAAAAAAAAAAAAAAAAAAAAAAAAAAAAAAAAAAAAAAAAAAAAAAJT0FltcuoD4=\",\"dtype\":\"float64\",\"shape\":[100]}}},\"id\":\"af9b35f7-973a-40e6-a833-9ee9498770d2\",\"type\":\"ColumnDataSource\"},{\"attributes\":{},\"id\":\"481c75fd-f087-419c-814d-cd3b3da4d4b8\",\"type\":\"WheelZoomTool\"},{\"attributes\":{},\"id\":\"f9345a80-11e8-49e7-a8be-18c9019acab4\",\"type\":\"ResetTool\"},{\"attributes\":{\"below\":[{\"id\":\"2bd849f9-0500-4164-bd67-3dcd741bdf87\",\"type\":\"LinearAxis\"}],\"left\":[{\"id\":\"741a1dbc-38fa-4430-ab1e-67dd57ce5fd3\",\"type\":\"LinearAxis\"}],\"renderers\":[{\"id\":\"2bd849f9-0500-4164-bd67-3dcd741bdf87\",\"type\":\"LinearAxis\"},{\"id\":\"d165dafa-da23-4d66-add0-29d7033354aa\",\"type\":\"Grid\"},{\"id\":\"741a1dbc-38fa-4430-ab1e-67dd57ce5fd3\",\"type\":\"LinearAxis\"},{\"id\":\"cf4bbddd-72eb-4814-98b6-8bcd42d30091\",\"type\":\"Grid\"},{\"id\":\"04136393-948b-43d6-8938-50ec94927dbf\",\"type\":\"GlyphRenderer\"}],\"title\":{\"id\":\"ec2eeda0-ebc6-454a-b1d0-1c10ac5f03d0\",\"type\":\"Title\"},\"toolbar\":{\"id\":\"00a206cd-f8ed-4b62-9cb0-a69b8fb6e89e\",\"type\":\"Toolbar\"},\"toolbar_location\":\"above\",\"x_range\":{\"id\":\"5bbada42-6e95-4001-aa67-471af9b44f26\",\"type\":\"DataRange1d\"},\"x_scale\":{\"id\":\"587211e4-cf0b-4911-9053-f42ca32fc505\",\"type\":\"LinearScale\"},\"y_range\":{\"id\":\"4086f6f1-2c64-4e23-b02f-beb869c8331a\",\"type\":\"DataRange1d\"},\"y_scale\":{\"id\":\"763df0ae-4e84-42e8-9b04-f66ed9d508da\",\"type\":\"LinearScale\"}},\"id\":\"76f1a11b-6950-473a-abb0-97aa8404d12d\",\"subtype\":\"Figure\",\"type\":\"Plot\"},{\"attributes\":{},\"id\":\"c0ba2748-45eb-46ee-88d6-f6ffdb64cba8\",\"type\":\"SaveTool\"},{\"attributes\":{},\"id\":\"a4a98557-738a-43d8-ab58-e05d1051b35d\",\"type\":\"BasicTickFormatter\"},{\"attributes\":{\"callback\":null},\"id\":\"5bbada42-6e95-4001-aa67-471af9b44f26\",\"type\":\"DataRange1d\"},{\"attributes\":{\"bottom\":{\"value\":0},\"fill_color\":{\"value\":\"#1f77b4\"},\"left\":{\"field\":\"left\"},\"line_color\":{\"value\":\"#555555\"},\"right\":{\"field\":\"right\"},\"top\":{\"field\":\"top\"}},\"id\":\"b8548c4e-1fe0-43a8-8475-d28fb5c052d7\",\"type\":\"Quad\"},{\"attributes\":{\"bottom\":{\"value\":0},\"fill_alpha\":{\"value\":0.1},\"fill_color\":{\"value\":\"#1f77b4\"},\"left\":{\"field\":\"left\"},\"line_alpha\":{\"value\":0.1},\"line_color\":{\"value\":\"#1f77b4\"},\"right\":{\"field\":\"right\"},\"top\":{\"field\":\"top\"}},\"id\":\"b56b7dc9-50c9-4e35-b240-54b535c66840\",\"type\":\"Quad\"},{\"attributes\":{\"plot\":null,\"text\":\"Top-1000 words distribution\"},\"id\":\"ec2eeda0-ebc6-454a-b1d0-1c10ac5f03d0\",\"type\":\"Title\"},{\"attributes\":{},\"id\":\"373be7e5-38d0-4aab-92c3-22c974f46d9c\",\"type\":\"BasicTickFormatter\"}],\"root_ids\":[\"76f1a11b-6950-473a-abb0-97aa8404d12d\"]},\"title\":\"Bokeh Application\",\"version\":\"0.12.13\"}};\n",
       "  var render_items = [{\"docid\":\"65061d60-7d91-47f5-b473-8b6a2a1d6cab\",\"elementid\":\"f64270db-08bd-43f2-9a49-37dd95b72d96\",\"modelid\":\"76f1a11b-6950-473a-abb0-97aa8404d12d\"}];\n",
       "  root.Bokeh.embed.embed_items_notebook(docs_json, render_items);\n",
       "\n",
       "  }\n",
       "  if (root.Bokeh !== undefined) {\n",
       "    embed_document(root);\n",
       "  } else {\n",
       "    var attempts = 0;\n",
       "    var timer = setInterval(function(root) {\n",
       "      if (root.Bokeh !== undefined) {\n",
       "        embed_document(root);\n",
       "        clearInterval(timer);\n",
       "      }\n",
       "      attempts++;\n",
       "      if (attempts > 100) {\n",
       "        console.log(\"Bokeh: ERROR: Unable to run BokehJS code because BokehJS library is missing\")\n",
       "        clearInterval(timer);\n",
       "      }\n",
       "    }, 10, root)\n",
       "  }\n",
       "})(window);"
      ],
      "application/vnd.bokehjs_exec.v0+json": ""
     },
     "metadata": {
      "application/vnd.bokehjs_exec.v0+json": {
       "id": "76f1a11b-6950-473a-abb0-97aa8404d12d"
      }
     },
     "output_type": "display_data"
    }
   ],
   "source": [
    "hist, edges = np.histogram(counts_ted_top1000, density=True, bins=100, normed=True)\n",
    "\n",
    "p = figure(tools=\"pan,wheel_zoom,reset,save\",\n",
    "           toolbar_location=\"above\",\n",
    "           title=\"Top-1000 words distribution\")\n",
    "p.quad(top=hist, bottom=0, left=edges[:-1], right=edges[1:], line_color=\"#555555\")\n",
    "show(p)"
   ]
  },
  {
   "cell_type": "markdown",
   "metadata": {},
   "source": [
    "### Part 3: Train Word2Vec"
   ]
  },
  {
   "cell_type": "code",
   "execution_count": 18,
   "metadata": {},
   "outputs": [],
   "source": [
    "from gensim.models import Word2Vec"
   ]
  },
  {
   "cell_type": "code",
   "execution_count": 19,
   "metadata": {},
   "outputs": [],
   "source": [
    "model_ted = Word2Vec(sentences_ted, min_count=10)"
   ]
  },
  {
   "cell_type": "code",
   "execution_count": 36,
   "metadata": {},
   "outputs": [
    {
     "data": {
      "text/plain": [
       "14427"
      ]
     },
     "execution_count": 36,
     "metadata": {},
     "output_type": "execute_result"
    }
   ],
   "source": [
    "len(model_ted.wv.vocab)"
   ]
  },
  {
   "cell_type": "markdown",
   "metadata": {},
   "source": [
    "### Part 4: Ted Learnt Representations"
   ]
  },
  {
   "cell_type": "markdown",
   "metadata": {},
   "source": [
    "Finding similar words: (see gensim docs for more functionality of `most_similar`)"
   ]
  },
  {
   "cell_type": "code",
   "execution_count": 46,
   "metadata": {},
   "outputs": [
    {
     "data": {
      "text/plain": [
       "[('woman', 0.8457483649253845),\n",
       " ('guy', 0.8256943225860596),\n",
       " ('lady', 0.7865980863571167),\n",
       " ('gentleman', 0.7724959850311279),\n",
       " ('soldier', 0.7602518796920776),\n",
       " ('boy', 0.7510353326797485),\n",
       " ('girl', 0.7372521162033081),\n",
       " ('kid', 0.7025079727172852),\n",
       " ('surgeon', 0.6831142902374268),\n",
       " ('rabbi', 0.676139235496521)]"
      ]
     },
     "execution_count": 46,
     "metadata": {},
     "output_type": "execute_result"
    }
   ],
   "source": [
    "model_ted.wv.most_similar(\"man\")"
   ]
  },
  {
   "cell_type": "code",
   "execution_count": 47,
   "metadata": {},
   "outputs": [
    {
     "data": {
      "text/plain": [
       "[('machine', 0.7295936346054077),\n",
       " ('software', 0.7248227000236511),\n",
       " ('robot', 0.692204475402832),\n",
       " ('program', 0.6568593978881836),\n",
       " ('device', 0.643268883228302),\n",
       " ('3d', 0.6412458419799805),\n",
       " ('interface', 0.6358497142791748),\n",
       " ('chip', 0.6304893493652344),\n",
       " ('mechanical', 0.6278794407844543),\n",
       " ('video', 0.6180953979492188)]"
      ]
     },
     "execution_count": 47,
     "metadata": {},
     "output_type": "execute_result"
    }
   ],
   "source": [
    "model_ted.wv.most_similar(\"computer\")"
   ]
  },
  {
   "cell_type": "code",
   "execution_count": 49,
   "metadata": {},
   "outputs": [
    {
     "data": {
      "text/plain": [
       "[('guy', 0.6942595839500427),\n",
       " ('kid', 0.6854121685028076),\n",
       " ('film', 0.6846330165863037),\n",
       " ('piano', 0.6833221912384033),\n",
       " ('surgeon', 0.6784018278121948),\n",
       " ('lady', 0.6699389815330505)]"
      ]
     },
     "execution_count": 49,
     "metadata": {},
     "output_type": "execute_result"
    }
   ],
   "source": [
    "model_ted.wv.most_similar(positive=['man', 'computer'], topn=6)"
   ]
  },
  {
   "cell_type": "code",
   "execution_count": 48,
   "metadata": {},
   "outputs": [
    {
     "data": {
      "text/plain": [
       "[('amy', 0.8000012636184692),\n",
       " ('emily', 0.7871090769767761),\n",
       " ('boy', 0.7644047141075134),\n",
       " ('pianist', 0.7494537830352783),\n",
       " ('robinson', 0.7484829425811768),\n",
       " ('bride', 0.74388587474823),\n",
       " ('dancer', 0.736926794052124),\n",
       " ('princess', 0.7311553955078125),\n",
       " ('mary', 0.7305142879486084),\n",
       " ('jones', 0.7238016128540039),\n",
       " ('dickinson', 0.7232913970947266)]"
      ]
     },
     "execution_count": 48,
     "metadata": {},
     "output_type": "execute_result"
    }
   ],
   "source": [
    "model_ted.wv.most_similar(positive=['fuck','girl'], topn=11)"
   ]
  },
  {
   "cell_type": "code",
   "execution_count": 50,
   "metadata": {},
   "outputs": [
    {
     "data": {
      "text/plain": [
       "[('teacher', 0.7765592932701111),\n",
       " ('college', 0.7705076932907104),\n",
       " ('student', 0.739568829536438),\n",
       " ('hospital', 0.729615330696106),\n",
       " ('clinic', 0.6952590942382812),\n",
       " ('mom', 0.6917791366577148),\n",
       " ('friend', 0.6883143186569214),\n",
       " ('dad', 0.6882261037826538),\n",
       " ('office', 0.6880638599395752),\n",
       " ('husband', 0.6878767013549805),\n",
       " ('kid', 0.6866960525512695)]"
      ]
     },
     "execution_count": 50,
     "metadata": {},
     "output_type": "execute_result"
    }
   ],
   "source": [
    "model_ted.wv.most_similar(positive=['school','doctor'], topn=11)"
   ]
  },
  {
   "cell_type": "code",
   "execution_count": 51,
   "metadata": {},
   "outputs": [
    {
     "data": {
      "text/plain": [
       "[('sweetheart', 0.8207674026489258),\n",
       " ('thanking', 0.8143536448478699),\n",
       " ('whispering', 0.8123565316200256),\n",
       " ('escaping', 0.8089722394943237),\n",
       " ('anthony', 0.8050616383552551),\n",
       " ('successor', 0.803871750831604),\n",
       " ('gabriel', 0.8005318641662598),\n",
       " ('pupils', 0.7905108332633972),\n",
       " ('reassure', 0.7881026268005371),\n",
       " ('violate', 0.7876425385475159),\n",
       " ('sermons', 0.7864512205123901)]"
      ]
     },
     "execution_count": 51,
     "metadata": {},
     "output_type": "execute_result"
    }
   ],
   "source": [
    "model_ted.wv.most_similar(positive=['trump','ass'], topn=11)"
   ]
  },
  {
   "cell_type": "code",
   "execution_count": 61,
   "metadata": {},
   "outputs": [
    {
     "data": {
      "text/plain": [
       "[('spend', 0.6648608446121216),\n",
       " ('lived', 0.5705054402351379),\n",
       " ('lost', 0.5593311190605164),\n",
       " ('worked', 0.54289710521698),\n",
       " ('experienced', 0.5374667644500732),\n",
       " ('started', 0.530876100063324),\n",
       " ('gained', 0.5300005674362183),\n",
       " ('received', 0.5267026424407959),\n",
       " ('met', 0.5264135599136353),\n",
       " ('reached', 0.5210707187652588),\n",
       " ('watched', 0.517153799533844)]"
      ]
     },
     "execution_count": 61,
     "metadata": {},
     "output_type": "execute_result"
    }
   ],
   "source": [
    "model_ted.wv.most_similar(positive=['spent'], topn=11)"
   ]
  },
  {
   "cell_type": "code",
   "execution_count": 62,
   "metadata": {},
   "outputs": [
    {
     "data": {
      "text/plain": [
       "[('20', 0.9395052194595337),\n",
       " ('40', 0.9344936013221741),\n",
       " ('50', 0.923672080039978),\n",
       " ('25', 0.9102098345756531),\n",
       " ('60', 0.9044216871261597),\n",
       " ('15', 0.9041323065757751),\n",
       " ('10', 0.900549590587616),\n",
       " ('45', 0.8952577710151672),\n",
       " ('35', 0.8781905174255371),\n",
       " ('200', 0.8705756664276123),\n",
       " ('ten', 0.8642096519470215)]"
      ]
     },
     "execution_count": 62,
     "metadata": {},
     "output_type": "execute_result"
    }
   ],
   "source": [
    "model_ted.wv.most_similar(positive=['30'], topn=11)"
   ]
  },
  {
   "cell_type": "markdown",
   "metadata": {},
   "source": [
    "#### t-SNE visualization\n",
    "To use the t-SNE code below, first put a list of the top 1000 words (as strings) into a variable `words_top_ted`. The following code gets the corresponding vectors from the model, assuming it's called `model_ted`:"
   ]
  },
  {
   "cell_type": "code",
   "execution_count": 58,
   "metadata": {},
   "outputs": [
    {
     "name": "stderr",
     "output_type": "stream",
     "text": [
      "/anaconda3/lib/python3.6/site-packages/ipykernel_launcher.py:2: DeprecationWarning: Call to deprecated `__getitem__` (Method will be removed in 4.0.0, use self.wv.__getitem__() instead).\n",
      "  \n"
     ]
    }
   ],
   "source": [
    "# This assumes words_top_ted is a list of strings, the top 1000 words\n",
    "words_top_vec_ted = model_ted[words_top_ted]"
   ]
  },
  {
   "cell_type": "code",
   "execution_count": 59,
   "metadata": {},
   "outputs": [],
   "source": [
    "from sklearn.manifold import TSNE\n",
    "tsne = TSNE(n_components=2, random_state=0)\n",
    "words_top_ted_tsne = tsne.fit_transform(words_top_vec_ted)"
   ]
  },
  {
   "cell_type": "code",
   "execution_count": 60,
   "metadata": {},
   "outputs": [
    {
     "data": {
      "text/html": [
       "\n",
       "<div class=\"bk-root\">\n",
       "    <div class=\"bk-plotdiv\" id=\"b987109a-1962-4e83-bf0c-663e204e7ff7\"></div>\n",
       "</div>"
      ]
     },
     "metadata": {},
     "output_type": "display_data"
    },
    {
     "data": {
      "application/javascript": [
       "(function(root) {\n",
       "  function embed_document(root) {\n",
       "    \n",
       "  var docs_json = {\"00f6dd77-5849-457d-9fae-ff5a8315d31b\":{\"roots\":{\"references\":[{\"attributes\":{\"callback\":null},\"id\":\"a43e5cb1-24f7-4af0-89c9-c63906c94a79\",\"type\":\"DataRange1d\"},{\"attributes\":{},\"id\":\"71d5debd-298d-437e-9c30-bcfbf496ba7a\",\"type\":\"PanTool\"},{\"attributes\":{\"data_source\":{\"id\":\"7b36f2c8-2996-4a42-b731-1c9e6151dfff\",\"type\":\"ColumnDataSource\"},\"glyph\":{\"id\":\"5586ae79-fa78-4e0a-98fb-4993cd75fd1f\",\"type\":\"Circle\"},\"hover_glyph\":null,\"muted_glyph\":null,\"nonselection_glyph\":{\"id\":\"d2180e91-9d9b-4d8e-9dfa-8766a247bec0\",\"type\":\"Circle\"},\"selection_glyph\":null,\"view\":{\"id\":\"1bbc3690-c3e9-4c5b-9c7d-bbd976e4874c\",\"type\":\"CDSView\"}},\"id\":\"f10825c8-6bed-4380-acda-642575d18375\",\"type\":\"GlyphRenderer\"},{\"attributes\":{\"fill_color\":{\"value\":\"#1f77b4\"},\"line_color\":{\"value\":\"#1f77b4\"},\"size\":{\"units\":\"screen\",\"value\":8},\"x\":{\"field\":\"x1\"},\"y\":{\"field\":\"x2\"}},\"id\":\"5586ae79-fa78-4e0a-98fb-4993cd75fd1f\",\"type\":\"Circle\"},{\"attributes\":{},\"id\":\"f7f86d49-fb3a-4c2d-9875-310bb74d57ba\",\"type\":\"ResetTool\"},{\"attributes\":{},\"id\":\"8ad644dd-f7fb-4e13-8f10-c2d011a62430\",\"type\":\"BasicTickFormatter\"},{\"attributes\":{\"below\":[{\"id\":\"9f00879b-37d5-4afa-b101-d3797c921717\",\"type\":\"LinearAxis\"}],\"left\":[{\"id\":\"2534717e-583d-4e31-b22d-75d76401e3d2\",\"type\":\"LinearAxis\"}],\"renderers\":[{\"id\":\"9f00879b-37d5-4afa-b101-d3797c921717\",\"type\":\"LinearAxis\"},{\"id\":\"5bb99415-e91a-46ea-b2f4-2867030c5595\",\"type\":\"Grid\"},{\"id\":\"2534717e-583d-4e31-b22d-75d76401e3d2\",\"type\":\"LinearAxis\"},{\"id\":\"79c57230-a91c-4c8c-9811-d55bf7624863\",\"type\":\"Grid\"},{\"id\":\"f10825c8-6bed-4380-acda-642575d18375\",\"type\":\"GlyphRenderer\"},{\"id\":\"7ee394bb-5dec-4706-bbae-cb91c269b3d2\",\"type\":\"LabelSet\"}],\"title\":{\"id\":\"af9c902d-711d-4591-9abf-6b30c455ff9a\",\"type\":\"Title\"},\"toolbar\":{\"id\":\"3edefaf2-cde8-4adf-9b69-86cddbda4654\",\"type\":\"Toolbar\"},\"toolbar_location\":\"above\",\"x_range\":{\"id\":\"12cd392a-05c0-4d35-8406-52dcb4a4b5f4\",\"type\":\"DataRange1d\"},\"x_scale\":{\"id\":\"c49ea292-8543-40f5-9c18-63a04a8463e0\",\"type\":\"LinearScale\"},\"y_range\":{\"id\":\"a43e5cb1-24f7-4af0-89c9-c63906c94a79\",\"type\":\"DataRange1d\"},\"y_scale\":{\"id\":\"486fbd93-a681-4148-bf16-42b373e912ac\",\"type\":\"LinearScale\"}},\"id\":\"d5c390fa-1dac-46e2-9e4f-1ca81bbeddd7\",\"subtype\":\"Figure\",\"type\":\"Plot\"},{\"attributes\":{},\"id\":\"e328f573-fb86-4b9d-b50c-b8559e7c098a\",\"type\":\"SaveTool\"},{\"attributes\":{},\"id\":\"4d07aecf-e3b1-4e6a-b43e-487271c2cbb3\",\"type\":\"BasicTickFormatter\"},{\"attributes\":{\"callback\":null,\"column_names\":[\"x1\",\"x2\",\"names\"],\"data\":{\"names\":[\"the\",\"and\",\"to\",\"of\",\"a\",\"that\",\"i\",\"in\",\"it\",\"you\",\"we\",\"is\",\"s\",\"this\",\"so\",\"they\",\"was\",\"for\",\"are\",\"have\",\"but\",\"what\",\"on\",\"with\",\"can\",\"t\",\"about\",\"there\",\"be\",\"as\",\"at\",\"all\",\"not\",\"do\",\"my\",\"one\",\"re\",\"people\",\"like\",\"if\",\"from\",\"now\",\"our\",\"he\",\"an\",\"just\",\"these\",\"or\",\"when\",\"because\",\"very\",\"me\",\"out\",\"by\",\"them\",\"how\",\"know\",\"up\",\"going\",\"had\",\"more\",\"think\",\"who\",\"were\",\"see\",\"your\",\"their\",\"which\",\"would\",\"here\",\"really\",\"get\",\"ve\",\"then\",\"m\",\"world\",\"us\",\"time\",\"some\",\"has\",\"don\",\"actually\",\"into\",\"way\",\"where\",\"will\",\"years\",\"things\",\"other\",\"no\",\"could\",\"go\",\"well\",\"want\",\"been\",\"make\",\"right\",\"she\",\"said\",\"something\",\"those\",\"first\",\"two\",\"than\",\"much\",\"also\",\"look\",\"new\",\"thing\",\"little\",\"got\",\"back\",\"over\",\"most\",\"say\",\"even\",\"his\",\"life\",\"only\",\"work\",\"many\",\"take\",\"need\",\"did\",\"lot\",\"kind\",\"why\",\"good\",\"around\",\"every\",\"different\",\"down\",\"ll\",\"let\",\"her\",\"through\",\"same\",\"being\",\"come\",\"d\",\"day\",\"year\",\"three\",\"use\",\"doing\",\"put\",\"called\",\"any\",\"today\",\"percent\",\"made\",\"after\",\"thank\",\"tell\",\"great\",\"human\",\"find\",\"didn\",\"fact\",\"talk\",\"change\",\"started\",\"another\",\"idea\",\"big\",\"last\",\"own\",\"before\",\"its\",\"never\",\"should\",\"better\",\"give\",\"thought\",\"went\",\"might\",\"important\",\"000\",\"again\",\"able\",\"together\",\"still\",\"problem\",\"off\",\"next\",\"part\",\"course\",\"system\",\"him\",\"does\",\"each\",\"start\",\"show\",\"long\",\"ago\",\"story\",\"came\",\"brain\",\"few\",\"bit\",\"between\",\"used\",\"place\",\"technology\",\"women\",\"too\",\"old\",\"mean\",\"data\",\"water\",\"looking\",\"question\",\"maybe\",\"found\",\"love\",\"doesn\",\"end\",\"example\",\"10\",\"done\",\"point\",\"four\",\"real\",\"wanted\",\"ever\",\"school\",\"understand\",\"sort\",\"live\",\"call\",\"whole\",\"children\",\"always\",\"trying\",\"may\",\"person\",\"away\",\"believe\",\"feel\",\"try\",\"million\",\"working\",\"help\",\"everything\",\"five\",\"country\",\"thinking\",\"second\",\"using\",\"information\",\"money\",\"means\",\"power\",\"took\",\"times\",\"high\",\"space\",\"number\",\"kids\",\"home\",\"become\",\"create\",\"small\",\"design\",\"making\",\"best\",\"left\",\"getting\",\"future\",\"enough\",\"man\",\"quite\",\"city\",\"without\",\"sense\",\"happened\",\"comes\",\"social\",\"probably\",\"less\",\"light\",\"talking\",\"energy\",\"am\",\"building\",\"science\",\"food\",\"body\",\"told\",\"interesting\",\"ask\",\"half\",\"pretty\",\"hard\",\"play\",\"anything\",\"lives\",\"countries\",\"coming\",\"such\",\"family\",\"stuff\",\"dollars\",\"earth\",\"moment\",\"20\",\"imagine\",\"across\",\"side\",\"while\",\"saw\",\"happen\",\"once\",\"okay\",\"build\",\"having\",\"men\",\"later\",\"experience\",\"makes\",\"asked\",\"living\",\"seen\",\"says\",\"room\",\"hand\",\"simple\",\"health\",\"ways\",\"else\",\"case\",\"yet\",\"almost\",\"young\",\"days\",\"nothing\",\"care\",\"bad\",\"happens\",\"goes\",\"move\",\"states\",\"reason\",\"computer\",\"open\",\"learn\",\"africa\",\"process\",\"inside\",\"someone\",\"six\",\"far\",\"mind\",\"project\",\"remember\",\"single\",\"picture\",\"both\",\"whether\",\"problems\",\"saying\",\"community\",\"basically\",\"already\",\"within\",\"looked\",\"myself\",\"billion\",\"often\",\"possible\",\"business\",\"planet\",\"global\",\"everybody\",\"top\",\"sure\",\"public\",\"set\",\"wrong\",\"car\",\"book\",\"keep\",\"yes\",\"answer\",\"oh\",\"hope\",\"sometimes\",\"true\",\"history\",\"war\",\"guy\",\"child\",\"instead\",\"months\",\"ideas\",\"looks\",\"matter\",\"government\",\"amazing\",\"united\",\"since\",\"bring\",\"age\",\"cells\",\"job\",\"heard\",\"until\",\"face\",\"wasn\",\"100\",\"read\",\"control\",\"isn\",\"research\",\"30\",\"words\",\"u\",\"group\",\"under\",\"self\",\"somebody\",\"built\",\"state\",\"woman\",\"turn\",\"friends\",\"beautiful\",\"line\",\"knew\",\"couple\",\"order\",\"form\",\"yeah\",\"internet\",\"middle\",\"music\",\"piece\",\"nature\",\"head\",\"though\",\"stop\",\"everyone\",\"50\",\"places\",\"video\",\"learned\",\"language\",\"run\",\"night\",\"decided\",\"study\",\"word\",\"cancer\",\"taking\",\"works\",\"became\",\"exactly\",\"species\",\"society\",\"completely\",\"education\",\"against\",\"stories\",\"large\",\"share\",\"level\",\"heart\",\"america\",\"model\",\"questions\",\"gets\",\"mother\",\"god\",\"company\",\"turns\",\"ourselves\",\"happening\",\"hear\",\"art\",\"themselves\",\"must\",\"itself\",\"rather\",\"kinds\",\"students\",\"name\",\"hours\",\"disease\",\"front\",\"house\",\"huge\",\"couldn\",\"created\",\"universe\",\"ok\",\"animals\",\"american\",\"environment\",\"worked\",\"minutes\",\"ones\",\"black\",\"perhaps\",\"1\",\"past\",\"third\",\"along\",\"others\",\"finally\",\"sound\",\"early\",\"game\",\"thousands\",\"century\",\"based\",\"least\",\"per\",\"ted\",\"lots\",\"figure\",\"free\",\"guys\",\"particular\",\"happy\",\"news\",\"learning\",\"entire\",\"won\",\"gave\",\"machine\",\"india\",\"during\",\"systems\",\"air\",\"difference\",\"outside\",\"natural\",\"taken\",\"seven\",\"given\",\"changed\",\"leave\",\"cell\",\"15\",\"close\",\"behind\",\"cities\",\"full\",\"scale\",\"difficult\",\"china\",\"takes\",\"companies\",\"yourself\",\"area\",\"reality\",\"seeing\",\"easy\",\"turned\",\"cost\",\"eyes\",\"team\",\"moving\",\"population\",\"culture\",\"york\",\"hands\",\"whatever\",\"began\",\"needs\",\"terms\",\"image\",\"simply\",\"needed\",\"beginning\",\"father\",\"local\",\"realized\",\"media\",\"death\",\"parents\",\"view\",\"walk\",\"white\",\"market\",\"parts\",\"ocean\",\"economic\",\"eight\",\"powerful\",\"known\",\"week\",\"size\",\"felt\",\"humans\",\"certain\",\"spend\",\"longer\",\"phone\",\"wonderful\",\"cannot\",\"grow\",\"common\",\"center\",\"tried\",\"fish\",\"land\",\"oil\",\"political\",\"interested\",\"deal\",\"red\",\"gone\",\"amount\",\"weeks\",\"spent\",\"opportunity\",\"paper\",\"lost\",\"national\",\"quickly\",\"blue\",\"step\",\"poor\",\"green\",\"buy\",\"growth\",\"wouldn\",\"either\",\"patients\",\"sitting\",\"ability\",\"changes\",\"write\",\"challenge\",\"south\",\"low\",\"growing\",\"friend\",\"field\",\"shows\",\"2\",\"born\",\"rest\",\"climate\",\"40\",\"test\",\"street\",\"surface\",\"incredible\",\"average\",\"physical\",\"morning\",\"scientists\",\"program\",\"pay\",\"value\",\"feeling\",\"hundreds\",\"girl\",\"met\",\"behavior\",\"economy\",\"dna\",\"complex\",\"access\",\"risk\",\"animal\",\"structure\",\"feet\",\"attention\",\"areas\",\"anyone\",\"deep\",\"watch\",\"short\",\"absolutely\",\"speak\",\"brought\",\"die\",\"bottom\",\"numbers\",\"audience\",\"stage\",\"realize\",\"law\",\"images\",\"wrote\",\"understanding\",\"knowledge\",\"literally\",\"books\",\"movement\",\"ground\",\"giving\",\"eat\",\"force\",\"seems\",\"alone\",\"telling\",\"starting\",\"hold\",\"nice\",\"forward\",\"sea\",\"developed\",\"individual\",\"kid\",\"millions\",\"support\",\"miles\",\"tools\",\"running\",\"online\",\"result\",\"act\",\"medical\",\"technologies\",\"north\",\"lab\",\"development\",\"blood\",\"fear\",\"nobody\",\"map\",\"personal\",\"issue\",\"voice\",\"material\",\"key\",\"12\",\"recently\",\"theory\",\"cut\",\"cars\",\"sun\",\"fast\",\"changing\",\"playing\",\"clear\",\"especially\",\"soon\",\"girls\",\"patient\",\"choice\",\"fly\",\"creating\",\"normal\",\"discovered\",\"europe\",\"talked\",\"relationship\",\"gives\",\"generation\",\"dark\",\"type\",\"showed\",\"chance\",\"seem\",\"industry\",\"asking\",\"rate\",\"fun\",\"issues\",\"color\",\"designed\",\"hour\",\"university\",\"innovation\",\"several\",\"class\",\"computers\",\"english\",\"tiny\",\"allow\",\"save\",\"focus\",\"digital\",\"solve\",\"developing\",\"network\",\"film\",\"special\",\"wall\",\"situation\",\"baby\",\"solution\",\"reasons\",\"box\",\"knows\",\"meet\",\"dead\",\"stand\",\"begin\",\"haven\",\"impact\",\"anybody\",\"term\",\"beyond\",\"pictures\",\"please\",\"ice\",\"produce\",\"shape\",\"non\",\"resources\",\"robot\",\"cool\",\"groups\",\"likely\",\"stay\",\"available\",\"truth\",\"rights\",\"major\",\"cause\",\"evidence\",\"obviously\",\"writing\",\"experiment\",\"modern\",\"drug\",\"becomes\",\"incredibly\",\"aren\",\"bigger\",\"guess\",\"nine\",\"product\",\"drugs\",\"lived\",\"involved\",\"perfect\",\"google\",\"month\",\"effect\",\"similar\",\"putting\",\"eye\",\"pick\",\"message\",\"quality\",\"violence\",\"web\",\"evolution\",\"security\",\"office\",\"basic\",\"solar\",\"indeed\",\"general\",\"towards\",\"present\",\"drive\",\"send\",\"listen\",\"worth\",\"revolution\",\"explain\",\"hundred\",\"certainly\",\"died\",\"ready\",\"teach\",\"journey\",\"25\",\"hit\",\"walking\",\"led\",\"approach\",\"international\",\"200\",\"scientific\",\"games\",\"60\",\"potential\",\"crazy\",\"communities\",\"chinese\",\"device\",\"source\",\"camera\",\"rules\",\"sex\",\"carbon\",\"sounds\",\"boy\",\"reach\",\"starts\",\"examples\",\"west\",\"3\",\"success\",\"measure\",\"particularly\",\"software\",\"totally\",\"suddenly\",\"action\",\"college\",\"higher\",\"code\",\"eventually\",\"democracy\",\"among\",\"minute\",\"sit\",\"largest\",\"showing\",\"hospital\",\"notice\",\"period\",\"mass\",\"develop\",\"dream\",\"onto\",\"plants\",\"break\",\"add\",\"memory\",\"everywhere\",\"favorite\",\"11\",\"zero\",\"speed\",\"schools\",\"moved\",\"response\",\"wants\",\"extremely\",\"movie\",\"individuals\",\"table\",\"wait\",\"medicine\",\"follow\",\"anyway\",\"trust\",\"plant\",\"biggest\",\"watching\",\"organization\",\"creative\",\"road\",\"choose\",\"worse\",\"lead\",\"results\",\"500\",\"exciting\",\"grew\",\"materials\",\"jobs\",\"plan\",\"east\",\"poverty\",\"positive\",\"safe\",\"strong\",\"fall\",\"essentially\",\"object\",\"door\",\"son\",\"vision\",\"further\",\"happiness\",\"continue\",\"student\",\"doctor\",\"including\",\"named\",\"role\",\"objects\",\"extraordinary\",\"standing\",\"skin\",\"leaders\",\"usually\",\"african\",\"conversation\",\"projects\",\"allowed\",\"models\",\"supposed\",\"faster\",\"interest\",\"families\",\"police\",\"fight\",\"tree\",\"connected\",\"screen\",\"5\",\"cases\",\"goal\",\"somewhere\",\"finding\",\"buildings\",\"shown\"],\"x1\":{\"__ndarray__\":\"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\",\"dtype\":\"float32\",\"shape\":[1000]},\"x2\":{\"__ndarray__\":\"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\",\"dtype\":\"float32\",\"shape\":[1000]}}},\"id\":\"7b36f2c8-2996-4a42-b731-1c9e6151dfff\",\"type\":\"ColumnDataSource\"},{\"attributes\":{},\"id\":\"eb60beb4-ba09-4f19-a3c0-ee6669d3ffcc\",\"type\":\"WheelZoomTool\"},{\"attributes\":{\"fill_alpha\":{\"value\":0.1},\"fill_color\":{\"value\":\"#1f77b4\"},\"line_alpha\":{\"value\":0.1},\"line_color\":{\"value\":\"#1f77b4\"},\"size\":{\"units\":\"screen\",\"value\":8},\"x\":{\"field\":\"x1\"},\"y\":{\"field\":\"x2\"}},\"id\":\"d2180e91-9d9b-4d8e-9dfa-8766a247bec0\",\"type\":\"Circle\"},{\"attributes\":{\"plot\":{\"id\":\"d5c390fa-1dac-46e2-9e4f-1ca81bbeddd7\",\"subtype\":\"Figure\",\"type\":\"Plot\"},\"source\":{\"id\":\"7b36f2c8-2996-4a42-b731-1c9e6151dfff\",\"type\":\"ColumnDataSource\"},\"text\":{\"field\":\"names\"},\"text_align\":\"center\",\"text_color\":{\"value\":\"#555555\"},\"text_font_size\":{\"value\":\"8pt\"},\"x\":{\"field\":\"x1\"},\"y\":{\"field\":\"x2\"},\"y_offset\":{\"value\":6}},\"id\":\"7ee394bb-5dec-4706-bbae-cb91c269b3d2\",\"type\":\"LabelSet\"},{\"attributes\":{},\"id\":\"486fbd93-a681-4148-bf16-42b373e912ac\",\"type\":\"LinearScale\"},{\"attributes\":{\"plot\":{\"id\":\"d5c390fa-1dac-46e2-9e4f-1ca81bbeddd7\",\"subtype\":\"Figure\",\"type\":\"Plot\"},\"ticker\":{\"id\":\"d9c07ef8-eb98-4e8d-be72-41c56bcba69e\",\"type\":\"BasicTicker\"}},\"id\":\"5bb99415-e91a-46ea-b2f4-2867030c5595\",\"type\":\"Grid\"},{\"attributes\":{\"callback\":null},\"id\":\"12cd392a-05c0-4d35-8406-52dcb4a4b5f4\",\"type\":\"DataRange1d\"},{\"attributes\":{},\"id\":\"d9c07ef8-eb98-4e8d-be72-41c56bcba69e\",\"type\":\"BasicTicker\"},{\"attributes\":{\"formatter\":{\"id\":\"4d07aecf-e3b1-4e6a-b43e-487271c2cbb3\",\"type\":\"BasicTickFormatter\"},\"plot\":{\"id\":\"d5c390fa-1dac-46e2-9e4f-1ca81bbeddd7\",\"subtype\":\"Figure\",\"type\":\"Plot\"},\"ticker\":{\"id\":\"d9c07ef8-eb98-4e8d-be72-41c56bcba69e\",\"type\":\"BasicTicker\"}},\"id\":\"9f00879b-37d5-4afa-b101-d3797c921717\",\"type\":\"LinearAxis\"},{\"attributes\":{},\"id\":\"c49ea292-8543-40f5-9c18-63a04a8463e0\",\"type\":\"LinearScale\"},{\"attributes\":{\"formatter\":{\"id\":\"8ad644dd-f7fb-4e13-8f10-c2d011a62430\",\"type\":\"BasicTickFormatter\"},\"plot\":{\"id\":\"d5c390fa-1dac-46e2-9e4f-1ca81bbeddd7\",\"subtype\":\"Figure\",\"type\":\"Plot\"},\"ticker\":{\"id\":\"cef345c9-5d30-4b11-a2af-28d61a3eb855\",\"type\":\"BasicTicker\"}},\"id\":\"2534717e-583d-4e31-b22d-75d76401e3d2\",\"type\":\"LinearAxis\"},{\"attributes\":{},\"id\":\"cef345c9-5d30-4b11-a2af-28d61a3eb855\",\"type\":\"BasicTicker\"},{\"attributes\":{\"source\":{\"id\":\"7b36f2c8-2996-4a42-b731-1c9e6151dfff\",\"type\":\"ColumnDataSource\"}},\"id\":\"1bbc3690-c3e9-4c5b-9c7d-bbd976e4874c\",\"type\":\"CDSView\"},{\"attributes\":{\"active_drag\":\"auto\",\"active_inspect\":\"auto\",\"active_scroll\":\"auto\",\"active_tap\":\"auto\",\"tools\":[{\"id\":\"71d5debd-298d-437e-9c30-bcfbf496ba7a\",\"type\":\"PanTool\"},{\"id\":\"eb60beb4-ba09-4f19-a3c0-ee6669d3ffcc\",\"type\":\"WheelZoomTool\"},{\"id\":\"f7f86d49-fb3a-4c2d-9875-310bb74d57ba\",\"type\":\"ResetTool\"},{\"id\":\"e328f573-fb86-4b9d-b50c-b8559e7c098a\",\"type\":\"SaveTool\"}]},\"id\":\"3edefaf2-cde8-4adf-9b69-86cddbda4654\",\"type\":\"Toolbar\"},{\"attributes\":{\"dimension\":1,\"plot\":{\"id\":\"d5c390fa-1dac-46e2-9e4f-1ca81bbeddd7\",\"subtype\":\"Figure\",\"type\":\"Plot\"},\"ticker\":{\"id\":\"cef345c9-5d30-4b11-a2af-28d61a3eb855\",\"type\":\"BasicTicker\"}},\"id\":\"79c57230-a91c-4c8c-9811-d55bf7624863\",\"type\":\"Grid\"},{\"attributes\":{\"plot\":null,\"text\":\"word2vec T-SNE for most common words\"},\"id\":\"af9c902d-711d-4591-9abf-6b30c455ff9a\",\"type\":\"Title\"}],\"root_ids\":[\"d5c390fa-1dac-46e2-9e4f-1ca81bbeddd7\"]},\"title\":\"Bokeh Application\",\"version\":\"0.12.13\"}};\n",
       "  var render_items = [{\"docid\":\"00f6dd77-5849-457d-9fae-ff5a8315d31b\",\"elementid\":\"b987109a-1962-4e83-bf0c-663e204e7ff7\",\"modelid\":\"d5c390fa-1dac-46e2-9e4f-1ca81bbeddd7\"}];\n",
       "  root.Bokeh.embed.embed_items_notebook(docs_json, render_items);\n",
       "\n",
       "  }\n",
       "  if (root.Bokeh !== undefined) {\n",
       "    embed_document(root);\n",
       "  } else {\n",
       "    var attempts = 0;\n",
       "    var timer = setInterval(function(root) {\n",
       "      if (root.Bokeh !== undefined) {\n",
       "        embed_document(root);\n",
       "        clearInterval(timer);\n",
       "      }\n",
       "      attempts++;\n",
       "      if (attempts > 100) {\n",
       "        console.log(\"Bokeh: ERROR: Unable to run BokehJS code because BokehJS library is missing\")\n",
       "        clearInterval(timer);\n",
       "      }\n",
       "    }, 10, root)\n",
       "  }\n",
       "})(window);"
      ],
      "application/vnd.bokehjs_exec.v0+json": ""
     },
     "metadata": {
      "application/vnd.bokehjs_exec.v0+json": {
       "id": "d5c390fa-1dac-46e2-9e4f-1ca81bbeddd7"
      }
     },
     "output_type": "display_data"
    }
   ],
   "source": [
    "p = figure(tools=\"pan,wheel_zoom,reset,save\",\n",
    "           toolbar_location=\"above\",\n",
    "           title=\"word2vec T-SNE for most common words\")\n",
    "\n",
    "source = ColumnDataSource(data=dict(x1=words_top_ted_tsne[:,0],\n",
    "                                    x2=words_top_ted_tsne[:,1],\n",
    "                                    names=words_top_ted))\n",
    "\n",
    "p.scatter(x=\"x1\", y=\"x2\", size=8, source=source)\n",
    "\n",
    "labels = LabelSet(x=\"x1\", y=\"x2\", text=\"names\", y_offset=6,\n",
    "                  text_font_size=\"8pt\", text_color=\"#555555\",\n",
    "                  source=source, text_align='center')\n",
    "p.add_layout(labels)\n",
    "\n",
    "show(p)"
   ]
  },
  {
   "cell_type": "markdown",
   "metadata": {},
   "source": [
    "### Part 5: Wiki Learnt Representations"
   ]
  },
  {
   "cell_type": "markdown",
   "metadata": {},
   "source": [
    "Download dataset"
   ]
  },
  {
   "cell_type": "code",
   "execution_count": 63,
   "metadata": {},
   "outputs": [],
   "source": [
    "if not os.path.isfile('wikitext-103-raw-v1.zip'):\n",
    "    urllib.request.urlretrieve(\"https://s3.amazonaws.com/research.metamind.io/wikitext/wikitext-103-raw-v1.zip\", filename=\"wikitext-103-raw-v1.zip\")"
   ]
  },
  {
   "cell_type": "code",
   "execution_count": 64,
   "metadata": {},
   "outputs": [],
   "source": [
    "with zipfile.ZipFile('wikitext-103-raw-v1.zip', 'r') as z:\n",
    "    input_text = str(z.open('wikitext-103-raw/wiki.train.raw', 'r').read(), encoding='utf-8') # Thanks Robert Bastian"
   ]
  },
  {
   "cell_type": "markdown",
   "metadata": {},
   "source": [
    "Preprocess sentences (note that it's important to remove small sentences for performance)"
   ]
  },
  {
   "cell_type": "code",
   "execution_count": 65,
   "metadata": {},
   "outputs": [],
   "source": [
    "sentences_wiki = []\n",
    "for line in input_text.split('\\n'):\n",
    "    s = [x for x in line.split('.') if x and len(x.split()) >= 5]\n",
    "    sentences_wiki.extend(s)\n",
    "    \n",
    "for s_i in range(len(sentences_wiki)):\n",
    "    sentences_wiki[s_i] = re.sub(\"[^a-z]\", \" \", sentences_wiki[s_i].lower())\n",
    "    sentences_wiki[s_i] = re.sub(r'\\([^)]*\\)', '', sentences_wiki[s_i])\n",
    "del input_text"
   ]
  },
  {
   "cell_type": "code",
   "execution_count": 66,
   "metadata": {},
   "outputs": [
    {
     "name": "stdout",
     "output_type": "stream",
     "text": [
      "4267112\n",
      "853422\n"
     ]
    }
   ],
   "source": [
    "# sample 1/5 of the data\n",
    "shuffle(sentences_wiki)\n",
    "print(len(sentences_wiki))\n",
    "sentences_wiki = sentences_wiki[:int(len(sentences_wiki)/5)]\n",
    "print(len(sentences_wiki))"
   ]
  },
  {
   "cell_type": "code",
   "execution_count": 68,
   "metadata": {},
   "outputs": [
    {
     "data": {
      "text/plain": [
       "' his remains were reinterred in the monument to the independence of brazil   along with those of maria leopoldina and am lie   in the city of s o paulo '"
      ]
     },
     "execution_count": 68,
     "metadata": {},
     "output_type": "execute_result"
    }
   ],
   "source": [
    "sentences_wiki[1]"
   ]
  },
  {
   "cell_type": "markdown",
   "metadata": {},
   "source": [
    "Now, repeat all the same steps that you performed above. You should be able to reuse essentially all the code."
   ]
  },
  {
   "cell_type": "code",
   "execution_count": 70,
   "metadata": {},
   "outputs": [],
   "source": [
    "sentences_wiki_token = []\n",
    "for sent_str in sentences_wiki:\n",
    "    tokens = re.sub(r\"[^a-z0-9]+\", \" \", sent_str.lower()).split()\n",
    "    sentences_wiki_token.append(tokens)"
   ]
  },
  {
   "cell_type": "code",
   "execution_count": 71,
   "metadata": {},
   "outputs": [
    {
     "data": {
      "text/plain": [
       "['the',\n",
       " 'muffled',\n",
       " 'explosion',\n",
       " 'limited',\n",
       " 'the',\n",
       " 'damage',\n",
       " 'to',\n",
       " 'her',\n",
       " 'hull']"
      ]
     },
     "execution_count": 71,
     "metadata": {},
     "output_type": "execute_result"
    }
   ],
   "source": [
    "sentences_wiki_token[0]"
   ]
  },
  {
   "cell_type": "code",
   "execution_count": 73,
   "metadata": {},
   "outputs": [],
   "source": [
    "word_dict = {}\n",
    "for sentence_str in sentences_wiki_token:\n",
    "    for word in sentence_str:\n",
    "        if word in word_dict:\n",
    "            word_dict[word]+=1\n",
    "        else:\n",
    "            word_dict[word]=1"
   ]
  },
  {
   "cell_type": "code",
   "execution_count": 74,
   "metadata": {},
   "outputs": [
    {
     "data": {
      "text/plain": [
       "235048"
      ]
     },
     "execution_count": 74,
     "metadata": {},
     "output_type": "execute_result"
    }
   ],
   "source": [
    "len(word_dict)"
   ]
  },
  {
   "cell_type": "code",
   "execution_count": 76,
   "metadata": {},
   "outputs": [],
   "source": [
    "counts_wiki_top1000_tuple = sorted(word_dict.items(), key=lambda x:-x[1])\n",
    "counts_wiki_top1000 = list(map(lambda x: int(x[1]),counts_wiki_top1000_tuple))[0:1000]\n",
    "words_top_wiki = list(map(lambda x: x[0],counts_wiki_top1000_tuple))[0:1000]"
   ]
  },
  {
   "cell_type": "code",
   "execution_count": 77,
   "metadata": {},
   "outputs": [
    {
     "data": {
      "text/plain": [
       "[('the', 1285954),\n",
       " ('of', 549429),\n",
       " ('and', 499035),\n",
       " ('in', 433729),\n",
       " ('to', 398382),\n",
       " ('a', 358985),\n",
       " ('was', 214932),\n",
       " ('s', 163699),\n",
       " ('on', 153694),\n",
       " ('as', 144715),\n",
       " ('for', 139804),\n",
       " ('that', 138164),\n",
       " ('with', 130297),\n",
       " ('by', 126070),\n",
       " ('is', 103030),\n",
       " ('his', 93449),\n",
       " ('at', 92000),\n",
       " ('he', 91917),\n",
       " ('from', 89273),\n",
       " ('it', 88919),\n",
       " ('were', 71136),\n",
       " ('an', 64526),\n",
       " ('had', 58591),\n",
       " ('which', 54959),\n",
       " ('be', 47572),\n",
       " ('this', 43109),\n",
       " ('but', 42438),\n",
       " ('are', 40852),\n",
       " ('first', 40673),\n",
       " ('not', 39557),\n",
       " ('their', 38682),\n",
       " ('after', 38247),\n",
       " ('one', 38010),\n",
       " ('her', 37473),\n",
       " ('also', 36639),\n",
       " ('its', 36514),\n",
       " ('they', 35269),\n",
       " ('two', 34094),\n",
       " ('or', 33592),\n",
       " ('have', 32794),\n",
       " ('who', 32012),\n",
       " ('been', 30318),\n",
       " ('new', 30086),\n",
       " ('has', 29999),\n",
       " ('she', 29195),\n",
       " ('when', 27256),\n",
       " ('during', 26424),\n",
       " ('time', 26233),\n",
       " ('other', 25877),\n",
       " ('would', 25394),\n",
       " ('into', 24655),\n",
       " ('all', 24114),\n",
       " ('i', 23815),\n",
       " ('more', 22912),\n",
       " ('over', 21477),\n",
       " ('while', 21292),\n",
       " ('game', 19867),\n",
       " ('him', 19812),\n",
       " ('later', 19685),\n",
       " ('only', 19468),\n",
       " ('up', 19355),\n",
       " ('most', 18994),\n",
       " ('about', 18984),\n",
       " ('three', 18844),\n",
       " ('out', 18736),\n",
       " ('th', 18502),\n",
       " ('between', 18486),\n",
       " ('than', 18017),\n",
       " ('there', 18002),\n",
       " ('some', 17147),\n",
       " ('film', 16750),\n",
       " ('may', 16737),\n",
       " ('year', 16141),\n",
       " ('before', 16091),\n",
       " ('made', 15882),\n",
       " ('no', 15651),\n",
       " ('such', 15383),\n",
       " ('second', 15364),\n",
       " ('season', 15141),\n",
       " ('where', 15112),\n",
       " ('years', 14717),\n",
       " ('war', 14656),\n",
       " ('world', 14626),\n",
       " ('then', 14030),\n",
       " ('used', 13980),\n",
       " ('song', 13935),\n",
       " ('them', 13854),\n",
       " ('being', 13843),\n",
       " ('these', 13815),\n",
       " ('both', 13812),\n",
       " ('however', 13765),\n",
       " ('through', 13731),\n",
       " ('against', 13688),\n",
       " ('m', 13613),\n",
       " ('series', 13562),\n",
       " ('many', 13188),\n",
       " ('album', 13173),\n",
       " ('number', 12927),\n",
       " ('became', 12808),\n",
       " ('can', 12778),\n",
       " ('well', 12776),\n",
       " ('city', 12764),\n",
       " ('including', 12763),\n",
       " ('team', 12727),\n",
       " ('north', 12710),\n",
       " ('part', 12659),\n",
       " ('united', 12646),\n",
       " ('four', 12591),\n",
       " ('several', 12441),\n",
       " ('early', 12401),\n",
       " ('under', 12260),\n",
       " ('state', 12227),\n",
       " ('south', 11932),\n",
       " ('music', 11843),\n",
       " ('day', 11678),\n",
       " ('so', 11597),\n",
       " ('episode', 11539),\n",
       " ('following', 11508),\n",
       " ('states', 11369),\n",
       " ('said', 11184),\n",
       " ('although', 11052),\n",
       " ('known', 11047),\n",
       " ('american', 10905),\n",
       " ('did', 10783),\n",
       " ('work', 10723),\n",
       " ('could', 10694),\n",
       " ('began', 10574),\n",
       " ('until', 10396),\n",
       " ('released', 10235),\n",
       " ('like', 10142),\n",
       " ('because', 10122),\n",
       " ('t', 10104),\n",
       " ('people', 10045),\n",
       " ('called', 10029),\n",
       " ('high', 9790),\n",
       " ('end', 9681),\n",
       " ('around', 9538),\n",
       " ('since', 9364),\n",
       " ('british', 9333),\n",
       " ('each', 9297),\n",
       " ('national', 9274),\n",
       " ('long', 9206),\n",
       " ('found', 9179),\n",
       " ('best', 9115),\n",
       " ('million', 9075),\n",
       " ('if', 9011),\n",
       " ('september', 8971),\n",
       " ('along', 8937),\n",
       " ('same', 8924),\n",
       " ('us', 8899),\n",
       " ('another', 8890),\n",
       " ('five', 8878),\n",
       " ('back', 8872),\n",
       " ('life', 8819),\n",
       " ('west', 8817),\n",
       " ('you', 8759),\n",
       " ('use', 8688),\n",
       " ('took', 8654),\n",
       " ('km', 8614),\n",
       " ('show', 8573),\n",
       " ('any', 8528),\n",
       " ('off', 8503),\n",
       " ('final', 8477),\n",
       " ('century', 8416),\n",
       " ('august', 8372),\n",
       " ('group', 8366),\n",
       " ('area', 8349),\n",
       " ('received', 8299),\n",
       " ('october', 8221),\n",
       " ('what', 8156),\n",
       " ('school', 8137),\n",
       " ('due', 8121),\n",
       " ('john', 8038),\n",
       " ('line', 7952),\n",
       " ('government', 7951),\n",
       " ('will', 7880),\n",
       " ('system', 7869),\n",
       " ('east', 7819),\n",
       " ('june', 7741),\n",
       " ('home', 7677),\n",
       " ('march', 7597),\n",
       " ('november', 7593),\n",
       " ('much', 7590),\n",
       " ('single', 7563),\n",
       " ('july', 7539),\n",
       " ('third', 7497),\n",
       " ('large', 7494),\n",
       " ('games', 7463),\n",
       " ('set', 7413),\n",
       " ('april', 7376),\n",
       " ('family', 7348),\n",
       " ('down', 7334),\n",
       " ('general', 7326),\n",
       " ('left', 7323),\n",
       " ('major', 7219),\n",
       " ('based', 7216),\n",
       " ('company', 7210),\n",
       " ('army', 7201),\n",
       " ('place', 7158),\n",
       " ('we', 7139),\n",
       " ('december', 7123),\n",
       " ('york', 7085),\n",
       " ('just', 7078),\n",
       " ('house', 7063),\n",
       " ('six', 7060),\n",
       " ('road', 7006),\n",
       " ('history', 7001),\n",
       " ('included', 6970),\n",
       " ('band', 6952),\n",
       " ('january', 6949),\n",
       " ('played', 6945),\n",
       " ('character', 6933),\n",
       " ('name', 6916),\n",
       " ('king', 6869),\n",
       " ('led', 6855),\n",
       " ('wrote', 6853),\n",
       " ('main', 6803),\n",
       " ('now', 6749),\n",
       " ('within', 6713),\n",
       " ('death', 6682),\n",
       " ('won', 6680),\n",
       " ('according', 6678),\n",
       " ('those', 6638),\n",
       " ('d', 6635),\n",
       " ('men', 6613),\n",
       " ('de', 6596),\n",
       " ('near', 6590),\n",
       " ('described', 6567),\n",
       " ('river', 6563),\n",
       " ('named', 6557),\n",
       " ('own', 6551),\n",
       " ('next', 6548),\n",
       " ('release', 6546),\n",
       " ('last', 6538),\n",
       " ('battle', 6537),\n",
       " ('record', 6523),\n",
       " ('times', 6522),\n",
       " ('video', 6483),\n",
       " ('still', 6463),\n",
       " ('late', 6461),\n",
       " ('top', 6448),\n",
       " ('st', 6448),\n",
       " ('air', 6416),\n",
       " ('original', 6381),\n",
       " ('way', 6379),\n",
       " ('make', 6364),\n",
       " ('ship', 6348),\n",
       " ('species', 6336),\n",
       " ('force', 6301),\n",
       " ('league', 6290),\n",
       " ('very', 6279),\n",
       " ('production', 6268),\n",
       " ('public', 6263),\n",
       " ('man', 6247),\n",
       " ('small', 6246),\n",
       " ('even', 6226),\n",
       " ('club', 6221),\n",
       " ('though', 6163),\n",
       " ('u', 6161),\n",
       " ('great', 6156),\n",
       " ('february', 6154),\n",
       " ('route', 6093),\n",
       " ('storm', 6081),\n",
       " ('days', 6075),\n",
       " ('old', 6067),\n",
       " ('built', 6046),\n",
       " ('again', 6027),\n",
       " ('among', 6024),\n",
       " ('further', 5978),\n",
       " ('play', 5974),\n",
       " ('german', 5872),\n",
       " ('power', 5862),\n",
       " ('role', 5844),\n",
       " ('held', 5840),\n",
       " ('french', 5837),\n",
       " ('book', 5832),\n",
       " ('story', 5814),\n",
       " ('members', 5813),\n",
       " ('university', 5813),\n",
       " ('do', 5811),\n",
       " ('having', 5810),\n",
       " ('service', 5800),\n",
       " ('career', 5773),\n",
       " ('side', 5749),\n",
       " ('match', 5723),\n",
       " ('h', 5694),\n",
       " ('b', 5683),\n",
       " ('player', 5677),\n",
       " ('point', 5662),\n",
       " ('division', 5654),\n",
       " ('water', 5638),\n",
       " ('white', 5619),\n",
       " ('often', 5614),\n",
       " ('continued', 5543),\n",
       " ('order', 5525),\n",
       " ('came', 5515),\n",
       " ('former', 5501),\n",
       " ('without', 5479),\n",
       " ('park', 5468),\n",
       " ('despite', 5386),\n",
       " ('black', 5372),\n",
       " ('england', 5322),\n",
       " ('town', 5282),\n",
       " ('development', 5264),\n",
       " ('local', 5263),\n",
       " ('take', 5252),\n",
       " ('half', 5247),\n",
       " ('considered', 5235),\n",
       " ('party', 5226),\n",
       " ('period', 5193),\n",
       " ('few', 5178),\n",
       " ('island', 5160),\n",
       " ('county', 5145),\n",
       " ('form', 5127),\n",
       " ('moved', 5116),\n",
       " ('version', 5094),\n",
       " ('become', 5088),\n",
       " ('songs', 5086),\n",
       " ('support', 5077),\n",
       " ('c', 5056),\n",
       " ('written', 5055),\n",
       " ('english', 5050),\n",
       " ('president', 5035),\n",
       " ('building', 5030),\n",
       " ('given', 5025),\n",
       " ('different', 5008),\n",
       " ('military', 4976),\n",
       " ('forces', 4967),\n",
       " ('international', 4928),\n",
       " ('country', 4918),\n",
       " ('court', 4913),\n",
       " ('re', 4904),\n",
       " ('tropical', 4901),\n",
       " ('london', 4892),\n",
       " ('lost', 4884),\n",
       " ('ii', 4870),\n",
       " ('little', 4858),\n",
       " ('church', 4824),\n",
       " ('lead', 4730),\n",
       " ('royal', 4712),\n",
       " ('performance', 4691),\n",
       " ('gave', 4689),\n",
       " ('street', 4687),\n",
       " ('attack', 4681),\n",
       " ('n', 4681),\n",
       " ('never', 4674),\n",
       " ('run', 4669),\n",
       " ('returned', 4668),\n",
       " ('tour', 4665),\n",
       " ('similar', 4665),\n",
       " ('class', 4647),\n",
       " ('published', 4635),\n",
       " ('my', 4629),\n",
       " ('western', 4626),\n",
       " ('went', 4626),\n",
       " ('track', 4625),\n",
       " ('produced', 4613),\n",
       " ('position', 4604),\n",
       " ('short', 4592),\n",
       " ('using', 4582),\n",
       " ('recorded', 4564),\n",
       " ('children', 4563),\n",
       " ('good', 4549),\n",
       " ('stated', 4546),\n",
       " ('include', 4546),\n",
       " ('television', 4537),\n",
       " ('land', 4533),\n",
       " ('aircraft', 4532),\n",
       " ('father', 4525),\n",
       " ('week', 4505),\n",
       " ('how', 4499),\n",
       " ('live', 4494),\n",
       " ('per', 4493),\n",
       " ('making', 4480),\n",
       " ('total', 4478),\n",
       " ('control', 4472),\n",
       " ('women', 4468),\n",
       " ('ships', 4453),\n",
       " ('fire', 4451),\n",
       " ('right', 4437),\n",
       " ('star', 4435),\n",
       " ('upon', 4435),\n",
       " ('highway', 4422),\n",
       " ('throughout', 4386),\n",
       " ('me', 4375),\n",
       " ('once', 4329),\n",
       " ('characters', 4327),\n",
       " ('australia', 4301),\n",
       " ('central', 4293),\n",
       " ('young', 4284),\n",
       " ('himself', 4275),\n",
       " ('love', 4272),\n",
       " ('light', 4266),\n",
       " ('less', 4250),\n",
       " ('players', 4249),\n",
       " ('instead', 4247),\n",
       " ('age', 4246),\n",
       " ('design', 4241),\n",
       " ('remained', 4224),\n",
       " ('title', 4223),\n",
       " ('sea', 4204),\n",
       " ('ft', 4182),\n",
       " ('seven', 4181),\n",
       " ('writing', 4167),\n",
       " ('law', 4164),\n",
       " ('previous', 4156),\n",
       " ('head', 4154),\n",
       " ('return', 4134),\n",
       " ('died', 4133),\n",
       " ('months', 4132),\n",
       " ('developed', 4120),\n",
       " ('r', 4115),\n",
       " ('political', 4112),\n",
       " ('james', 4108),\n",
       " ('southern', 4101),\n",
       " ('red', 4096),\n",
       " ('result', 4085),\n",
       " ('rock', 4082),\n",
       " ('night', 4081),\n",
       " ('across', 4080),\n",
       " ('center', 4079),\n",
       " ('station', 4078),\n",
       " ('eight', 4023),\n",
       " ('america', 4020),\n",
       " ('office', 4020),\n",
       " ('away', 4019),\n",
       " ('reported', 4015),\n",
       " ('e', 4012),\n",
       " ('noted', 4003),\n",
       " ('hurricane', 4001),\n",
       " ('field', 3984),\n",
       " ('low', 3982),\n",
       " ('ten', 3981),\n",
       " ('son', 3978),\n",
       " ('too', 3976),\n",
       " ('created', 3968),\n",
       " ('announced', 3952),\n",
       " ('construction', 3950),\n",
       " ('college', 3947),\n",
       " ('race', 3929),\n",
       " ('various', 3924),\n",
       " ('eventually', 3917),\n",
       " ('reached', 3914),\n",
       " ('sent', 3914),\n",
       " ('japanese', 3908),\n",
       " ('miles', 3895),\n",
       " ('win', 3894),\n",
       " ('act', 3880),\n",
       " ('should', 3859),\n",
       " ('award', 3848),\n",
       " ('together', 3841),\n",
       " ('style', 3835),\n",
       " ('william', 3831),\n",
       " ('common', 3830),\n",
       " ('felt', 3828),\n",
       " ('areas', 3813),\n",
       " ('seen', 3802),\n",
       " ('northern', 3764),\n",
       " ('full', 3764),\n",
       " ('followed', 3760),\n",
       " ('served', 3741),\n",
       " ('campaign', 3739),\n",
       " ('action', 3717),\n",
       " ('able', 3716),\n",
       " ('killed', 3710),\n",
       " ('member', 3706),\n",
       " ('works', 3700),\n",
       " ('points', 3695),\n",
       " ('performed', 3688),\n",
       " ('level', 3662),\n",
       " ('taken', 3649),\n",
       " ('range', 3643),\n",
       " ('modern', 3642),\n",
       " ('originally', 3615),\n",
       " ('born', 3615),\n",
       " ('george', 3612),\n",
       " ('mm', 3608),\n",
       " ('chart', 3604),\n",
       " ('playing', 3594),\n",
       " ('success', 3593),\n",
       " ('critics', 3580),\n",
       " ('addition', 3575),\n",
       " ('body', 3570),\n",
       " ('post', 3568),\n",
       " ('australian', 3567),\n",
       " ('feet', 3566),\n",
       " ('front', 3561),\n",
       " ('appeared', 3557),\n",
       " ('bridge', 3557),\n",
       " ('features', 3555),\n",
       " ('established', 3555),\n",
       " ('thought', 3544),\n",
       " ('others', 3540),\n",
       " ('special', 3527),\n",
       " ('stage', 3519),\n",
       " ('popular', 3504),\n",
       " ('formed', 3503),\n",
       " ('located', 3501),\n",
       " ('behind', 3501),\n",
       " ('get', 3498),\n",
       " ('heavy', 3498),\n",
       " ('added', 3497),\n",
       " ('fourth', 3488),\n",
       " ('football', 3488),\n",
       " ('project', 3475),\n",
       " ('present', 3471),\n",
       " ('caused', 3469),\n",
       " ('started', 3469),\n",
       " ('decided', 3438),\n",
       " ('rather', 3435),\n",
       " ('championship', 3432),\n",
       " ('sold', 3427),\n",
       " ('site', 3425),\n",
       " ('damage', 3421),\n",
       " ('director', 3397),\n",
       " ('initially', 3395),\n",
       " ('f', 3384),\n",
       " ('go', 3382),\n",
       " ('open', 3381),\n",
       " ('o', 3380),\n",
       " ('command', 3375),\n",
       " ('saw', 3374),\n",
       " ('every', 3371),\n",
       " ('completed', 3367),\n",
       " ('strong', 3353),\n",
       " ('non', 3349),\n",
       " ('opened', 3346),\n",
       " ('david', 3339),\n",
       " ('soon', 3337),\n",
       " ('region', 3331),\n",
       " ('population', 3331),\n",
       " ('kingdom', 3330),\n",
       " ('see', 3329),\n",
       " ('important', 3324),\n",
       " ('fleet', 3323),\n",
       " ('close', 3323),\n",
       " ('almost', 3314),\n",
       " ('weeks', 3302),\n",
       " ('eastern', 3289),\n",
       " ('case', 3270),\n",
       " ('france', 3269),\n",
       " ('working', 3268),\n",
       " ('guns', 3267),\n",
       " ('worked', 3265),\n",
       " ('coast', 3261),\n",
       " ('ground', 3259),\n",
       " ('mother', 3256),\n",
       " ('free', 3255),\n",
       " ('art', 3244),\n",
       " ('leading', 3225),\n",
       " ('awards', 3218),\n",
       " ('event', 3214),\n",
       " ('hall', 3198),\n",
       " ('l', 3193),\n",
       " ('recording', 3179),\n",
       " ('navy', 3168),\n",
       " ('union', 3167),\n",
       " ('michael', 3166),\n",
       " ('scene', 3157),\n",
       " ('does', 3143),\n",
       " ('brought', 3136),\n",
       " ('help', 3134),\n",
       " ('training', 3131),\n",
       " ('henry', 3128),\n",
       " ('generally', 3124),\n",
       " ('mi', 3122),\n",
       " ('towards', 3122),\n",
       " ('provided', 3120),\n",
       " ('victory', 3119),\n",
       " ('cup', 3118),\n",
       " ('scored', 3103),\n",
       " ('example', 3101),\n",
       " ('records', 3099),\n",
       " ('wanted', 3094),\n",
       " ('least', 3093),\n",
       " ('sound', 3092),\n",
       " ('put', 3087),\n",
       " ('either', 3073),\n",
       " ('washington', 3060),\n",
       " ('wife', 3059),\n",
       " ('ever', 3056),\n",
       " ('average', 3055),\n",
       " ('mid', 3037),\n",
       " ('studio', 3026),\n",
       " ('troops', 3017),\n",
       " ('events', 3014),\n",
       " ('hit', 3008),\n",
       " ('magazine', 2995),\n",
       " ('runs', 2988),\n",
       " ('featured', 2985),\n",
       " ('allowed', 2983),\n",
       " ('placed', 2979),\n",
       " ('co', 2972),\n",
       " ('human', 2961),\n",
       " ('list', 2958),\n",
       " ('europe', 2958),\n",
       " ('joined', 2956),\n",
       " ('designed', 2952),\n",
       " ('start', 2942),\n",
       " ('far', 2938),\n",
       " ('opening', 2923),\n",
       " ('summer', 2916),\n",
       " ('nine', 2910),\n",
       " ('council', 2902),\n",
       " ('hours', 2896),\n",
       " ('al', 2895),\n",
       " ('crew', 2894),\n",
       " ('finished', 2894),\n",
       " ('squadron', 2891),\n",
       " ('earlier', 2873),\n",
       " ('month', 2853),\n",
       " ('possible', 2850),\n",
       " ('rest', 2850),\n",
       " ('robert', 2849),\n",
       " ('official', 2846),\n",
       " ('media', 2845),\n",
       " ('significant', 2840),\n",
       " ('replaced', 2839),\n",
       " ('base', 2834),\n",
       " ('involved', 2832),\n",
       " ('brown', 2831),\n",
       " ('minutes', 2827),\n",
       " ('mph', 2826),\n",
       " ('radio', 2816),\n",
       " ('european', 2812),\n",
       " ('japan', 2807),\n",
       " ('films', 2807),\n",
       " ('process', 2806),\n",
       " ('society', 2805),\n",
       " ('largest', 2802),\n",
       " ('believed', 2801),\n",
       " ('highest', 2793),\n",
       " ('met', 2791),\n",
       " ('test', 2785),\n",
       " ('successful', 2783),\n",
       " ('operation', 2778),\n",
       " ('available', 2764),\n",
       " ('association', 2759),\n",
       " ('better', 2758),\n",
       " ('outside', 2753),\n",
       " ('shot', 2752),\n",
       " ('saying', 2749),\n",
       " ('change', 2746),\n",
       " ('x', 2743),\n",
       " ('social', 2734),\n",
       " ('big', 2732),\n",
       " ('business', 2727),\n",
       " ('winds', 2726),\n",
       " ('forced', 2724),\n",
       " ('captain', 2718),\n",
       " ('ended', 2715),\n",
       " ('beginning', 2712),\n",
       " ('police', 2703),\n",
       " ('taking', 2699),\n",
       " ('relationship', 2699),\n",
       " ('lower', 2685),\n",
       " ('hill', 2679),\n",
       " ('cast', 2677),\n",
       " ('increased', 2676),\n",
       " ('review', 2676),\n",
       " ('community', 2675),\n",
       " ('reviews', 2662),\n",
       " ('canada', 2660),\n",
       " ('additional', 2657),\n",
       " ('must', 2650),\n",
       " ('particularly', 2650),\n",
       " ('move', 2649),\n",
       " ('come', 2648),\n",
       " ('thus', 2645),\n",
       " ('appearance', 2643),\n",
       " ('stone', 2638),\n",
       " ('research', 2638),\n",
       " ('charles', 2630),\n",
       " ('real', 2628),\n",
       " ('space', 2621),\n",
       " ('above', 2620),\n",
       " ('enough', 2619),\n",
       " ('future', 2611),\n",
       " ('middle', 2609),\n",
       " ('section', 2608),\n",
       " ('praised', 2606),\n",
       " ('previously', 2600),\n",
       " ('g', 2595),\n",
       " ('cross', 2588),\n",
       " ('female', 2587),\n",
       " ('units', 2586),\n",
       " ('san', 2586),\n",
       " ('going', 2580),\n",
       " ('goal', 2576),\n",
       " ('lake', 2576),\n",
       " ('program', 2572),\n",
       " ('parts', 2570),\n",
       " ('thomas', 2567),\n",
       " ('give', 2566),\n",
       " ('staff', 2562),\n",
       " ('board', 2558),\n",
       " ('told', 2557),\n",
       " ('passed', 2551),\n",
       " ('signed', 2549),\n",
       " ('turned', 2548),\n",
       " ('lines', 2544),\n",
       " ('rights', 2538),\n",
       " ('positive', 2535),\n",
       " ('ordered', 2534),\n",
       " ('chief', 2534),\n",
       " ('elements', 2533),\n",
       " ('gun', 2532),\n",
       " ('don', 2528),\n",
       " ('interest', 2522),\n",
       " ('brother', 2515),\n",
       " ('critical', 2506),\n",
       " ('california', 2505),\n",
       " ('castle', 2504),\n",
       " ('grand', 2500),\n",
       " ('type', 2499),\n",
       " ('room', 2498),\n",
       " ('musical', 2496),\n",
       " ('spent', 2492),\n",
       " ('gold', 2489),\n",
       " ('plan', 2488),\n",
       " ('committee', 2480),\n",
       " ('evidence', 2465),\n",
       " ('find', 2463),\n",
       " ('asked', 2457),\n",
       " ('entire', 2456),\n",
       " ('overall', 2449),\n",
       " ('itself', 2449),\n",
       " ('prior', 2448),\n",
       " ('hand', 2447),\n",
       " ('groups', 2445),\n",
       " ('india', 2444),\n",
       " ('round', 2437),\n",
       " ('money', 2436),\n",
       " ('failed', 2435),\n",
       " ('loss', 2435),\n",
       " ('personal', 2432),\n",
       " ('attempt', 2430),\n",
       " ('directed', 2428),\n",
       " ('news', 2424),\n",
       " ('required', 2424),\n",
       " ('infantry', 2418),\n",
       " ('smith', 2415),\n",
       " ('v', 2414),\n",
       " ('square', 2410),\n",
       " ('students', 2409),\n",
       " ('paul', 2406),\n",
       " ('bill', 2406),\n",
       " ('port', 2402),\n",
       " ('district', 2398),\n",
       " ('complete', 2396),\n",
       " ('term', 2390),\n",
       " ('green', 2389),\n",
       " ('usually', 2387),\n",
       " ('sometimes', 2387),\n",
       " ('turn', 2378),\n",
       " ('reception', 2377),\n",
       " ('uk', 2376),\n",
       " ('election', 2375),\n",
       " ('education', 2375),\n",
       " ('plot', 2370),\n",
       " ('press', 2368),\n",
       " ('p', 2365),\n",
       " ('battalion', 2365),\n",
       " ('score', 2360),\n",
       " ('limited', 2358),\n",
       " ('whom', 2356),\n",
       " ('flight', 2355),\n",
       " ('governor', 2355),\n",
       " ('movement', 2354),\n",
       " ('anti', 2353),\n",
       " ('whose', 2351),\n",
       " ('arrived', 2350),\n",
       " ('our', 2350),\n",
       " ('la', 2349),\n",
       " ('stars', 2341),\n",
       " ('effects', 2341),\n",
       " ('issue', 2339),\n",
       " ('claimed', 2339),\n",
       " ('already', 2336),\n",
       " ('novel', 2336),\n",
       " ('ny', 2332),\n",
       " ('decision', 2330),\n",
       " ('idea', 2330),\n",
       " ('woman', 2328),\n",
       " ('quickly', 2322),\n",
       " ('fifth', 2321),\n",
       " ('response', 2319),\n",
       " ('background', 2318),\n",
       " ('study', 2316),\n",
       " ('queen', 2315),\n",
       " ('commander', 2314),\n",
       " ('germany', 2314),\n",
       " ('cover', 2309),\n",
       " ('richard', 2302),\n",
       " ('teams', 2302),\n",
       " ('speed', 2298),\n",
       " ('indian', 2295),\n",
       " ('voice', 2293),\n",
       " ('past', 2285),\n",
       " ('larger', 2284),\n",
       " ('structure', 2282),\n",
       " ('debut', 2275),\n",
       " ('especially', 2275),\n",
       " ('k', 2266),\n",
       " ('leaving', 2265),\n",
       " ('commercial', 2263),\n",
       " ('material', 2258),\n",
       " ('science', 2258),\n",
       " ('introduced', 2256),\n",
       " ('food', 2255),\n",
       " ('car', 2253),\n",
       " ('department', 2250),\n",
       " ('mark', 2250),\n",
       " ('minister', 2249),\n",
       " ('entered', 2244),\n",
       " ('becoming', 2244),\n",
       " ('blue', 2239),\n",
       " ('running', 2237),\n",
       " ('suggested', 2234),\n",
       " ('surface', 2230),\n",
       " ('shows', 2230),\n",
       " ('today', 2226),\n",
       " ('civil', 2223),\n",
       " ('naval', 2222),\n",
       " ('writer', 2218),\n",
       " ('carried', 2213),\n",
       " ('peter', 2212),\n",
       " ('islands', 2210),\n",
       " ('earth', 2209),\n",
       " ('industry', 2208),\n",
       " ('latter', 2208),\n",
       " ('living', 2207),\n",
       " ('person', 2207),\n",
       " ('date', 2206),\n",
       " ('britain', 2205),\n",
       " ('defeated', 2204),\n",
       " ('village', 2203),\n",
       " ('leader', 2202),\n",
       " ('cut', 2196),\n",
       " ('proposed', 2193),\n",
       " ('nearly', 2190),\n",
       " ('pressure', 2187),\n",
       " ('percent', 2186),\n",
       " ('bay', 2186),\n",
       " ('god', 2183),\n",
       " ('estimated', 2176),\n",
       " ('pop', 2175),\n",
       " ('length', 2174),\n",
       " ('virginia', 2172),\n",
       " ('might', 2172),\n",
       " ('whether', 2171),\n",
       " ('daughter', 2167),\n",
       " ('depression', 2162),\n",
       " ('remaining', 2161),\n",
       " ('dark', 2160),\n",
       " ('report', 2158),\n",
       " ('los', 2154),\n",
       " ('centre', 2153),\n",
       " ('episodes', 2153),\n",
       " ('network', 2152),\n",
       " ('services', 2151),\n",
       " ('scenes', 2151),\n",
       " ('changes', 2150),\n",
       " ('influence', 2149),\n",
       " ('language', 2148),\n",
       " ('winning', 2143),\n",
       " ('operations', 2129),\n",
       " ('lack', 2129),\n",
       " ('experience', 2129),\n",
       " ('shortly', 2127),\n",
       " ('higher', 2125),\n",
       " ('size', 2124),\n",
       " ('railway', 2122),\n",
       " ('intended', 2121),\n",
       " ('approximately', 2121),\n",
       " ('spanish', 2121),\n",
       " ('jackson', 2120),\n",
       " ('officers', 2120),\n",
       " ('empire', 2117),\n",
       " ('awarded', 2117),\n",
       " ('agreed', 2116),\n",
       " ('chinese', 2114),\n",
       " ('fans', 2114),\n",
       " ('private', 2113),\n",
       " ('compared', 2113),\n",
       " ('hot', 2113),\n",
       " ('view', 2112),\n",
       " ('appointed', 2111),\n",
       " ('finally', 2108),\n",
       " ('fact', 2104),\n",
       " ('current', 2103),\n",
       " ('supported', 2103),\n",
       " ('tracks', 2102),\n",
       " ('soviet', 2096),\n",
       " ('planned', 2095),\n",
       " ('appear', 2095),\n",
       " ('wide', 2093),\n",
       " ('married', 2089),\n",
       " ('child', 2089),\n",
       " ('course', 2082),\n",
       " ('producer', 2081),\n",
       " ('destroyed', 2080),\n",
       " ('brigade', 2080),\n",
       " ('provide', 2080),\n",
       " ('nature', 2071),\n",
       " ('natural', 2067),\n",
       " ('regular', 2067),\n",
       " ('associated', 2067),\n",
       " ('museum', 2064),\n",
       " ('officer', 2060),\n",
       " ('your', 2059),\n",
       " ('professional', 2058),\n",
       " ('yet', 2056),\n",
       " ('cost', 2056),\n",
       " ('edward', 2054),\n",
       " ('health', 2050),\n",
       " ('face', 2047),\n",
       " ('helped', 2044),\n",
       " ('immediately', 2043),\n",
       " ('self', 2041),\n",
       " ('probably', 2041),\n",
       " ('really', 2041),\n",
       " ('chicago', 2039),\n",
       " ('trade', 2038),\n",
       " ('guitar', 2036),\n",
       " ('buildings', 2036),\n",
       " ('countries', 2035),\n",
       " ('johnson', 2031),\n",
       " ('upper', 2029),\n",
       " ('plans', 2028),\n",
       " ('got', 2027),\n",
       " ('numerous', 2026),\n",
       " ('nd', 2025),\n",
       " ('minor', 2022),\n",
       " ('soldiers', 2020),\n",
       " ('longer', 2020),\n",
       " ('related', 2018),\n",
       " ('friends', 2017),\n",
       " ('books', 2016),\n",
       " ('remains', 2015),\n",
       " ('done', 2014),\n",
       " ('feature', 2010),\n",
       " ('atlantic', 2009),\n",
       " ('captured', 2009),\n",
       " ('mixed', 2007),\n",
       " ('subsequently', 2004),\n",
       " ('fort', 2003),\n",
       " ('initial', 2002),\n",
       " ('pacific', 2001),\n",
       " ('corps', 1998),\n",
       " ('create', 1994),\n",
       " ('changed', 1990),\n",
       " ('contract', 1989),\n",
       " ('location', 1989),\n",
       " ('moving', 1985),\n",
       " ('regiment', 1980),\n",
       " ('federal', 1979),\n",
       " ('status', 1979),\n",
       " ('something', 1975),\n",
       " ('billboard', 1975),\n",
       " ('effect', 1973),\n",
       " ('cm', 1973),\n",
       " ('manager', 1969),\n",
       " ('extended', 1969),\n",
       " ('suffered', 1967),\n",
       " ('themselves', 1967),\n",
       " ('difficult', 1965),\n",
       " ('j', 1961),\n",
       " ('lord', 1960),\n",
       " ('singles', 1956),\n",
       " ('via', 1956),\n",
       " ('always', 1956),\n",
       " ('includes', 1954),\n",
       " ('unit', 1951),\n",
       " ('ball', 1944),\n",
       " ('singer', 1943),\n",
       " ('issued', 1934),\n",
       " ('forward', 1934),\n",
       " ('offered', 1933),\n",
       " ('dance', 1927),\n",
       " ('leave', 1924),\n",
       " ('conference', 1923),\n",
       " ('majority', 1920),\n",
       " ('damaged', 1919),\n",
       " ('key', 1918),\n",
       " ('dead', 1918),\n",
       " ('information', 1916),\n",
       " ('mostly', 1916),\n",
       " ('meeting', 1916),\n",
       " ('likely', 1915),\n",
       " ('friend', 1914),\n",
       " ('fighting', 1908),\n",
       " ('inspired', 1907),\n",
       " ('wind', 1907),\n",
       " ('fight', 1907),\n",
       " ('lyrics', 1906),\n",
       " ('goals', 1906),\n",
       " ('edition', 1906),\n",
       " ('copies', 1904),\n",
       " ('terms', 1903),\n",
       " ...]"
      ]
     },
     "execution_count": 77,
     "metadata": {},
     "output_type": "execute_result"
    }
   ],
   "source": [
    "counts_wiki_top1000_tuple"
   ]
  },
  {
   "cell_type": "code",
   "execution_count": 81,
   "metadata": {},
   "outputs": [
    {
     "data": {
      "text/plain": [
       "48594"
      ]
     },
     "execution_count": 81,
     "metadata": {},
     "output_type": "execute_result"
    }
   ],
   "source": [
    "#model\n",
    "model_wiki = Word2Vec(sentences_wiki_token, min_count=10)\n",
    "len(model_wiki.wv.vocab)"
   ]
  },
  {
   "cell_type": "code",
   "execution_count": 94,
   "metadata": {},
   "outputs": [
    {
     "data": {
      "text/plain": [
       "[('melodrama', 0.7754218578338623),\n",
       " ('irony', 0.7617379426956177),\n",
       " ('witty', 0.7516524195671082),\n",
       " ('seductive', 0.7494978904724121),\n",
       " ('humorous', 0.7465130090713501),\n",
       " ('provocative', 0.7452986836433411),\n",
       " ('inspirational', 0.7365840673446655),\n",
       " ('understated', 0.7348012924194336),\n",
       " ('satirical', 0.7342373132705688),\n",
       " ('poignant', 0.7336341142654419),\n",
       " ('surreal', 0.731939435005188)]"
      ]
     },
     "execution_count": 94,
     "metadata": {},
     "output_type": "execute_result"
    }
   ],
   "source": [
    "model_wiki.wv.most_similar(positive=['erotic'], topn=11)"
   ]
  },
  {
   "cell_type": "code",
   "execution_count": null,
   "metadata": {},
   "outputs": [],
   "source": []
  },
  {
   "cell_type": "markdown",
   "metadata": {},
   "source": [
    "#### t-SNE visualization"
   ]
  },
  {
   "cell_type": "code",
   "execution_count": 82,
   "metadata": {},
   "outputs": [
    {
     "name": "stderr",
     "output_type": "stream",
     "text": [
      "/anaconda3/lib/python3.6/site-packages/ipykernel_launcher.py:2: DeprecationWarning: Call to deprecated `__getitem__` (Method will be removed in 4.0.0, use self.wv.__getitem__() instead).\n",
      "  \n"
     ]
    }
   ],
   "source": [
    "# This assumes words_top_wiki is a list of strings, the top 1000 words\n",
    "words_top_vec_wiki = model_wiki[words_top_wiki]\n",
    "\n",
    "tsne = TSNE(n_components=2, random_state=0)\n",
    "words_top_wiki_tsne = tsne.fit_transform(words_top_vec_wiki)"
   ]
  },
  {
   "cell_type": "code",
   "execution_count": 83,
   "metadata": {},
   "outputs": [
    {
     "data": {
      "text/html": [
       "\n",
       "<div class=\"bk-root\">\n",
       "    <div class=\"bk-plotdiv\" id=\"5c6b0dca-2231-4750-82cc-8165b94b8ff4\"></div>\n",
       "</div>"
      ]
     },
     "metadata": {},
     "output_type": "display_data"
    },
    {
     "data": {
      "application/javascript": [
       "(function(root) {\n",
       "  function embed_document(root) {\n",
       "    \n",
       "  var docs_json = {\"d5b99aaa-3ea1-485f-bf76-0d9bb9b66da8\":{\"roots\":{\"references\":[{\"attributes\":{\"below\":[{\"id\":\"6527b87a-88a8-40f5-907e-6a2d5f8e429d\",\"type\":\"LinearAxis\"}],\"left\":[{\"id\":\"149a90a7-69bc-40a1-9ce0-5a6497655979\",\"type\":\"LinearAxis\"}],\"renderers\":[{\"id\":\"6527b87a-88a8-40f5-907e-6a2d5f8e429d\",\"type\":\"LinearAxis\"},{\"id\":\"be1371e7-a93d-4c24-87a6-68a4ef799bad\",\"type\":\"Grid\"},{\"id\":\"149a90a7-69bc-40a1-9ce0-5a6497655979\",\"type\":\"LinearAxis\"},{\"id\":\"3765e8fa-0073-488d-b2c6-56857db5d990\",\"type\":\"Grid\"},{\"id\":\"ec4e09a2-7571-4a34-8c1c-0936e033e6b1\",\"type\":\"GlyphRenderer\"},{\"id\":\"35465dd4-7e1b-4108-8629-de1cc454dd83\",\"type\":\"LabelSet\"}],\"title\":{\"id\":\"3de347ec-735a-418a-85c6-64f298070723\",\"type\":\"Title\"},\"toolbar\":{\"id\":\"35c4fa58-e85b-465c-b550-ab4bbe216284\",\"type\":\"Toolbar\"},\"toolbar_location\":\"above\",\"x_range\":{\"id\":\"14a6c7fc-ee95-4bb5-848b-ee5824110aaa\",\"type\":\"DataRange1d\"},\"x_scale\":{\"id\":\"dcc6ea8b-ad14-4eb8-9706-6e7866baa3eb\",\"type\":\"LinearScale\"},\"y_range\":{\"id\":\"55d52896-6823-4899-9534-b0ec1fe84240\",\"type\":\"DataRange1d\"},\"y_scale\":{\"id\":\"f0038d69-0750-411d-a1b8-de71f6c67f3d\",\"type\":\"LinearScale\"}},\"id\":\"33a43a6e-cf3c-4c69-9f01-140552937bf9\",\"subtype\":\"Figure\",\"type\":\"Plot\"},{\"attributes\":{\"callback\":null},\"id\":\"14a6c7fc-ee95-4bb5-848b-ee5824110aaa\",\"type\":\"DataRange1d\"},{\"attributes\":{},\"id\":\"34b5b7a3-fdc1-46b1-90f3-1071b2be1f92\",\"type\":\"ResetTool\"},{\"attributes\":{\"callback\":null,\"column_names\":[\"x1\",\"x2\",\"names\"],\"data\":{\"names\":[\"the\",\"of\",\"and\",\"in\",\"to\",\"a\",\"was\",\"s\",\"on\",\"as\",\"for\",\"that\",\"with\",\"by\",\"is\",\"his\",\"at\",\"he\",\"from\",\"it\",\"were\",\"an\",\"had\",\"which\",\"be\",\"this\",\"but\",\"are\",\"first\",\"not\",\"their\",\"after\",\"one\",\"her\",\"also\",\"its\",\"they\",\"two\",\"or\",\"have\",\"who\",\"been\",\"new\",\"has\",\"she\",\"when\",\"during\",\"time\",\"other\",\"would\",\"into\",\"all\",\"i\",\"more\",\"over\",\"while\",\"game\",\"him\",\"later\",\"only\",\"up\",\"most\",\"about\",\"three\",\"out\",\"th\",\"between\",\"than\",\"there\",\"some\",\"film\",\"may\",\"year\",\"before\",\"made\",\"no\",\"such\",\"second\",\"season\",\"where\",\"years\",\"war\",\"world\",\"then\",\"used\",\"song\",\"them\",\"being\",\"these\",\"both\",\"however\",\"through\",\"against\",\"m\",\"series\",\"many\",\"album\",\"number\",\"became\",\"can\",\"well\",\"city\",\"including\",\"team\",\"north\",\"part\",\"united\",\"four\",\"several\",\"early\",\"under\",\"state\",\"south\",\"music\",\"day\",\"so\",\"episode\",\"following\",\"states\",\"said\",\"although\",\"known\",\"american\",\"did\",\"work\",\"could\",\"began\",\"until\",\"released\",\"like\",\"because\",\"t\",\"people\",\"called\",\"high\",\"end\",\"around\",\"since\",\"british\",\"each\",\"national\",\"long\",\"found\",\"best\",\"million\",\"if\",\"september\",\"along\",\"same\",\"us\",\"another\",\"five\",\"back\",\"life\",\"west\",\"you\",\"use\",\"took\",\"km\",\"show\",\"any\",\"off\",\"final\",\"century\",\"august\",\"group\",\"area\",\"received\",\"october\",\"what\",\"school\",\"due\",\"john\",\"line\",\"government\",\"will\",\"system\",\"east\",\"june\",\"home\",\"march\",\"november\",\"much\",\"single\",\"july\",\"third\",\"large\",\"games\",\"set\",\"april\",\"family\",\"down\",\"general\",\"left\",\"major\",\"based\",\"company\",\"army\",\"place\",\"we\",\"december\",\"york\",\"just\",\"house\",\"six\",\"road\",\"history\",\"included\",\"band\",\"january\",\"played\",\"character\",\"name\",\"king\",\"led\",\"wrote\",\"main\",\"now\",\"within\",\"death\",\"won\",\"according\",\"those\",\"d\",\"men\",\"de\",\"near\",\"described\",\"river\",\"named\",\"own\",\"next\",\"release\",\"last\",\"battle\",\"record\",\"times\",\"video\",\"still\",\"late\",\"top\",\"st\",\"air\",\"original\",\"way\",\"make\",\"ship\",\"species\",\"force\",\"league\",\"very\",\"production\",\"public\",\"man\",\"small\",\"even\",\"club\",\"though\",\"u\",\"great\",\"february\",\"route\",\"storm\",\"days\",\"old\",\"built\",\"again\",\"among\",\"further\",\"play\",\"german\",\"power\",\"role\",\"held\",\"french\",\"book\",\"story\",\"members\",\"university\",\"do\",\"having\",\"service\",\"career\",\"side\",\"match\",\"h\",\"b\",\"player\",\"point\",\"division\",\"water\",\"white\",\"often\",\"continued\",\"order\",\"came\",\"former\",\"without\",\"park\",\"despite\",\"black\",\"england\",\"town\",\"development\",\"local\",\"take\",\"half\",\"considered\",\"party\",\"period\",\"few\",\"island\",\"county\",\"form\",\"moved\",\"version\",\"become\",\"songs\",\"support\",\"c\",\"written\",\"english\",\"president\",\"building\",\"given\",\"different\",\"military\",\"forces\",\"international\",\"country\",\"court\",\"re\",\"tropical\",\"london\",\"lost\",\"ii\",\"little\",\"church\",\"lead\",\"royal\",\"performance\",\"gave\",\"street\",\"attack\",\"n\",\"never\",\"run\",\"returned\",\"tour\",\"similar\",\"class\",\"published\",\"my\",\"western\",\"went\",\"track\",\"produced\",\"position\",\"short\",\"using\",\"recorded\",\"children\",\"good\",\"stated\",\"include\",\"television\",\"land\",\"aircraft\",\"father\",\"week\",\"how\",\"live\",\"per\",\"making\",\"total\",\"control\",\"women\",\"ships\",\"fire\",\"right\",\"star\",\"upon\",\"highway\",\"throughout\",\"me\",\"once\",\"characters\",\"australia\",\"central\",\"young\",\"himself\",\"love\",\"light\",\"less\",\"players\",\"instead\",\"age\",\"design\",\"remained\",\"title\",\"sea\",\"ft\",\"seven\",\"writing\",\"law\",\"previous\",\"head\",\"return\",\"died\",\"months\",\"developed\",\"r\",\"political\",\"james\",\"southern\",\"red\",\"result\",\"rock\",\"night\",\"across\",\"center\",\"station\",\"eight\",\"america\",\"office\",\"away\",\"reported\",\"e\",\"noted\",\"hurricane\",\"field\",\"low\",\"ten\",\"son\",\"too\",\"created\",\"announced\",\"construction\",\"college\",\"race\",\"various\",\"eventually\",\"reached\",\"sent\",\"japanese\",\"miles\",\"win\",\"act\",\"should\",\"award\",\"together\",\"style\",\"william\",\"common\",\"felt\",\"areas\",\"seen\",\"northern\",\"full\",\"followed\",\"served\",\"campaign\",\"action\",\"able\",\"killed\",\"member\",\"works\",\"points\",\"performed\",\"level\",\"taken\",\"range\",\"modern\",\"originally\",\"born\",\"george\",\"mm\",\"chart\",\"playing\",\"success\",\"critics\",\"addition\",\"body\",\"post\",\"australian\",\"feet\",\"front\",\"appeared\",\"bridge\",\"features\",\"established\",\"thought\",\"others\",\"special\",\"stage\",\"popular\",\"formed\",\"located\",\"behind\",\"get\",\"heavy\",\"added\",\"fourth\",\"football\",\"project\",\"present\",\"caused\",\"started\",\"decided\",\"rather\",\"championship\",\"sold\",\"site\",\"damage\",\"director\",\"initially\",\"f\",\"go\",\"open\",\"o\",\"command\",\"saw\",\"every\",\"completed\",\"strong\",\"non\",\"opened\",\"david\",\"soon\",\"region\",\"population\",\"kingdom\",\"see\",\"important\",\"fleet\",\"close\",\"almost\",\"weeks\",\"eastern\",\"case\",\"france\",\"working\",\"guns\",\"worked\",\"coast\",\"ground\",\"mother\",\"free\",\"art\",\"leading\",\"awards\",\"event\",\"hall\",\"l\",\"recording\",\"navy\",\"union\",\"michael\",\"scene\",\"does\",\"brought\",\"help\",\"training\",\"henry\",\"generally\",\"mi\",\"towards\",\"provided\",\"victory\",\"cup\",\"scored\",\"example\",\"records\",\"wanted\",\"least\",\"sound\",\"put\",\"either\",\"washington\",\"wife\",\"ever\",\"average\",\"mid\",\"studio\",\"troops\",\"events\",\"hit\",\"magazine\",\"runs\",\"featured\",\"allowed\",\"placed\",\"co\",\"human\",\"list\",\"europe\",\"joined\",\"designed\",\"start\",\"far\",\"opening\",\"summer\",\"nine\",\"council\",\"hours\",\"al\",\"crew\",\"finished\",\"squadron\",\"earlier\",\"month\",\"possible\",\"rest\",\"robert\",\"official\",\"media\",\"significant\",\"replaced\",\"base\",\"involved\",\"brown\",\"minutes\",\"mph\",\"radio\",\"european\",\"japan\",\"films\",\"process\",\"society\",\"largest\",\"believed\",\"highest\",\"met\",\"test\",\"successful\",\"operation\",\"available\",\"association\",\"better\",\"outside\",\"shot\",\"saying\",\"change\",\"x\",\"social\",\"big\",\"business\",\"winds\",\"forced\",\"captain\",\"ended\",\"beginning\",\"police\",\"taking\",\"relationship\",\"lower\",\"hill\",\"cast\",\"increased\",\"review\",\"community\",\"reviews\",\"canada\",\"additional\",\"must\",\"particularly\",\"move\",\"come\",\"thus\",\"appearance\",\"stone\",\"research\",\"charles\",\"real\",\"space\",\"above\",\"enough\",\"future\",\"middle\",\"section\",\"praised\",\"previously\",\"g\",\"cross\",\"female\",\"units\",\"san\",\"going\",\"goal\",\"lake\",\"program\",\"parts\",\"thomas\",\"give\",\"staff\",\"board\",\"told\",\"passed\",\"signed\",\"turned\",\"lines\",\"rights\",\"positive\",\"ordered\",\"chief\",\"elements\",\"gun\",\"don\",\"interest\",\"brother\",\"critical\",\"california\",\"castle\",\"grand\",\"type\",\"room\",\"musical\",\"spent\",\"gold\",\"plan\",\"committee\",\"evidence\",\"find\",\"asked\",\"entire\",\"overall\",\"itself\",\"prior\",\"hand\",\"groups\",\"india\",\"round\",\"money\",\"failed\",\"loss\",\"personal\",\"attempt\",\"directed\",\"news\",\"required\",\"infantry\",\"smith\",\"v\",\"square\",\"students\",\"paul\",\"bill\",\"port\",\"district\",\"complete\",\"term\",\"green\",\"usually\",\"sometimes\",\"turn\",\"reception\",\"uk\",\"election\",\"education\",\"plot\",\"press\",\"p\",\"battalion\",\"score\",\"limited\",\"whom\",\"flight\",\"governor\",\"movement\",\"anti\",\"whose\",\"arrived\",\"our\",\"la\",\"stars\",\"effects\",\"issue\",\"claimed\",\"already\",\"novel\",\"ny\",\"decision\",\"idea\",\"woman\",\"quickly\",\"fifth\",\"response\",\"background\",\"study\",\"queen\",\"commander\",\"germany\",\"cover\",\"richard\",\"teams\",\"speed\",\"indian\",\"voice\",\"past\",\"larger\",\"structure\",\"debut\",\"especially\",\"k\",\"leaving\",\"commercial\",\"material\",\"science\",\"introduced\",\"food\",\"car\",\"department\",\"mark\",\"minister\",\"entered\",\"becoming\",\"blue\",\"running\",\"suggested\",\"surface\",\"shows\",\"today\",\"civil\",\"naval\",\"writer\",\"carried\",\"peter\",\"islands\",\"earth\",\"industry\",\"latter\",\"living\",\"person\",\"date\",\"britain\",\"defeated\",\"village\",\"leader\",\"cut\",\"proposed\",\"nearly\",\"pressure\",\"percent\",\"bay\",\"god\",\"estimated\",\"pop\",\"length\",\"virginia\",\"might\",\"whether\",\"daughter\",\"depression\",\"remaining\",\"dark\",\"report\",\"los\",\"centre\",\"episodes\",\"network\",\"services\",\"scenes\",\"changes\",\"influence\",\"language\",\"winning\",\"operations\",\"lack\",\"experience\",\"shortly\",\"higher\",\"size\",\"railway\",\"intended\",\"approximately\",\"spanish\",\"jackson\",\"officers\",\"empire\",\"awarded\",\"agreed\",\"chinese\",\"fans\",\"private\",\"compared\",\"hot\",\"view\",\"appointed\",\"finally\",\"fact\",\"current\",\"supported\",\"tracks\",\"soviet\",\"planned\",\"appear\",\"wide\",\"married\",\"child\",\"course\",\"producer\",\"destroyed\",\"brigade\",\"provide\",\"nature\",\"natural\",\"regular\",\"associated\",\"museum\",\"officer\",\"your\",\"professional\",\"yet\",\"cost\",\"edward\",\"health\",\"face\",\"helped\",\"immediately\",\"self\",\"probably\",\"really\",\"chicago\",\"trade\",\"guitar\",\"buildings\",\"countries\",\"johnson\",\"upper\",\"plans\",\"got\",\"numerous\",\"nd\",\"minor\",\"soldiers\",\"longer\",\"related\",\"friends\",\"books\",\"remains\",\"done\",\"feature\",\"atlantic\",\"captured\",\"mixed\",\"subsequently\",\"fort\",\"initial\",\"pacific\",\"corps\",\"create\",\"changed\",\"contract\",\"location\",\"moving\",\"regiment\",\"federal\",\"status\",\"something\",\"billboard\",\"effect\",\"cm\",\"manager\",\"extended\",\"suffered\",\"themselves\",\"difficult\",\"j\",\"lord\",\"singles\",\"via\",\"always\",\"includes\",\"unit\",\"ball\",\"singer\",\"issued\",\"forward\",\"offered\",\"dance\",\"leave\",\"conference\",\"majority\",\"damaged\",\"key\",\"dead\",\"information\",\"mostly\",\"meeting\",\"likely\",\"friend\",\"fighting\",\"inspired\",\"wind\",\"fight\",\"lyrics\",\"goals\",\"edition\",\"copies\",\"terms\"],\"x1\":{\"__ndarray__\":\"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\",\"dtype\":\"float32\",\"shape\":[1000]},\"x2\":{\"__ndarray__\":\"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\",\"dtype\":\"float32\",\"shape\":[1000]}}},\"id\":\"388ca60a-df95-4f11-9577-40d208447798\",\"type\":\"ColumnDataSource\"},{\"attributes\":{\"fill_color\":{\"value\":\"#1f77b4\"},\"line_color\":{\"value\":\"#1f77b4\"},\"size\":{\"units\":\"screen\",\"value\":8},\"x\":{\"field\":\"x1\"},\"y\":{\"field\":\"x2\"}},\"id\":\"cf9d3ad1-bf02-4338-a90a-99bbf9cb0448\",\"type\":\"Circle\"},{\"attributes\":{},\"id\":\"ccb518a1-c724-4cd2-8a7d-ab7a5410b534\",\"type\":\"SaveTool\"},{\"attributes\":{\"plot\":null,\"text\":\"word2vec T-SNE for most common words\"},\"id\":\"3de347ec-735a-418a-85c6-64f298070723\",\"type\":\"Title\"},{\"attributes\":{\"source\":{\"id\":\"388ca60a-df95-4f11-9577-40d208447798\",\"type\":\"ColumnDataSource\"}},\"id\":\"34ee2102-69b6-480d-abd7-0c502c4fe2c9\",\"type\":\"CDSView\"},{\"attributes\":{\"callback\":null},\"id\":\"55d52896-6823-4899-9534-b0ec1fe84240\",\"type\":\"DataRange1d\"},{\"attributes\":{},\"id\":\"be289fa6-7a91-410f-9958-87c1cab7623c\",\"type\":\"WheelZoomTool\"},{\"attributes\":{},\"id\":\"56a0c328-b4c3-4011-a9b5-b44ba07cf23b\",\"type\":\"BasicTickFormatter\"},{\"attributes\":{},\"id\":\"f0038d69-0750-411d-a1b8-de71f6c67f3d\",\"type\":\"LinearScale\"},{\"attributes\":{},\"id\":\"504af93d-2cd8-4b6f-9440-f8372440074e\",\"type\":\"BasicTickFormatter\"},{\"attributes\":{\"plot\":{\"id\":\"33a43a6e-cf3c-4c69-9f01-140552937bf9\",\"subtype\":\"Figure\",\"type\":\"Plot\"},\"ticker\":{\"id\":\"9afbd667-f0c5-48e2-b071-edb048bfea1c\",\"type\":\"BasicTicker\"}},\"id\":\"be1371e7-a93d-4c24-87a6-68a4ef799bad\",\"type\":\"Grid\"},{\"attributes\":{\"active_drag\":\"auto\",\"active_inspect\":\"auto\",\"active_scroll\":\"auto\",\"active_tap\":\"auto\",\"tools\":[{\"id\":\"d324aa9c-608c-4897-95f6-5dcdd8a415d1\",\"type\":\"PanTool\"},{\"id\":\"be289fa6-7a91-410f-9958-87c1cab7623c\",\"type\":\"WheelZoomTool\"},{\"id\":\"34b5b7a3-fdc1-46b1-90f3-1071b2be1f92\",\"type\":\"ResetTool\"},{\"id\":\"ccb518a1-c724-4cd2-8a7d-ab7a5410b534\",\"type\":\"SaveTool\"}]},\"id\":\"35c4fa58-e85b-465c-b550-ab4bbe216284\",\"type\":\"Toolbar\"},{\"attributes\":{},\"id\":\"dcc6ea8b-ad14-4eb8-9706-6e7866baa3eb\",\"type\":\"LinearScale\"},{\"attributes\":{\"formatter\":{\"id\":\"504af93d-2cd8-4b6f-9440-f8372440074e\",\"type\":\"BasicTickFormatter\"},\"plot\":{\"id\":\"33a43a6e-cf3c-4c69-9f01-140552937bf9\",\"subtype\":\"Figure\",\"type\":\"Plot\"},\"ticker\":{\"id\":\"9afbd667-f0c5-48e2-b071-edb048bfea1c\",\"type\":\"BasicTicker\"}},\"id\":\"6527b87a-88a8-40f5-907e-6a2d5f8e429d\",\"type\":\"LinearAxis\"},{\"attributes\":{},\"id\":\"9afbd667-f0c5-48e2-b071-edb048bfea1c\",\"type\":\"BasicTicker\"},{\"attributes\":{\"formatter\":{\"id\":\"56a0c328-b4c3-4011-a9b5-b44ba07cf23b\",\"type\":\"BasicTickFormatter\"},\"plot\":{\"id\":\"33a43a6e-cf3c-4c69-9f01-140552937bf9\",\"subtype\":\"Figure\",\"type\":\"Plot\"},\"ticker\":{\"id\":\"93dbde2b-c546-4b21-8824-e274fa9635fb\",\"type\":\"BasicTicker\"}},\"id\":\"149a90a7-69bc-40a1-9ce0-5a6497655979\",\"type\":\"LinearAxis\"},{\"attributes\":{},\"id\":\"93dbde2b-c546-4b21-8824-e274fa9635fb\",\"type\":\"BasicTicker\"},{\"attributes\":{\"dimension\":1,\"plot\":{\"id\":\"33a43a6e-cf3c-4c69-9f01-140552937bf9\",\"subtype\":\"Figure\",\"type\":\"Plot\"},\"ticker\":{\"id\":\"93dbde2b-c546-4b21-8824-e274fa9635fb\",\"type\":\"BasicTicker\"}},\"id\":\"3765e8fa-0073-488d-b2c6-56857db5d990\",\"type\":\"Grid\"},{\"attributes\":{\"data_source\":{\"id\":\"388ca60a-df95-4f11-9577-40d208447798\",\"type\":\"ColumnDataSource\"},\"glyph\":{\"id\":\"cf9d3ad1-bf02-4338-a90a-99bbf9cb0448\",\"type\":\"Circle\"},\"hover_glyph\":null,\"muted_glyph\":null,\"nonselection_glyph\":{\"id\":\"32d607a5-face-4768-bed7-d5d126e145a9\",\"type\":\"Circle\"},\"selection_glyph\":null,\"view\":{\"id\":\"34ee2102-69b6-480d-abd7-0c502c4fe2c9\",\"type\":\"CDSView\"}},\"id\":\"ec4e09a2-7571-4a34-8c1c-0936e033e6b1\",\"type\":\"GlyphRenderer\"},{\"attributes\":{\"fill_alpha\":{\"value\":0.1},\"fill_color\":{\"value\":\"#1f77b4\"},\"line_alpha\":{\"value\":0.1},\"line_color\":{\"value\":\"#1f77b4\"},\"size\":{\"units\":\"screen\",\"value\":8},\"x\":{\"field\":\"x1\"},\"y\":{\"field\":\"x2\"}},\"id\":\"32d607a5-face-4768-bed7-d5d126e145a9\",\"type\":\"Circle\"},{\"attributes\":{},\"id\":\"d324aa9c-608c-4897-95f6-5dcdd8a415d1\",\"type\":\"PanTool\"},{\"attributes\":{\"plot\":{\"id\":\"33a43a6e-cf3c-4c69-9f01-140552937bf9\",\"subtype\":\"Figure\",\"type\":\"Plot\"},\"source\":{\"id\":\"388ca60a-df95-4f11-9577-40d208447798\",\"type\":\"ColumnDataSource\"},\"text\":{\"field\":\"names\"},\"text_align\":\"center\",\"text_color\":{\"value\":\"#555555\"},\"text_font_size\":{\"value\":\"8pt\"},\"x\":{\"field\":\"x1\"},\"y\":{\"field\":\"x2\"},\"y_offset\":{\"value\":6}},\"id\":\"35465dd4-7e1b-4108-8629-de1cc454dd83\",\"type\":\"LabelSet\"}],\"root_ids\":[\"33a43a6e-cf3c-4c69-9f01-140552937bf9\"]},\"title\":\"Bokeh Application\",\"version\":\"0.12.13\"}};\n",
       "  var render_items = [{\"docid\":\"d5b99aaa-3ea1-485f-bf76-0d9bb9b66da8\",\"elementid\":\"5c6b0dca-2231-4750-82cc-8165b94b8ff4\",\"modelid\":\"33a43a6e-cf3c-4c69-9f01-140552937bf9\"}];\n",
       "  root.Bokeh.embed.embed_items_notebook(docs_json, render_items);\n",
       "\n",
       "  }\n",
       "  if (root.Bokeh !== undefined) {\n",
       "    embed_document(root);\n",
       "  } else {\n",
       "    var attempts = 0;\n",
       "    var timer = setInterval(function(root) {\n",
       "      if (root.Bokeh !== undefined) {\n",
       "        embed_document(root);\n",
       "        clearInterval(timer);\n",
       "      }\n",
       "      attempts++;\n",
       "      if (attempts > 100) {\n",
       "        console.log(\"Bokeh: ERROR: Unable to run BokehJS code because BokehJS library is missing\")\n",
       "        clearInterval(timer);\n",
       "      }\n",
       "    }, 10, root)\n",
       "  }\n",
       "})(window);"
      ],
      "application/vnd.bokehjs_exec.v0+json": ""
     },
     "metadata": {
      "application/vnd.bokehjs_exec.v0+json": {
       "id": "33a43a6e-cf3c-4c69-9f01-140552937bf9"
      }
     },
     "output_type": "display_data"
    }
   ],
   "source": [
    "p = figure(tools=\"pan,wheel_zoom,reset,save\",\n",
    "           toolbar_location=\"above\",\n",
    "           title=\"word2vec T-SNE for most common words\")\n",
    "\n",
    "source = ColumnDataSource(data=dict(x1=words_top_wiki_tsne[:,0],\n",
    "                                    x2=words_top_wiki_tsne[:,1],\n",
    "                                    names=words_top_wiki))\n",
    "\n",
    "p.scatter(x=\"x1\", y=\"x2\", size=8, source=source)\n",
    "\n",
    "labels = LabelSet(x=\"x1\", y=\"x2\", text=\"names\", y_offset=6,\n",
    "                  text_font_size=\"8pt\", text_color=\"#555555\",\n",
    "                  source=source, text_align='center')\n",
    "p.add_layout(labels)\n",
    "\n",
    "show(p)"
   ]
  },
  {
   "cell_type": "code",
   "execution_count": null,
   "metadata": {},
   "outputs": [],
   "source": []
  }
 ],
 "metadata": {
  "anaconda-cloud": {},
  "kernelspec": {
   "display_name": "Python 3",
   "language": "python",
   "name": "python3"
  },
  "language_info": {
   "codemirror_mode": {
    "name": "ipython",
    "version": 3
   },
   "file_extension": ".py",
   "mimetype": "text/x-python",
   "name": "python",
   "nbconvert_exporter": "python",
   "pygments_lexer": "ipython3",
   "version": "3.6.4"
  }
 },
 "nbformat": 4,
 "nbformat_minor": 1
}
