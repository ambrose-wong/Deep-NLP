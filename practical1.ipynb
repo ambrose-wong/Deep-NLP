{
 "cells": [
  {
   "cell_type": "markdown",
   "metadata": {},
   "source": [
    "## Practical 1: word2vec\n",
    "<p>Oxford CS - Deep NLP 2017<br>\n",
    "https://www.cs.ox.ac.uk/teaching/courses/2016-2017/dl/</p>\n",
    "<p>[Yannis Assael, Brendan Shillingford, Chris Dyer]</p>"
   ]
  },
  {
   "cell_type": "markdown",
   "metadata": {},
   "source": [
    "This practical is presented as an IPython Notebook, with the code written for recent versions of **Python 3**. The code in this practical will not work with Python 2 unless you modify it. If you are using your own Python installation, ensure you have a setup identical to that described in the installation shell script (which is intended for use with the department lab machines). We will be unable to support installation on personal machines due to time constraints, so please use the lab machines and the setup script if you are unfamiliar with how to install Anaconda.\n",
    "\n",
    "To execute a notebook cell, press `shift-enter`. The return value of the last command will be displayed, if it is not `None`.\n",
    "\n",
    "Potentially useful library documentation, references, and resources:\n",
    "\n",
    "* IPython notebooks: <https://ipython.org/ipython-doc/3/notebook/notebook.html#introduction>\n",
    "* Numpy numerical array library: <https://docs.scipy.org/doc/>\n",
    "* Gensim's word2vec: <https://radimrehurek.com/gensim/models/word2vec.html>\n",
    "* Bokeh interactive plots: <http://bokeh.pydata.org/en/latest/> (we provide plotting code here, but click the thumbnails for more examples to copy-paste)\n",
    "* scikit-learn ML library (aka `sklearn`): <http://scikit-learn.org/stable/documentation.html>\n",
    "* nltk NLP toolkit: <http://www.nltk.org/>\n",
    "* tutorial for processing xml in python using `lxml`: <http://lxml.de/tutorial.html> (we did this for you below, but in case you need it in the future)"
   ]
  },
  {
   "cell_type": "code",
   "execution_count": 1,
   "metadata": {},
   "outputs": [],
   "source": [
    "import numpy as np\n",
    "import os\n",
    "from random import shuffle\n",
    "import re"
   ]
  },
  {
   "cell_type": "code",
   "execution_count": 2,
   "metadata": {},
   "outputs": [
    {
     "data": {
      "text/html": [
       "\n",
       "    <div class=\"bk-root\">\n",
       "        <a href=\"https://bokeh.pydata.org\" target=\"_blank\" class=\"bk-logo bk-logo-small bk-logo-notebook\"></a>\n",
       "        <span id=\"232d66db-5e50-46f0-9b1a-575996105a65\">Loading BokehJS ...</span>\n",
       "    </div>"
      ]
     },
     "metadata": {},
     "output_type": "display_data"
    },
    {
     "data": {
      "application/javascript": [
       "\n",
       "(function(root) {\n",
       "  function now() {\n",
       "    return new Date();\n",
       "  }\n",
       "\n",
       "  var force = true;\n",
       "\n",
       "  if (typeof (root._bokeh_onload_callbacks) === \"undefined\" || force === true) {\n",
       "    root._bokeh_onload_callbacks = [];\n",
       "    root._bokeh_is_loading = undefined;\n",
       "  }\n",
       "\n",
       "  var JS_MIME_TYPE = 'application/javascript';\n",
       "  var HTML_MIME_TYPE = 'text/html';\n",
       "  var EXEC_MIME_TYPE = 'application/vnd.bokehjs_exec.v0+json';\n",
       "  var CLASS_NAME = 'output_bokeh rendered_html';\n",
       "\n",
       "  /**\n",
       "   * Render data to the DOM node\n",
       "   */\n",
       "  function render(props, node) {\n",
       "    var script = document.createElement(\"script\");\n",
       "    node.appendChild(script);\n",
       "  }\n",
       "\n",
       "  /**\n",
       "   * Handle when an output is cleared or removed\n",
       "   */\n",
       "  function handleClearOutput(event, handle) {\n",
       "    var cell = handle.cell;\n",
       "\n",
       "    var id = cell.output_area._bokeh_element_id;\n",
       "    var server_id = cell.output_area._bokeh_server_id;\n",
       "    // Clean up Bokeh references\n",
       "    if (id !== undefined) {\n",
       "      Bokeh.index[id].model.document.clear();\n",
       "      delete Bokeh.index[id];\n",
       "    }\n",
       "\n",
       "    if (server_id !== undefined) {\n",
       "      // Clean up Bokeh references\n",
       "      var cmd = \"from bokeh.io.state import curstate; print(curstate().uuid_to_server['\" + server_id + \"'].get_sessions()[0].document.roots[0]._id)\";\n",
       "      cell.notebook.kernel.execute(cmd, {\n",
       "        iopub: {\n",
       "          output: function(msg) {\n",
       "            var element_id = msg.content.text.trim();\n",
       "            Bokeh.index[element_id].model.document.clear();\n",
       "            delete Bokeh.index[element_id];\n",
       "          }\n",
       "        }\n",
       "      });\n",
       "      // Destroy server and session\n",
       "      var cmd = \"import bokeh.io.notebook as ion; ion.destroy_server('\" + server_id + \"')\";\n",
       "      cell.notebook.kernel.execute(cmd);\n",
       "    }\n",
       "  }\n",
       "\n",
       "  /**\n",
       "   * Handle when a new output is added\n",
       "   */\n",
       "  function handleAddOutput(event, handle) {\n",
       "    var output_area = handle.output_area;\n",
       "    var output = handle.output;\n",
       "\n",
       "    // limit handleAddOutput to display_data with EXEC_MIME_TYPE content only\n",
       "    if ((output.output_type != \"display_data\") || (!output.data.hasOwnProperty(EXEC_MIME_TYPE))) {\n",
       "      return\n",
       "    }\n",
       "\n",
       "    var toinsert = output_area.element.find(\".\" + CLASS_NAME.split(' ')[0]);\n",
       "\n",
       "    if (output.metadata[EXEC_MIME_TYPE][\"id\"] !== undefined) {\n",
       "      toinsert[0].firstChild.textContent = output.data[JS_MIME_TYPE];\n",
       "      // store reference to embed id on output_area\n",
       "      output_area._bokeh_element_id = output.metadata[EXEC_MIME_TYPE][\"id\"];\n",
       "    }\n",
       "    if (output.metadata[EXEC_MIME_TYPE][\"server_id\"] !== undefined) {\n",
       "      var bk_div = document.createElement(\"div\");\n",
       "      bk_div.innerHTML = output.data[HTML_MIME_TYPE];\n",
       "      var script_attrs = bk_div.children[0].attributes;\n",
       "      for (var i = 0; i < script_attrs.length; i++) {\n",
       "        toinsert[0].firstChild.setAttribute(script_attrs[i].name, script_attrs[i].value);\n",
       "      }\n",
       "      // store reference to server id on output_area\n",
       "      output_area._bokeh_server_id = output.metadata[EXEC_MIME_TYPE][\"server_id\"];\n",
       "    }\n",
       "  }\n",
       "\n",
       "  function register_renderer(events, OutputArea) {\n",
       "\n",
       "    function append_mime(data, metadata, element) {\n",
       "      // create a DOM node to render to\n",
       "      var toinsert = this.create_output_subarea(\n",
       "        metadata,\n",
       "        CLASS_NAME,\n",
       "        EXEC_MIME_TYPE\n",
       "      );\n",
       "      this.keyboard_manager.register_events(toinsert);\n",
       "      // Render to node\n",
       "      var props = {data: data, metadata: metadata[EXEC_MIME_TYPE]};\n",
       "      render(props, toinsert[0]);\n",
       "      element.append(toinsert);\n",
       "      return toinsert\n",
       "    }\n",
       "\n",
       "    /* Handle when an output is cleared or removed */\n",
       "    events.on('clear_output.CodeCell', handleClearOutput);\n",
       "    events.on('delete.Cell', handleClearOutput);\n",
       "\n",
       "    /* Handle when a new output is added */\n",
       "    events.on('output_added.OutputArea', handleAddOutput);\n",
       "\n",
       "    /**\n",
       "     * Register the mime type and append_mime function with output_area\n",
       "     */\n",
       "    OutputArea.prototype.register_mime_type(EXEC_MIME_TYPE, append_mime, {\n",
       "      /* Is output safe? */\n",
       "      safe: true,\n",
       "      /* Index of renderer in `output_area.display_order` */\n",
       "      index: 0\n",
       "    });\n",
       "  }\n",
       "\n",
       "  // register the mime type if in Jupyter Notebook environment and previously unregistered\n",
       "  if (root.Jupyter !== undefined) {\n",
       "    var events = require('base/js/events');\n",
       "    var OutputArea = require('notebook/js/outputarea').OutputArea;\n",
       "\n",
       "    if (OutputArea.prototype.mime_types().indexOf(EXEC_MIME_TYPE) == -1) {\n",
       "      register_renderer(events, OutputArea);\n",
       "    }\n",
       "  }\n",
       "\n",
       "  \n",
       "  if (typeof (root._bokeh_timeout) === \"undefined\" || force === true) {\n",
       "    root._bokeh_timeout = Date.now() + 5000;\n",
       "    root._bokeh_failed_load = false;\n",
       "  }\n",
       "\n",
       "  var NB_LOAD_WARNING = {'data': {'text/html':\n",
       "     \"<div style='background-color: #fdd'>\\n\"+\n",
       "     \"<p>\\n\"+\n",
       "     \"BokehJS does not appear to have successfully loaded. If loading BokehJS from CDN, this \\n\"+\n",
       "     \"may be due to a slow or bad network connection. Possible fixes:\\n\"+\n",
       "     \"</p>\\n\"+\n",
       "     \"<ul>\\n\"+\n",
       "     \"<li>re-rerun `output_notebook()` to attempt to load from CDN again, or</li>\\n\"+\n",
       "     \"<li>use INLINE resources instead, as so:</li>\\n\"+\n",
       "     \"</ul>\\n\"+\n",
       "     \"<code>\\n\"+\n",
       "     \"from bokeh.resources import INLINE\\n\"+\n",
       "     \"output_notebook(resources=INLINE)\\n\"+\n",
       "     \"</code>\\n\"+\n",
       "     \"</div>\"}};\n",
       "\n",
       "  function display_loaded() {\n",
       "    var el = document.getElementById(\"232d66db-5e50-46f0-9b1a-575996105a65\");\n",
       "    if (el != null) {\n",
       "      el.textContent = \"BokehJS is loading...\";\n",
       "    }\n",
       "    if (root.Bokeh !== undefined) {\n",
       "      if (el != null) {\n",
       "        el.textContent = \"BokehJS \" + root.Bokeh.version + \" successfully loaded.\";\n",
       "      }\n",
       "    } else if (Date.now() < root._bokeh_timeout) {\n",
       "      setTimeout(display_loaded, 100)\n",
       "    }\n",
       "  }\n",
       "\n",
       "\n",
       "  function run_callbacks() {\n",
       "    try {\n",
       "      root._bokeh_onload_callbacks.forEach(function(callback) { callback() });\n",
       "    }\n",
       "    finally {\n",
       "      delete root._bokeh_onload_callbacks\n",
       "    }\n",
       "    console.info(\"Bokeh: all callbacks have finished\");\n",
       "  }\n",
       "\n",
       "  function load_libs(js_urls, callback) {\n",
       "    root._bokeh_onload_callbacks.push(callback);\n",
       "    if (root._bokeh_is_loading > 0) {\n",
       "      console.log(\"Bokeh: BokehJS is being loaded, scheduling callback at\", now());\n",
       "      return null;\n",
       "    }\n",
       "    if (js_urls == null || js_urls.length === 0) {\n",
       "      run_callbacks();\n",
       "      return null;\n",
       "    }\n",
       "    console.log(\"Bokeh: BokehJS not loaded, scheduling load and callback at\", now());\n",
       "    root._bokeh_is_loading = js_urls.length;\n",
       "    for (var i = 0; i < js_urls.length; i++) {\n",
       "      var url = js_urls[i];\n",
       "      var s = document.createElement('script');\n",
       "      s.src = url;\n",
       "      s.async = false;\n",
       "      s.onreadystatechange = s.onload = function() {\n",
       "        root._bokeh_is_loading--;\n",
       "        if (root._bokeh_is_loading === 0) {\n",
       "          console.log(\"Bokeh: all BokehJS libraries loaded\");\n",
       "          run_callbacks()\n",
       "        }\n",
       "      };\n",
       "      s.onerror = function() {\n",
       "        console.warn(\"failed to load library \" + url);\n",
       "      };\n",
       "      console.log(\"Bokeh: injecting script tag for BokehJS library: \", url);\n",
       "      document.getElementsByTagName(\"head\")[0].appendChild(s);\n",
       "    }\n",
       "  };var element = document.getElementById(\"232d66db-5e50-46f0-9b1a-575996105a65\");\n",
       "  if (element == null) {\n",
       "    console.log(\"Bokeh: ERROR: autoload.js configured with elementid '232d66db-5e50-46f0-9b1a-575996105a65' but no matching script tag was found. \")\n",
       "    return false;\n",
       "  }\n",
       "\n",
       "  var js_urls = [\"https://cdn.pydata.org/bokeh/release/bokeh-0.12.13.min.js\", \"https://cdn.pydata.org/bokeh/release/bokeh-widgets-0.12.13.min.js\", \"https://cdn.pydata.org/bokeh/release/bokeh-tables-0.12.13.min.js\", \"https://cdn.pydata.org/bokeh/release/bokeh-gl-0.12.13.min.js\"];\n",
       "\n",
       "  var inline_js = [\n",
       "    function(Bokeh) {\n",
       "      Bokeh.set_log_level(\"info\");\n",
       "    },\n",
       "    \n",
       "    function(Bokeh) {\n",
       "      \n",
       "    },\n",
       "    function(Bokeh) {\n",
       "      console.log(\"Bokeh: injecting CSS: https://cdn.pydata.org/bokeh/release/bokeh-0.12.13.min.css\");\n",
       "      Bokeh.embed.inject_css(\"https://cdn.pydata.org/bokeh/release/bokeh-0.12.13.min.css\");\n",
       "      console.log(\"Bokeh: injecting CSS: https://cdn.pydata.org/bokeh/release/bokeh-widgets-0.12.13.min.css\");\n",
       "      Bokeh.embed.inject_css(\"https://cdn.pydata.org/bokeh/release/bokeh-widgets-0.12.13.min.css\");\n",
       "      console.log(\"Bokeh: injecting CSS: https://cdn.pydata.org/bokeh/release/bokeh-tables-0.12.13.min.css\");\n",
       "      Bokeh.embed.inject_css(\"https://cdn.pydata.org/bokeh/release/bokeh-tables-0.12.13.min.css\");\n",
       "    }\n",
       "  ];\n",
       "\n",
       "  function run_inline_js() {\n",
       "    \n",
       "    if ((root.Bokeh !== undefined) || (force === true)) {\n",
       "      for (var i = 0; i < inline_js.length; i++) {\n",
       "        inline_js[i].call(root, root.Bokeh);\n",
       "      }if (force === true) {\n",
       "        display_loaded();\n",
       "      }} else if (Date.now() < root._bokeh_timeout) {\n",
       "      setTimeout(run_inline_js, 100);\n",
       "    } else if (!root._bokeh_failed_load) {\n",
       "      console.log(\"Bokeh: BokehJS failed to load within specified timeout.\");\n",
       "      root._bokeh_failed_load = true;\n",
       "    } else if (force !== true) {\n",
       "      var cell = $(document.getElementById(\"232d66db-5e50-46f0-9b1a-575996105a65\")).parents('.cell').data().cell;\n",
       "      cell.output_area.append_execute_result(NB_LOAD_WARNING)\n",
       "    }\n",
       "\n",
       "  }\n",
       "\n",
       "  if (root._bokeh_is_loading === 0) {\n",
       "    console.log(\"Bokeh: BokehJS loaded, going straight to plotting\");\n",
       "    run_inline_js();\n",
       "  } else {\n",
       "    load_libs(js_urls, function() {\n",
       "      console.log(\"Bokeh: BokehJS plotting callback run at\", now());\n",
       "      run_inline_js();\n",
       "    });\n",
       "  }\n",
       "}(window));"
      ],
      "application/vnd.bokehjs_load.v0+json": "\n(function(root) {\n  function now() {\n    return new Date();\n  }\n\n  var force = true;\n\n  if (typeof (root._bokeh_onload_callbacks) === \"undefined\" || force === true) {\n    root._bokeh_onload_callbacks = [];\n    root._bokeh_is_loading = undefined;\n  }\n\n  \n\n  \n  if (typeof (root._bokeh_timeout) === \"undefined\" || force === true) {\n    root._bokeh_timeout = Date.now() + 5000;\n    root._bokeh_failed_load = false;\n  }\n\n  var NB_LOAD_WARNING = {'data': {'text/html':\n     \"<div style='background-color: #fdd'>\\n\"+\n     \"<p>\\n\"+\n     \"BokehJS does not appear to have successfully loaded. If loading BokehJS from CDN, this \\n\"+\n     \"may be due to a slow or bad network connection. Possible fixes:\\n\"+\n     \"</p>\\n\"+\n     \"<ul>\\n\"+\n     \"<li>re-rerun `output_notebook()` to attempt to load from CDN again, or</li>\\n\"+\n     \"<li>use INLINE resources instead, as so:</li>\\n\"+\n     \"</ul>\\n\"+\n     \"<code>\\n\"+\n     \"from bokeh.resources import INLINE\\n\"+\n     \"output_notebook(resources=INLINE)\\n\"+\n     \"</code>\\n\"+\n     \"</div>\"}};\n\n  function display_loaded() {\n    var el = document.getElementById(\"232d66db-5e50-46f0-9b1a-575996105a65\");\n    if (el != null) {\n      el.textContent = \"BokehJS is loading...\";\n    }\n    if (root.Bokeh !== undefined) {\n      if (el != null) {\n        el.textContent = \"BokehJS \" + root.Bokeh.version + \" successfully loaded.\";\n      }\n    } else if (Date.now() < root._bokeh_timeout) {\n      setTimeout(display_loaded, 100)\n    }\n  }\n\n\n  function run_callbacks() {\n    try {\n      root._bokeh_onload_callbacks.forEach(function(callback) { callback() });\n    }\n    finally {\n      delete root._bokeh_onload_callbacks\n    }\n    console.info(\"Bokeh: all callbacks have finished\");\n  }\n\n  function load_libs(js_urls, callback) {\n    root._bokeh_onload_callbacks.push(callback);\n    if (root._bokeh_is_loading > 0) {\n      console.log(\"Bokeh: BokehJS is being loaded, scheduling callback at\", now());\n      return null;\n    }\n    if (js_urls == null || js_urls.length === 0) {\n      run_callbacks();\n      return null;\n    }\n    console.log(\"Bokeh: BokehJS not loaded, scheduling load and callback at\", now());\n    root._bokeh_is_loading = js_urls.length;\n    for (var i = 0; i < js_urls.length; i++) {\n      var url = js_urls[i];\n      var s = document.createElement('script');\n      s.src = url;\n      s.async = false;\n      s.onreadystatechange = s.onload = function() {\n        root._bokeh_is_loading--;\n        if (root._bokeh_is_loading === 0) {\n          console.log(\"Bokeh: all BokehJS libraries loaded\");\n          run_callbacks()\n        }\n      };\n      s.onerror = function() {\n        console.warn(\"failed to load library \" + url);\n      };\n      console.log(\"Bokeh: injecting script tag for BokehJS library: \", url);\n      document.getElementsByTagName(\"head\")[0].appendChild(s);\n    }\n  };var element = document.getElementById(\"232d66db-5e50-46f0-9b1a-575996105a65\");\n  if (element == null) {\n    console.log(\"Bokeh: ERROR: autoload.js configured with elementid '232d66db-5e50-46f0-9b1a-575996105a65' but no matching script tag was found. \")\n    return false;\n  }\n\n  var js_urls = [\"https://cdn.pydata.org/bokeh/release/bokeh-0.12.13.min.js\", \"https://cdn.pydata.org/bokeh/release/bokeh-widgets-0.12.13.min.js\", \"https://cdn.pydata.org/bokeh/release/bokeh-tables-0.12.13.min.js\", \"https://cdn.pydata.org/bokeh/release/bokeh-gl-0.12.13.min.js\"];\n\n  var inline_js = [\n    function(Bokeh) {\n      Bokeh.set_log_level(\"info\");\n    },\n    \n    function(Bokeh) {\n      \n    },\n    function(Bokeh) {\n      console.log(\"Bokeh: injecting CSS: https://cdn.pydata.org/bokeh/release/bokeh-0.12.13.min.css\");\n      Bokeh.embed.inject_css(\"https://cdn.pydata.org/bokeh/release/bokeh-0.12.13.min.css\");\n      console.log(\"Bokeh: injecting CSS: https://cdn.pydata.org/bokeh/release/bokeh-widgets-0.12.13.min.css\");\n      Bokeh.embed.inject_css(\"https://cdn.pydata.org/bokeh/release/bokeh-widgets-0.12.13.min.css\");\n      console.log(\"Bokeh: injecting CSS: https://cdn.pydata.org/bokeh/release/bokeh-tables-0.12.13.min.css\");\n      Bokeh.embed.inject_css(\"https://cdn.pydata.org/bokeh/release/bokeh-tables-0.12.13.min.css\");\n    }\n  ];\n\n  function run_inline_js() {\n    \n    if ((root.Bokeh !== undefined) || (force === true)) {\n      for (var i = 0; i < inline_js.length; i++) {\n        inline_js[i].call(root, root.Bokeh);\n      }if (force === true) {\n        display_loaded();\n      }} else if (Date.now() < root._bokeh_timeout) {\n      setTimeout(run_inline_js, 100);\n    } else if (!root._bokeh_failed_load) {\n      console.log(\"Bokeh: BokehJS failed to load within specified timeout.\");\n      root._bokeh_failed_load = true;\n    } else if (force !== true) {\n      var cell = $(document.getElementById(\"232d66db-5e50-46f0-9b1a-575996105a65\")).parents('.cell').data().cell;\n      cell.output_area.append_execute_result(NB_LOAD_WARNING)\n    }\n\n  }\n\n  if (root._bokeh_is_loading === 0) {\n    console.log(\"Bokeh: BokehJS loaded, going straight to plotting\");\n    run_inline_js();\n  } else {\n    load_libs(js_urls, function() {\n      console.log(\"Bokeh: BokehJS plotting callback run at\", now());\n      run_inline_js();\n    });\n  }\n}(window));"
     },
     "metadata": {},
     "output_type": "display_data"
    }
   ],
   "source": [
    "from bokeh.models import ColumnDataSource, LabelSet\n",
    "from bokeh.plotting import figure, show, output_file\n",
    "from bokeh.io import output_notebook\n",
    "output_notebook()"
   ]
  },
  {
   "cell_type": "markdown",
   "metadata": {},
   "source": [
    "### Part 0: Download the TED dataset"
   ]
  },
  {
   "cell_type": "code",
   "execution_count": 3,
   "metadata": {},
   "outputs": [],
   "source": [
    "import urllib.request\n",
    "import zipfile\n",
    "import lxml.etree"
   ]
  },
  {
   "cell_type": "code",
   "execution_count": 4,
   "metadata": {},
   "outputs": [],
   "source": [
    "# Download the dataset if it's not already there: this may take a minute as it is 75MB\n",
    "if not os.path.isfile('ted_en-20160408.zip'):\n",
    "    urllib.request.urlretrieve(\"https://wit3.fbk.eu/get.php?path=XML_releases/xml/ted_en-20160408.zip&filename=ted_en-20160408.zip\", filename=\"ted_en-20160408.zip\")"
   ]
  },
  {
   "cell_type": "code",
   "execution_count": 5,
   "metadata": {},
   "outputs": [],
   "source": [
    "# For now, we're only interested in the subtitle text, so let's extract that from the XML:\n",
    "with zipfile.ZipFile('ted_en-20160408.zip', 'r') as z:\n",
    "    doc = lxml.etree.parse(z.open('ted_en-20160408.xml', 'r'))\n",
    "input_text = '\\n'.join(doc.xpath('//content/text()'))\n",
    "del doc"
   ]
  },
  {
   "cell_type": "markdown",
   "metadata": {},
   "source": [
    "### Part 1: Preprocessing\n",
    "\n",
    "In this part, we attempt to clean up the raw subtitles a bit, so that we get only sentences. The following substring shows examples of what we're trying to get rid of. Since it's hard to define precisely what we want to get rid of, we'll just use some simple heuristics."
   ]
  },
  {
   "cell_type": "code",
   "execution_count": 6,
   "metadata": {
    "scrolled": false
   },
   "outputs": [
    {
     "data": {
      "text/plain": [
       "' baby does.\\n(Video) Hyowon Gweon: See this? (Ball squeaks) Did you see that? (Ball squeaks) Cool. See this one? (Ball squeaks) Wow.\\nLaura Schulz: Told you. (Laughs)\\n(Vide'"
      ]
     },
     "execution_count": 6,
     "metadata": {},
     "output_type": "execute_result"
    }
   ],
   "source": [
    "i = input_text.find(\"Hyowon Gweon: See this?\")\n",
    "input_text[i-20:i+150]"
   ]
  },
  {
   "cell_type": "markdown",
   "metadata": {},
   "source": [
    "Let's start by removing all parenthesized strings using a regex:"
   ]
  },
  {
   "cell_type": "code",
   "execution_count": 7,
   "metadata": {},
   "outputs": [],
   "source": [
    "input_text_noparens = re.sub(r'\\([^)]*\\)', '', input_text)"
   ]
  },
  {
   "cell_type": "markdown",
   "metadata": {},
   "source": [
    "We can verify the same location in the text is now clean as follows. We won't worry about the irregular spaces since we'll later split the text into sentences and tokenize it anyway."
   ]
  },
  {
   "cell_type": "code",
   "execution_count": 8,
   "metadata": {},
   "outputs": [
    {
     "data": {
      "text/plain": [
       "\"hat the baby does.\\n Hyowon Gweon: See this?  Did you see that?  Cool. See this one?  Wow.\\nLaura Schulz: Told you. \\n HG: See this one?  Hey Clara, this one's for you. You \""
      ]
     },
     "execution_count": 8,
     "metadata": {},
     "output_type": "execute_result"
    }
   ],
   "source": [
    "i = input_text_noparens.find(\"Hyowon Gweon: See this?\")\n",
    "input_text_noparens[i-20:i+150]"
   ]
  },
  {
   "cell_type": "markdown",
   "metadata": {},
   "source": [
    "Now, let's attempt to remove speakers' names that occur at the beginning of a line, by deleting pieces of the form \"`<up to 20 characters>:`\", as shown in this example. Of course, this is an imperfect heuristic. "
   ]
  },
  {
   "cell_type": "code",
   "execution_count": 9,
   "metadata": {},
   "outputs": [
    {
     "data": {
      "text/plain": [
       "[\"Here are two reasons companies fail: they only do more of the same, or they only do what's new\",\n",
       " 'To me the real, real solution to quality growth is figuring out the balance between two activities: exploration and exploitation',\n",
       " ' Both are necessary, but it can be too much of a good thing',\n",
       " 'Consider Facit',\n",
       " \" I'm actually old enough to remember them\"]"
      ]
     },
     "execution_count": 9,
     "metadata": {},
     "output_type": "execute_result"
    }
   ],
   "source": [
    "sentences_strings_ted = []\n",
    "for line in input_text_noparens.split('\\n'):\n",
    "    m = re.match(r'^(?:(?P<precolon>[^:]{,20}):)?(?P<postcolon>.*)$', line)\n",
    "    sentences_strings_ted.extend(sent for sent in m.groupdict()['postcolon'].split('.') if sent)\n",
    "\n",
    "# Uncomment if you need to save some RAM: these strings are about 50MB.\n",
    "# del input_text, input_text_noparens\n",
    "\n",
    "# Let's view the first few:\n",
    "sentences_strings_ted[:5]"
   ]
  },
  {
   "cell_type": "markdown",
   "metadata": {},
   "source": [
    "Now that we have sentences, we're ready to tokenize each of them into words. This tokenization is imperfect, of course. For instance, how many tokens is \"can't\", and where/how do we split it? We'll take the simplest naive approach of splitting on spaces. Before splitting, we remove non-alphanumeric characters, such as punctuation. You may want to consider the following question: why do we replace these characters with spaces rather than deleting them? Think of a case where this yields a different answer."
   ]
  },
  {
   "cell_type": "code",
   "execution_count": 10,
   "metadata": {},
   "outputs": [],
   "source": [
    "sentences_ted = []\n",
    "for sent_str in sentences_strings_ted:\n",
    "    tokens = re.sub(r\"[^a-z0-9]+\", \" \", sent_str.lower()).split()\n",
    "    sentences_ted.append(tokens)"
   ]
  },
  {
   "cell_type": "markdown",
   "metadata": {},
   "source": [
    "Two sample processed sentences:"
   ]
  },
  {
   "cell_type": "code",
   "execution_count": 11,
   "metadata": {},
   "outputs": [
    {
     "data": {
      "text/plain": [
       "266694"
      ]
     },
     "execution_count": 11,
     "metadata": {},
     "output_type": "execute_result"
    }
   ],
   "source": [
    "len(sentences_ted)"
   ]
  },
  {
   "cell_type": "code",
   "execution_count": 12,
   "metadata": {},
   "outputs": [
    {
     "name": "stdout",
     "output_type": "stream",
     "text": [
      "['here', 'are', 'two', 'reasons', 'companies', 'fail', 'they', 'only', 'do', 'more', 'of', 'the', 'same', 'or', 'they', 'only', 'do', 'what', 's', 'new']\n",
      "['to', 'me', 'the', 'real', 'real', 'solution', 'to', 'quality', 'growth', 'is', 'figuring', 'out', 'the', 'balance', 'between', 'two', 'activities', 'exploration', 'and', 'exploitation']\n"
     ]
    }
   ],
   "source": [
    "print(sentences_ted[0])\n",
    "print(sentences_ted[1])"
   ]
  },
  {
   "cell_type": "markdown",
   "metadata": {},
   "source": [
    "### Part 2: Word Frequencies"
   ]
  },
  {
   "cell_type": "markdown",
   "metadata": {},
   "source": [
    "If you store the counts of the top 1000 words in a list called `counts_ted_top1000`, the code below will plot the histogram requested in the writeup."
   ]
  },
  {
   "cell_type": "code",
   "execution_count": 13,
   "metadata": {},
   "outputs": [],
   "source": [
    "word_dict = {}\n",
    "for sentence_str in sentences_ted:\n",
    "    for word in sentence_str:\n",
    "        if word in word_dict:\n",
    "            word_dict[word]+=1\n",
    "        else:\n",
    "            word_dict[word]=1"
   ]
  },
  {
   "cell_type": "code",
   "execution_count": 14,
   "metadata": {},
   "outputs": [
    {
     "data": {
      "text/plain": [
       "54454"
      ]
     },
     "execution_count": 14,
     "metadata": {},
     "output_type": "execute_result"
    }
   ],
   "source": [
    "len(word_dict)"
   ]
  },
  {
   "cell_type": "code",
   "execution_count": 15,
   "metadata": {},
   "outputs": [],
   "source": [
    "counts_ted_top1000_tuple = sorted(word_dict.items(), key=lambda x:-x[1])\n",
    "counts_ted_top1000 = list(map(lambda x: int(x[1]),counts_ted_top1000_tuple))[0:1000]"
   ]
  },
  {
   "cell_type": "code",
   "execution_count": 16,
   "metadata": {},
   "outputs": [],
   "source": [
    "words_top_ted = list(map(lambda x: x[0],counts_ted_top1000_tuple))[0:1000]"
   ]
  },
  {
   "cell_type": "markdown",
   "metadata": {},
   "source": [
    "Plot distribution of top-1000 words"
   ]
  },
  {
   "cell_type": "code",
   "execution_count": 17,
   "metadata": {},
   "outputs": [
    {
     "data": {
      "text/html": [
       "\n",
       "<div class=\"bk-root\">\n",
       "    <div class=\"bk-plotdiv\" id=\"d10c260c-b39f-43b5-a96e-33715bce9bf8\"></div>\n",
       "</div>"
      ]
     },
     "metadata": {},
     "output_type": "display_data"
    },
    {
     "data": {
      "application/javascript": [
       "(function(root) {\n",
       "  function embed_document(root) {\n",
       "    \n",
       "  var docs_json = {\"8b3560b3-935d-4006-bc7a-732cb08977c6\":{\"roots\":{\"references\":[{\"attributes\":{\"dimension\":1,\"plot\":{\"id\":\"4b929771-4a76-40d3-a216-c58e9d016998\",\"subtype\":\"Figure\",\"type\":\"Plot\"},\"ticker\":{\"id\":\"6b027755-2c73-40f2-822e-2411f329caf7\",\"type\":\"BasicTicker\"}},\"id\":\"bf3a3aec-0425-4756-b9ab-d19a7007c567\",\"type\":\"Grid\"},{\"attributes\":{},\"id\":\"e85b842a-30cf-4a4b-8ba7-24425721910e\",\"type\":\"PanTool\"},{\"attributes\":{\"below\":[{\"id\":\"5394498f-0ec0-47c4-8088-3ec71fe49124\",\"type\":\"LinearAxis\"}],\"left\":[{\"id\":\"4b418dce-0339-4acb-bf3e-22f3e22ca519\",\"type\":\"LinearAxis\"}],\"renderers\":[{\"id\":\"5394498f-0ec0-47c4-8088-3ec71fe49124\",\"type\":\"LinearAxis\"},{\"id\":\"14510755-b5a2-4d03-8fce-393c0597498b\",\"type\":\"Grid\"},{\"id\":\"4b418dce-0339-4acb-bf3e-22f3e22ca519\",\"type\":\"LinearAxis\"},{\"id\":\"bf3a3aec-0425-4756-b9ab-d19a7007c567\",\"type\":\"Grid\"},{\"id\":\"d03898ed-6b12-4fda-95b1-159213d85580\",\"type\":\"GlyphRenderer\"}],\"title\":{\"id\":\"8933d418-d1f0-4ae6-953e-32eede9be054\",\"type\":\"Title\"},\"toolbar\":{\"id\":\"d73dde26-4c36-407d-8525-d270e6d0e50c\",\"type\":\"Toolbar\"},\"toolbar_location\":\"above\",\"x_range\":{\"id\":\"c1f3c5bc-adab-4cc0-933d-957a0c522c57\",\"type\":\"DataRange1d\"},\"x_scale\":{\"id\":\"4a39ddfd-9213-4052-81cd-f563898316b8\",\"type\":\"LinearScale\"},\"y_range\":{\"id\":\"e9d4d70c-be0d-4c5c-9251-1c4a79fd9242\",\"type\":\"DataRange1d\"},\"y_scale\":{\"id\":\"ad1c22e7-09b2-4277-8e8d-e3d0ea27f85a\",\"type\":\"LinearScale\"}},\"id\":\"4b929771-4a76-40d3-a216-c58e9d016998\",\"subtype\":\"Figure\",\"type\":\"Plot\"},{\"attributes\":{},\"id\":\"99562d4b-95f4-4b04-89b1-1947baac3a4f\",\"type\":\"BasicTickFormatter\"},{\"attributes\":{\"bottom\":{\"value\":0},\"fill_alpha\":{\"value\":0.1},\"fill_color\":{\"value\":\"#1f77b4\"},\"left\":{\"field\":\"left\"},\"line_alpha\":{\"value\":0.1},\"line_color\":{\"value\":\"#1f77b4\"},\"right\":{\"field\":\"right\"},\"top\":{\"field\":\"top\"}},\"id\":\"175d5b3c-3999-4b30-b31b-2ae1d5ce5e84\",\"type\":\"Quad\"},{\"attributes\":{\"plot\":null,\"text\":\"Top-1000 words distribution\"},\"id\":\"8933d418-d1f0-4ae6-953e-32eede9be054\",\"type\":\"Title\"},{\"attributes\":{\"data_source\":{\"id\":\"51c33b8c-8801-4b81-ae0e-3dad457c2ddf\",\"type\":\"ColumnDataSource\"},\"glyph\":{\"id\":\"30558fb4-c030-4ae7-a530-a38ca00e2466\",\"type\":\"Quad\"},\"hover_glyph\":null,\"muted_glyph\":null,\"nonselection_glyph\":{\"id\":\"175d5b3c-3999-4b30-b31b-2ae1d5ce5e84\",\"type\":\"Quad\"},\"selection_glyph\":null,\"view\":{\"id\":\"b6ff4eb8-5fe2-4aac-8c8d-492b03f1040f\",\"type\":\"CDSView\"}},\"id\":\"d03898ed-6b12-4fda-95b1-159213d85580\",\"type\":\"GlyphRenderer\"},{\"attributes\":{\"callback\":null,\"column_names\":[\"left\",\"right\",\"top\"],\"data\":{\"left\":{\"__ndarray__\":\"AAAAAABAeUB7FK5H4VqjQHsUrkfhxrFAuB6F61HguUB7FK5H4fzAQJqZmZmZCcVAuB6F61EWyUDXo3A9CiPNQHsUrkfhl9BACtejcD2e0kCamZmZmaTUQClcj8L1qtZAuB6F61Gx2EBI4XoUrrfaQNejcD0KvtxAZ2ZmZmbE3kB7FK5HYWXgQMP1KFyPaOFACtejcL1r4kBSuB6F627jQJqZmZkZcuRA4XoUrkd15UApXI/CdXjmQHE9Cteje+dAuB6F69F+6EAAAAAAAILpQEjhehQuhepAkML1KFyI60DXo3A9iovsQB+F61G4ju1AZ2ZmZuaR7kCuR+F6FJXvQHsUrkchTPBAH4XrUbjN8EDD9ShcT0/xQGdmZmbm0PFACtejcH1S8kCuR+F6FNTyQFK4HoWrVfNA9ihcj0LX80CamZmZ2Vj0QD4K16Nw2vRA4XoUrgdc9UCF61G4nt31QClcj8I1X/ZAzczMzMzg9kBxPQrXY2L3QBWuR+H64/dAuB6F65Fl+EBcj8L1KOf4QAAAAADAaPlApHA9Clfq+UBI4XoU7mv6QOxRuB6F7fpAkML1KBxv+0AzMzMzs/D7QNejcD1KcvxAexSuR+Hz/EAfhetReHX9QMP1KFwP9/1AZ2ZmZqZ4/kAK16NwPfr+QK5H4XrUe/9AUrgehWv9/0B7FK5HgT8AQc3MzMxMgABBH4XrURjBAEFxPQrX4wEBQcP1KFyvQgFBFa5H4XqDAUFnZmZmRsQBQbgehesRBQJBCtejcN1FAkFcj8L1qIYCQa5H4Xp0xwJBAAAAAEAIA0FSuB6FC0kDQaRwPQrXiQNB9ihcj6LKA0FI4XoUbgsEQZqZmZk5TARB7FG4HgWNBEE+Ctej0M0EQZDC9SicDgVB4XoUrmdPBUEzMzMzM5AFQYXrUbj+0AVB16NwPcoRBkEpXI/ClVIGQXsUrkdhkwZBzczMzCzUBkEfhetR+BQHQXE9CtfDVQdBw/UoXI+WB0EVrkfhWtcHQWdmZmYmGAhBuB6F6/FYCEEK16NwvZkIQVyPwvWI2ghBrkfhelQbCUE=\",\"dtype\":\"float64\",\"shape\":[100]},\"right\":{\"__ndarray__\":\"exSuR+Fao0B7FK5H4caxQLgehetR4LlAexSuR+H8wECamZmZmQnFQLgehetRFslA16NwPQojzUB7FK5H4ZfQQArXo3A9ntJAmpmZmZmk1EApXI/C9arWQLgehetRsdhASOF6FK632kDXo3A9Cr7cQGdmZmZmxN5AexSuR2Fl4EDD9Shcj2jhQArXo3C9a+JAUrgehetu40CamZmZGXLkQOF6FK5HdeVAKVyPwnV45kBxPQrXo3vnQLgehevRfuhAAAAAAACC6UBI4XoULoXqQJDC9ShciOtA16NwPYqL7EAfhetRuI7tQGdmZmbmke5ArkfhehSV70B7FK5HIUzwQB+F61G4zfBAw/UoXE9P8UBnZmZm5tDxQArXo3B9UvJArkfhehTU8kBSuB6Fq1XzQPYoXI9C1/NAmpmZmdlY9EA+CtejcNr0QOF6FK4HXPVAhetRuJ7d9UApXI/CNV/2QM3MzMzM4PZAcT0K12Ni90AVrkfh+uP3QLgeheuRZfhAXI/C9Sjn+EAAAAAAwGj5QKRwPQpX6vlASOF6FO5r+kDsUbgehe36QJDC9Sgcb/tAMzMzM7Pw+0DXo3A9SnL8QHsUrkfh8/xAH4XrUXh1/UDD9ShcD/f9QGdmZmameP5ACtejcD36/kCuR+F61Hv/QFK4HoVr/f9AexSuR4E/AEHNzMzMTIAAQR+F61EYwQBBcT0K1+MBAUHD9Shcr0IBQRWuR+F6gwFBZ2ZmZkbEAUG4HoXrEQUCQQrXo3DdRQJBXI/C9aiGAkGuR+F6dMcCQQAAAABACANBUrgehQtJA0GkcD0K14kDQfYoXI+iygNBSOF6FG4LBEGamZmZOUwEQexRuB4FjQRBPgrXo9DNBEGQwvUonA4FQeF6FK5nTwVBMzMzMzOQBUGF61G4/tAFQdejcD3KEQZBKVyPwpVSBkF7FK5HYZMGQc3MzMws1AZBH4XrUfgUB0FxPQrXw1UHQcP1KFyPlgdBFa5H4VrXB0FnZmZmJhgIQbgehevxWAhBCtejcL2ZCEFcj8L1iNoIQa5H4XpUGwlBAAAAACBcCUE=\",\"dtype\":\"float64\",\"shape\":[100]},\"top\":{\"__ndarray__\":\"50H1zNSBOT/ypb1tgHIBPwsriUb5Uew+zuTFiLI04j78kGUPxTHhPh40R25oQNY+zuTFiLI00j4pPQWW1y7APsTbB2FDRsg+JT0FltcuwD4tPQWW1y6wPi09BZbXLrA+JT0FltcuwD4tPQWW1y6gPiU9BZbXLrA+LT0FltcuoD4AAAAAAAAAADU9BZbXLqA+AAAAAAAAAAAAAAAAAAAAAAAAAAAAAAAAAAAAAAAAAAAAAAAAAAAAADU9BZbXLqA+AAAAAAAAAAAAAAAAAAAAAAAAAAAAAAAANT0FltcuoD4AAAAAAAAAAAAAAAAAAAAANT0FltcuoD4AAAAAAAAAACU9BZbXLqA+AAAAAAAAAAAlPQWW1y6gPkU9BZbXLqA+AAAAAAAAAAAlPQWW1y6gPgAAAAAAAAAAJT0FltcuoD4AAAAAAAAAAAAAAAAAAAAAAAAAAAAAAAAAAAAAAAAAAAAAAAAAAAAAJT0FltcuoD4AAAAAAAAAAAAAAAAAAAAAAAAAAAAAAAAAAAAAAAAAACU9BZbXLqA+AAAAAAAAAAAAAAAAAAAAAAAAAAAAAAAAAAAAAAAAAAAlPQWW1y6gPgAAAAAAAAAAAAAAAAAAAAAAAAAAAAAAAAAAAAAAAAAART0FltcuoD4AAAAAAAAAAAAAAAAAAAAAAAAAAAAAAAAAAAAAAAAAAAAAAAAAAAAAAAAAAAAAAAAAAAAAAAAAAAAAAAAAAAAAAAAAAAAAAAAAAAAAAAAAACU9BZbXLqA+AAAAAAAAAAAAAAAAAAAAAAAAAAAAAAAAAAAAAAAAAAAAAAAAAAAAAAAAAAAAAAAAAAAAAAAAAAAAAAAAAAAAAAAAAAAAAAAAAAAAAAAAAAAAAAAAAAAAAAAAAAAAAAAAAAAAAAAAAAAAAAAAAAAAAAAAAAAAAAAAAAAAAAAAAAAAAAAAAAAAAAAAAAAAAAAAAAAAAAAAAAAAAAAAAAAAAAAAAAAAAAAAAAAAAAAAAAAAAAAAAAAAAAAAAAAAAAAAAAAAAAAAAAAAAAAAAAAAAAAAAAAAAAAAJT0FltcuoD4=\",\"dtype\":\"float64\",\"shape\":[100]}}},\"id\":\"51c33b8c-8801-4b81-ae0e-3dad457c2ddf\",\"type\":\"ColumnDataSource\"},{\"attributes\":{},\"id\":\"318297af-425a-4710-aef0-bd85efb1590b\",\"type\":\"WheelZoomTool\"},{\"attributes\":{},\"id\":\"3a5181a0-9369-4036-921c-c32783ed5084\",\"type\":\"ResetTool\"},{\"attributes\":{\"source\":{\"id\":\"51c33b8c-8801-4b81-ae0e-3dad457c2ddf\",\"type\":\"ColumnDataSource\"}},\"id\":\"b6ff4eb8-5fe2-4aac-8c8d-492b03f1040f\",\"type\":\"CDSView\"},{\"attributes\":{},\"id\":\"d63122a2-7281-47ca-87f6-bf1e30cff32b\",\"type\":\"SaveTool\"},{\"attributes\":{\"bottom\":{\"value\":0},\"fill_color\":{\"value\":\"#1f77b4\"},\"left\":{\"field\":\"left\"},\"line_color\":{\"value\":\"#555555\"},\"right\":{\"field\":\"right\"},\"top\":{\"field\":\"top\"}},\"id\":\"30558fb4-c030-4ae7-a530-a38ca00e2466\",\"type\":\"Quad\"},{\"attributes\":{\"plot\":{\"id\":\"4b929771-4a76-40d3-a216-c58e9d016998\",\"subtype\":\"Figure\",\"type\":\"Plot\"},\"ticker\":{\"id\":\"fc601440-fb49-4bc3-873c-0a13b93a91d5\",\"type\":\"BasicTicker\"}},\"id\":\"14510755-b5a2-4d03-8fce-393c0597498b\",\"type\":\"Grid\"},{\"attributes\":{\"active_drag\":\"auto\",\"active_inspect\":\"auto\",\"active_scroll\":\"auto\",\"active_tap\":\"auto\",\"tools\":[{\"id\":\"e85b842a-30cf-4a4b-8ba7-24425721910e\",\"type\":\"PanTool\"},{\"id\":\"318297af-425a-4710-aef0-bd85efb1590b\",\"type\":\"WheelZoomTool\"},{\"id\":\"3a5181a0-9369-4036-921c-c32783ed5084\",\"type\":\"ResetTool\"},{\"id\":\"d63122a2-7281-47ca-87f6-bf1e30cff32b\",\"type\":\"SaveTool\"}]},\"id\":\"d73dde26-4c36-407d-8525-d270e6d0e50c\",\"type\":\"Toolbar\"},{\"attributes\":{},\"id\":\"4a39ddfd-9213-4052-81cd-f563898316b8\",\"type\":\"LinearScale\"},{\"attributes\":{\"callback\":null},\"id\":\"c1f3c5bc-adab-4cc0-933d-957a0c522c57\",\"type\":\"DataRange1d\"},{\"attributes\":{\"callback\":null},\"id\":\"e9d4d70c-be0d-4c5c-9251-1c4a79fd9242\",\"type\":\"DataRange1d\"},{\"attributes\":{},\"id\":\"ad1c22e7-09b2-4277-8e8d-e3d0ea27f85a\",\"type\":\"LinearScale\"},{\"attributes\":{},\"id\":\"4db81576-7677-44e7-a361-2a66b98ed7fe\",\"type\":\"BasicTickFormatter\"},{\"attributes\":{},\"id\":\"6b027755-2c73-40f2-822e-2411f329caf7\",\"type\":\"BasicTicker\"},{\"attributes\":{\"formatter\":{\"id\":\"99562d4b-95f4-4b04-89b1-1947baac3a4f\",\"type\":\"BasicTickFormatter\"},\"plot\":{\"id\":\"4b929771-4a76-40d3-a216-c58e9d016998\",\"subtype\":\"Figure\",\"type\":\"Plot\"},\"ticker\":{\"id\":\"fc601440-fb49-4bc3-873c-0a13b93a91d5\",\"type\":\"BasicTicker\"}},\"id\":\"5394498f-0ec0-47c4-8088-3ec71fe49124\",\"type\":\"LinearAxis\"},{\"attributes\":{},\"id\":\"fc601440-fb49-4bc3-873c-0a13b93a91d5\",\"type\":\"BasicTicker\"},{\"attributes\":{\"formatter\":{\"id\":\"4db81576-7677-44e7-a361-2a66b98ed7fe\",\"type\":\"BasicTickFormatter\"},\"plot\":{\"id\":\"4b929771-4a76-40d3-a216-c58e9d016998\",\"subtype\":\"Figure\",\"type\":\"Plot\"},\"ticker\":{\"id\":\"6b027755-2c73-40f2-822e-2411f329caf7\",\"type\":\"BasicTicker\"}},\"id\":\"4b418dce-0339-4acb-bf3e-22f3e22ca519\",\"type\":\"LinearAxis\"}],\"root_ids\":[\"4b929771-4a76-40d3-a216-c58e9d016998\"]},\"title\":\"Bokeh Application\",\"version\":\"0.12.13\"}};\n",
       "  var render_items = [{\"docid\":\"8b3560b3-935d-4006-bc7a-732cb08977c6\",\"elementid\":\"d10c260c-b39f-43b5-a96e-33715bce9bf8\",\"modelid\":\"4b929771-4a76-40d3-a216-c58e9d016998\"}];\n",
       "  root.Bokeh.embed.embed_items_notebook(docs_json, render_items);\n",
       "\n",
       "  }\n",
       "  if (root.Bokeh !== undefined) {\n",
       "    embed_document(root);\n",
       "  } else {\n",
       "    var attempts = 0;\n",
       "    var timer = setInterval(function(root) {\n",
       "      if (root.Bokeh !== undefined) {\n",
       "        embed_document(root);\n",
       "        clearInterval(timer);\n",
       "      }\n",
       "      attempts++;\n",
       "      if (attempts > 100) {\n",
       "        console.log(\"Bokeh: ERROR: Unable to run BokehJS code because BokehJS library is missing\")\n",
       "        clearInterval(timer);\n",
       "      }\n",
       "    }, 10, root)\n",
       "  }\n",
       "})(window);"
      ],
      "application/vnd.bokehjs_exec.v0+json": ""
     },
     "metadata": {
      "application/vnd.bokehjs_exec.v0+json": {
       "id": "4b929771-4a76-40d3-a216-c58e9d016998"
      }
     },
     "output_type": "display_data"
    }
   ],
   "source": [
    "hist, edges = np.histogram(counts_ted_top1000, density=True, bins=100, normed=True)\n",
    "\n",
    "p = figure(tools=\"pan,wheel_zoom,reset,save\",\n",
    "           toolbar_location=\"above\",\n",
    "           title=\"Top-1000 words distribution\")\n",
    "p.quad(top=hist, bottom=0, left=edges[:-1], right=edges[1:], line_color=\"#555555\")\n",
    "show(p)"
   ]
  },
  {
   "cell_type": "markdown",
   "metadata": {},
   "source": [
    "### Part 3: Train Word2Vec"
   ]
  },
  {
   "cell_type": "code",
   "execution_count": 18,
   "metadata": {},
   "outputs": [],
   "source": [
    "from gensim.models import Word2Vec"
   ]
  },
  {
   "cell_type": "code",
   "execution_count": 19,
   "metadata": {},
   "outputs": [],
   "source": [
    "model_ted = Word2Vec(sentences_ted, min_count=10)"
   ]
  },
  {
   "cell_type": "code",
   "execution_count": 20,
   "metadata": {},
   "outputs": [
    {
     "data": {
      "text/plain": [
       "14427"
      ]
     },
     "execution_count": 20,
     "metadata": {},
     "output_type": "execute_result"
    }
   ],
   "source": [
    "len(model_ted.wv.vocab)"
   ]
  },
  {
   "cell_type": "markdown",
   "metadata": {},
   "source": [
    "### Part 4: Ted Learnt Representations"
   ]
  },
  {
   "cell_type": "markdown",
   "metadata": {},
   "source": [
    "Finding similar words: (see gensim docs for more functionality of `most_similar`)"
   ]
  },
  {
   "cell_type": "code",
   "execution_count": 21,
   "metadata": {},
   "outputs": [
    {
     "data": {
      "text/plain": [
       "[('woman', 0.8534600734710693),\n",
       " ('guy', 0.821435272693634),\n",
       " ('girl', 0.7714436054229736),\n",
       " ('lady', 0.7711684703826904),\n",
       " ('boy', 0.752802848815918),\n",
       " ('gentleman', 0.7417242527008057),\n",
       " ('soldier', 0.7314392328262329),\n",
       " ('kid', 0.71315598487854),\n",
       " ('poet', 0.6903650164604187),\n",
       " ('david', 0.6716361045837402)]"
      ]
     },
     "execution_count": 21,
     "metadata": {},
     "output_type": "execute_result"
    }
   ],
   "source": [
    "model_ted.wv.most_similar(\"man\")"
   ]
  },
  {
   "cell_type": "code",
   "execution_count": 22,
   "metadata": {},
   "outputs": [
    {
     "data": {
      "text/plain": [
       "[('machine', 0.7325522899627686),\n",
       " ('software', 0.7231380343437195),\n",
       " ('device', 0.698112964630127),\n",
       " ('robot', 0.684914231300354),\n",
       " ('video', 0.6490126848220825),\n",
       " ('chip', 0.6483314037322998),\n",
       " ('camera', 0.642539381980896),\n",
       " ('3d', 0.6290055513381958),\n",
       " ('interface', 0.6268085837364197),\n",
       " ('keyboard', 0.6242059469223022)]"
      ]
     },
     "execution_count": 22,
     "metadata": {},
     "output_type": "execute_result"
    }
   ],
   "source": [
    "model_ted.wv.most_similar(\"computer\")"
   ]
  },
  {
   "cell_type": "code",
   "execution_count": 23,
   "metadata": {},
   "outputs": [
    {
     "data": {
      "text/plain": [
       "[('guy', 0.7220675349235535),\n",
       " ('film', 0.7105571031570435),\n",
       " ('kid', 0.7078685760498047),\n",
       " ('piano', 0.6923092007637024),\n",
       " ('lady', 0.6725990176200867),\n",
       " ('gentleman', 0.6662560701370239)]"
      ]
     },
     "execution_count": 23,
     "metadata": {},
     "output_type": "execute_result"
    }
   ],
   "source": [
    "model_ted.wv.most_similar(positive=['man', 'computer'], topn=6)"
   ]
  },
  {
   "cell_type": "code",
   "execution_count": 24,
   "metadata": {},
   "outputs": [
    {
     "data": {
      "text/plain": [
       "[('teacher', 0.7772747278213501),\n",
       " ('college', 0.7640669345855713),\n",
       " ('student', 0.7425240278244019),\n",
       " ('hospital', 0.7081142067909241),\n",
       " ('clinic', 0.6959046125411987),\n",
       " ('husband', 0.6904762983322144),\n",
       " ('home', 0.6848893165588379),\n",
       " ('professor', 0.6684402227401733),\n",
       " ('kid', 0.6684151887893677),\n",
       " ('friend', 0.6614577770233154),\n",
       " ('graduate', 0.6537635922431946)]"
      ]
     },
     "execution_count": 24,
     "metadata": {},
     "output_type": "execute_result"
    }
   ],
   "source": [
    "model_ted.wv.most_similar(positive=['school','doctor'], topn=11)"
   ]
  },
  {
   "cell_type": "code",
   "execution_count": 25,
   "metadata": {},
   "outputs": [
    {
     "data": {
      "text/plain": [
       "[('spend', 0.6709539294242859),\n",
       " ('lived', 0.5989339351654053),\n",
       " ('worked', 0.5584911108016968),\n",
       " ('lost', 0.5550718307495117),\n",
       " ('reached', 0.5429132580757141),\n",
       " ('during', 0.5318627953529358),\n",
       " ('met', 0.5317579507827759),\n",
       " ('visited', 0.5281738042831421),\n",
       " ('spends', 0.5189577341079712),\n",
       " ('started', 0.5180661678314209),\n",
       " ('entered', 0.5131751298904419)]"
      ]
     },
     "execution_count": 25,
     "metadata": {},
     "output_type": "execute_result"
    }
   ],
   "source": [
    "model_ted.wv.most_similar(positive=['spent'], topn=11)"
   ]
  },
  {
   "cell_type": "code",
   "execution_count": 26,
   "metadata": {},
   "outputs": [
    {
     "data": {
      "text/plain": [
       "[('20', 0.9437784552574158),\n",
       " ('40', 0.9341068267822266),\n",
       " ('50', 0.9232423901557922),\n",
       " ('15', 0.9213166236877441),\n",
       " ('60', 0.9104868769645691),\n",
       " ('10', 0.9029535055160522),\n",
       " ('25', 0.9007618427276611),\n",
       " ('45', 0.8917738795280457),\n",
       " ('200', 0.8836663961410522),\n",
       " ('35', 0.8829154968261719),\n",
       " ('12', 0.8750375509262085)]"
      ]
     },
     "execution_count": 26,
     "metadata": {},
     "output_type": "execute_result"
    }
   ],
   "source": [
    "model_ted.wv.most_similar(positive=['30'], topn=11)"
   ]
  },
  {
   "cell_type": "markdown",
   "metadata": {},
   "source": [
    "#### t-SNE visualization\n",
    "To use the t-SNE code below, first put a list of the top 1000 words (as strings) into a variable `words_top_ted`. The following code gets the corresponding vectors from the model, assuming it's called `model_ted`:"
   ]
  },
  {
   "cell_type": "code",
   "execution_count": 28,
   "metadata": {},
   "outputs": [],
   "source": [
    "# This assumes words_top_ted is a list of strings, the top 1000 words\n",
    "words_top_vec_ted = model_ted.wv[words_top_ted]"
   ]
  },
  {
   "cell_type": "code",
   "execution_count": 29,
   "metadata": {},
   "outputs": [],
   "source": [
    "from sklearn.manifold import TSNE\n",
    "tsne = TSNE(n_components=2, random_state=0)\n",
    "words_top_ted_tsne = tsne.fit_transform(words_top_vec_ted)"
   ]
  },
  {
   "cell_type": "code",
   "execution_count": 30,
   "metadata": {},
   "outputs": [
    {
     "data": {
      "text/html": [
       "\n",
       "<div class=\"bk-root\">\n",
       "    <div class=\"bk-plotdiv\" id=\"d07eab2d-3c6d-4aa2-bff5-4d5924f4c7d3\"></div>\n",
       "</div>"
      ]
     },
     "metadata": {},
     "output_type": "display_data"
    },
    {
     "data": {
      "application/javascript": [
       "(function(root) {\n",
       "  function embed_document(root) {\n",
       "    \n",
       "  var docs_json = {\"58ca93c5-bc4f-4b0b-b32f-5b57cccc2e76\":{\"roots\":{\"references\":[{\"attributes\":{},\"id\":\"3492bb00-2825-4a53-98d8-bd66a4345db6\",\"type\":\"LinearScale\"},{\"attributes\":{\"plot\":{\"id\":\"db88116b-dbc0-405c-84e1-8bac57281900\",\"subtype\":\"Figure\",\"type\":\"Plot\"},\"source\":{\"id\":\"d13c9461-4cb6-4320-a55d-7e004684e3eb\",\"type\":\"ColumnDataSource\"},\"text\":{\"field\":\"names\"},\"text_align\":\"center\",\"text_color\":{\"value\":\"#555555\"},\"text_font_size\":{\"value\":\"8pt\"},\"x\":{\"field\":\"x1\"},\"y\":{\"field\":\"x2\"},\"y_offset\":{\"value\":6}},\"id\":\"e7210c39-c31e-40f3-8a1b-008480a50927\",\"type\":\"LabelSet\"},{\"attributes\":{\"plot\":{\"id\":\"db88116b-dbc0-405c-84e1-8bac57281900\",\"subtype\":\"Figure\",\"type\":\"Plot\"},\"ticker\":{\"id\":\"e310eee8-1052-4865-83e6-2242c1d1a17d\",\"type\":\"BasicTicker\"}},\"id\":\"cc9830eb-62f8-4eb2-8e11-b53b93d27934\",\"type\":\"Grid\"},{\"attributes\":{\"formatter\":{\"id\":\"7d103633-da42-4d57-a868-15ceb3b4a837\",\"type\":\"BasicTickFormatter\"},\"plot\":{\"id\":\"db88116b-dbc0-405c-84e1-8bac57281900\",\"subtype\":\"Figure\",\"type\":\"Plot\"},\"ticker\":{\"id\":\"e310eee8-1052-4865-83e6-2242c1d1a17d\",\"type\":\"BasicTicker\"}},\"id\":\"f3dba9bc-fbf5-4f38-aea0-f2875eca1fe3\",\"type\":\"LinearAxis\"},{\"attributes\":{\"data_source\":{\"id\":\"d13c9461-4cb6-4320-a55d-7e004684e3eb\",\"type\":\"ColumnDataSource\"},\"glyph\":{\"id\":\"1b685607-5424-4108-96ea-334203abd2d0\",\"type\":\"Circle\"},\"hover_glyph\":null,\"muted_glyph\":null,\"nonselection_glyph\":{\"id\":\"44f8a5ca-1ef6-40a6-8b4b-2d6963d85880\",\"type\":\"Circle\"},\"selection_glyph\":null,\"view\":{\"id\":\"d4c10893-a94f-4cbd-85fb-f24f9ee25d97\",\"type\":\"CDSView\"}},\"id\":\"3df7616e-8518-4b78-8f60-e6bc0d6b2e31\",\"type\":\"GlyphRenderer\"},{\"attributes\":{},\"id\":\"e310eee8-1052-4865-83e6-2242c1d1a17d\",\"type\":\"BasicTicker\"},{\"attributes\":{\"formatter\":{\"id\":\"f7030b00-6aff-42a7-be2e-e2f6345e2dfc\",\"type\":\"BasicTickFormatter\"},\"plot\":{\"id\":\"db88116b-dbc0-405c-84e1-8bac57281900\",\"subtype\":\"Figure\",\"type\":\"Plot\"},\"ticker\":{\"id\":\"bcfcca36-8864-4b90-aa00-6199e8738cca\",\"type\":\"BasicTicker\"}},\"id\":\"13e503a7-43f2-41ce-bb49-db4f257af65f\",\"type\":\"LinearAxis\"},{\"attributes\":{},\"id\":\"225cb6d9-f3c7-4307-81d1-7f2e05b7e9a1\",\"type\":\"ResetTool\"},{\"attributes\":{},\"id\":\"bcfcca36-8864-4b90-aa00-6199e8738cca\",\"type\":\"BasicTicker\"},{\"attributes\":{\"source\":{\"id\":\"d13c9461-4cb6-4320-a55d-7e004684e3eb\",\"type\":\"ColumnDataSource\"}},\"id\":\"d4c10893-a94f-4cbd-85fb-f24f9ee25d97\",\"type\":\"CDSView\"},{\"attributes\":{\"dimension\":1,\"plot\":{\"id\":\"db88116b-dbc0-405c-84e1-8bac57281900\",\"subtype\":\"Figure\",\"type\":\"Plot\"},\"ticker\":{\"id\":\"bcfcca36-8864-4b90-aa00-6199e8738cca\",\"type\":\"BasicTicker\"}},\"id\":\"d7ef339d-41bc-4e2e-add1-e8b8bcadfcab\",\"type\":\"Grid\"},{\"attributes\":{\"fill_alpha\":{\"value\":0.1},\"fill_color\":{\"value\":\"#1f77b4\"},\"line_alpha\":{\"value\":0.1},\"line_color\":{\"value\":\"#1f77b4\"},\"size\":{\"units\":\"screen\",\"value\":8},\"x\":{\"field\":\"x1\"},\"y\":{\"field\":\"x2\"}},\"id\":\"44f8a5ca-1ef6-40a6-8b4b-2d6963d85880\",\"type\":\"Circle\"},{\"attributes\":{},\"id\":\"f7030b00-6aff-42a7-be2e-e2f6345e2dfc\",\"type\":\"BasicTickFormatter\"},{\"attributes\":{\"below\":[{\"id\":\"f3dba9bc-fbf5-4f38-aea0-f2875eca1fe3\",\"type\":\"LinearAxis\"}],\"left\":[{\"id\":\"13e503a7-43f2-41ce-bb49-db4f257af65f\",\"type\":\"LinearAxis\"}],\"renderers\":[{\"id\":\"f3dba9bc-fbf5-4f38-aea0-f2875eca1fe3\",\"type\":\"LinearAxis\"},{\"id\":\"cc9830eb-62f8-4eb2-8e11-b53b93d27934\",\"type\":\"Grid\"},{\"id\":\"13e503a7-43f2-41ce-bb49-db4f257af65f\",\"type\":\"LinearAxis\"},{\"id\":\"d7ef339d-41bc-4e2e-add1-e8b8bcadfcab\",\"type\":\"Grid\"},{\"id\":\"3df7616e-8518-4b78-8f60-e6bc0d6b2e31\",\"type\":\"GlyphRenderer\"},{\"id\":\"e7210c39-c31e-40f3-8a1b-008480a50927\",\"type\":\"LabelSet\"}],\"title\":{\"id\":\"ed809e9e-74c0-4082-9516-0b8081525545\",\"type\":\"Title\"},\"toolbar\":{\"id\":\"ff81fbee-9d07-4188-93aa-021c35dc51d5\",\"type\":\"Toolbar\"},\"toolbar_location\":\"above\",\"x_range\":{\"id\":\"1542fdcb-aea2-4a37-9870-72b2d58897d2\",\"type\":\"DataRange1d\"},\"x_scale\":{\"id\":\"ea796def-a170-4316-9c96-f7f3cfe76eb1\",\"type\":\"LinearScale\"},\"y_range\":{\"id\":\"284a495d-d51e-4c99-8763-ea16c49affe1\",\"type\":\"DataRange1d\"},\"y_scale\":{\"id\":\"3492bb00-2825-4a53-98d8-bd66a4345db6\",\"type\":\"LinearScale\"}},\"id\":\"db88116b-dbc0-405c-84e1-8bac57281900\",\"subtype\":\"Figure\",\"type\":\"Plot\"},{\"attributes\":{\"callback\":null,\"column_names\":[\"x1\",\"x2\",\"names\"],\"data\":{\"names\":[\"the\",\"and\",\"to\",\"of\",\"a\",\"that\",\"i\",\"in\",\"it\",\"you\",\"we\",\"is\",\"s\",\"this\",\"so\",\"they\",\"was\",\"for\",\"are\",\"have\",\"but\",\"what\",\"on\",\"with\",\"can\",\"t\",\"about\",\"there\",\"be\",\"as\",\"at\",\"all\",\"not\",\"do\",\"my\",\"one\",\"re\",\"people\",\"like\",\"if\",\"from\",\"now\",\"our\",\"he\",\"an\",\"just\",\"these\",\"or\",\"when\",\"because\",\"very\",\"me\",\"out\",\"by\",\"them\",\"how\",\"know\",\"up\",\"going\",\"had\",\"more\",\"think\",\"who\",\"were\",\"see\",\"your\",\"their\",\"which\",\"would\",\"here\",\"really\",\"get\",\"ve\",\"then\",\"m\",\"world\",\"us\",\"time\",\"some\",\"has\",\"don\",\"actually\",\"into\",\"way\",\"where\",\"will\",\"years\",\"things\",\"other\",\"no\",\"could\",\"go\",\"well\",\"want\",\"been\",\"make\",\"right\",\"she\",\"said\",\"something\",\"those\",\"first\",\"two\",\"than\",\"much\",\"also\",\"look\",\"new\",\"thing\",\"little\",\"got\",\"back\",\"over\",\"most\",\"say\",\"even\",\"his\",\"life\",\"only\",\"work\",\"many\",\"take\",\"need\",\"did\",\"lot\",\"kind\",\"why\",\"good\",\"around\",\"every\",\"different\",\"down\",\"ll\",\"let\",\"her\",\"through\",\"same\",\"being\",\"come\",\"d\",\"day\",\"year\",\"three\",\"use\",\"doing\",\"put\",\"called\",\"any\",\"today\",\"percent\",\"made\",\"after\",\"thank\",\"tell\",\"great\",\"human\",\"find\",\"didn\",\"fact\",\"talk\",\"change\",\"started\",\"another\",\"idea\",\"big\",\"last\",\"own\",\"before\",\"its\",\"never\",\"should\",\"better\",\"give\",\"thought\",\"went\",\"might\",\"important\",\"000\",\"again\",\"able\",\"together\",\"still\",\"problem\",\"off\",\"next\",\"part\",\"course\",\"system\",\"him\",\"does\",\"each\",\"start\",\"show\",\"long\",\"ago\",\"story\",\"came\",\"brain\",\"few\",\"bit\",\"between\",\"used\",\"place\",\"technology\",\"women\",\"too\",\"old\",\"mean\",\"data\",\"water\",\"looking\",\"question\",\"maybe\",\"found\",\"love\",\"doesn\",\"end\",\"example\",\"10\",\"done\",\"point\",\"four\",\"real\",\"wanted\",\"ever\",\"school\",\"understand\",\"sort\",\"live\",\"call\",\"whole\",\"children\",\"always\",\"trying\",\"may\",\"person\",\"away\",\"believe\",\"feel\",\"try\",\"million\",\"working\",\"help\",\"everything\",\"five\",\"country\",\"thinking\",\"second\",\"using\",\"information\",\"money\",\"means\",\"power\",\"took\",\"times\",\"high\",\"space\",\"number\",\"kids\",\"home\",\"become\",\"create\",\"small\",\"design\",\"making\",\"best\",\"left\",\"getting\",\"future\",\"enough\",\"man\",\"quite\",\"city\",\"without\",\"sense\",\"happened\",\"comes\",\"social\",\"probably\",\"less\",\"light\",\"talking\",\"energy\",\"am\",\"building\",\"science\",\"food\",\"body\",\"told\",\"interesting\",\"ask\",\"half\",\"pretty\",\"hard\",\"play\",\"anything\",\"lives\",\"countries\",\"coming\",\"such\",\"family\",\"stuff\",\"dollars\",\"earth\",\"moment\",\"20\",\"imagine\",\"across\",\"side\",\"while\",\"saw\",\"happen\",\"once\",\"okay\",\"build\",\"having\",\"men\",\"later\",\"experience\",\"makes\",\"asked\",\"living\",\"seen\",\"says\",\"room\",\"hand\",\"simple\",\"health\",\"ways\",\"else\",\"case\",\"yet\",\"almost\",\"young\",\"days\",\"nothing\",\"care\",\"bad\",\"happens\",\"goes\",\"move\",\"states\",\"reason\",\"computer\",\"open\",\"learn\",\"africa\",\"process\",\"inside\",\"someone\",\"six\",\"far\",\"mind\",\"project\",\"remember\",\"single\",\"picture\",\"both\",\"whether\",\"problems\",\"saying\",\"community\",\"basically\",\"already\",\"within\",\"looked\",\"myself\",\"billion\",\"often\",\"possible\",\"business\",\"planet\",\"global\",\"everybody\",\"top\",\"sure\",\"public\",\"set\",\"wrong\",\"car\",\"book\",\"keep\",\"yes\",\"answer\",\"oh\",\"hope\",\"sometimes\",\"true\",\"history\",\"war\",\"guy\",\"child\",\"instead\",\"months\",\"ideas\",\"looks\",\"matter\",\"government\",\"amazing\",\"united\",\"since\",\"bring\",\"age\",\"cells\",\"job\",\"heard\",\"until\",\"face\",\"wasn\",\"100\",\"read\",\"control\",\"isn\",\"research\",\"30\",\"words\",\"u\",\"group\",\"under\",\"self\",\"somebody\",\"built\",\"state\",\"woman\",\"turn\",\"friends\",\"beautiful\",\"line\",\"knew\",\"couple\",\"order\",\"form\",\"yeah\",\"internet\",\"middle\",\"music\",\"piece\",\"nature\",\"head\",\"though\",\"stop\",\"everyone\",\"50\",\"places\",\"video\",\"learned\",\"language\",\"run\",\"night\",\"decided\",\"study\",\"word\",\"cancer\",\"taking\",\"works\",\"became\",\"exactly\",\"species\",\"society\",\"completely\",\"education\",\"against\",\"stories\",\"large\",\"share\",\"level\",\"heart\",\"america\",\"model\",\"questions\",\"gets\",\"mother\",\"god\",\"company\",\"turns\",\"ourselves\",\"happening\",\"hear\",\"art\",\"themselves\",\"must\",\"itself\",\"rather\",\"kinds\",\"students\",\"name\",\"hours\",\"disease\",\"front\",\"house\",\"huge\",\"couldn\",\"created\",\"universe\",\"ok\",\"animals\",\"american\",\"environment\",\"worked\",\"minutes\",\"ones\",\"black\",\"perhaps\",\"1\",\"past\",\"third\",\"along\",\"others\",\"finally\",\"sound\",\"early\",\"game\",\"thousands\",\"century\",\"based\",\"least\",\"per\",\"ted\",\"lots\",\"figure\",\"free\",\"guys\",\"particular\",\"happy\",\"news\",\"learning\",\"entire\",\"won\",\"gave\",\"machine\",\"india\",\"during\",\"systems\",\"air\",\"difference\",\"outside\",\"natural\",\"taken\",\"seven\",\"given\",\"changed\",\"leave\",\"cell\",\"15\",\"close\",\"behind\",\"cities\",\"full\",\"scale\",\"difficult\",\"china\",\"takes\",\"companies\",\"yourself\",\"area\",\"reality\",\"seeing\",\"easy\",\"turned\",\"cost\",\"eyes\",\"team\",\"moving\",\"population\",\"culture\",\"york\",\"hands\",\"whatever\",\"began\",\"needs\",\"terms\",\"image\",\"simply\",\"needed\",\"beginning\",\"father\",\"local\",\"realized\",\"media\",\"death\",\"parents\",\"view\",\"walk\",\"white\",\"market\",\"parts\",\"ocean\",\"economic\",\"eight\",\"powerful\",\"known\",\"week\",\"size\",\"felt\",\"humans\",\"certain\",\"spend\",\"longer\",\"phone\",\"wonderful\",\"cannot\",\"grow\",\"common\",\"center\",\"tried\",\"fish\",\"land\",\"oil\",\"political\",\"interested\",\"deal\",\"red\",\"gone\",\"amount\",\"weeks\",\"spent\",\"opportunity\",\"paper\",\"lost\",\"national\",\"quickly\",\"blue\",\"step\",\"poor\",\"green\",\"buy\",\"growth\",\"wouldn\",\"either\",\"patients\",\"sitting\",\"ability\",\"changes\",\"write\",\"challenge\",\"south\",\"low\",\"growing\",\"friend\",\"field\",\"shows\",\"2\",\"born\",\"rest\",\"climate\",\"40\",\"test\",\"street\",\"surface\",\"incredible\",\"average\",\"physical\",\"morning\",\"scientists\",\"program\",\"pay\",\"value\",\"feeling\",\"hundreds\",\"girl\",\"met\",\"behavior\",\"economy\",\"dna\",\"complex\",\"access\",\"risk\",\"animal\",\"structure\",\"feet\",\"attention\",\"areas\",\"anyone\",\"deep\",\"watch\",\"short\",\"absolutely\",\"speak\",\"brought\",\"die\",\"bottom\",\"numbers\",\"audience\",\"stage\",\"realize\",\"law\",\"images\",\"wrote\",\"understanding\",\"knowledge\",\"literally\",\"books\",\"movement\",\"ground\",\"giving\",\"eat\",\"force\",\"seems\",\"alone\",\"telling\",\"starting\",\"hold\",\"nice\",\"forward\",\"sea\",\"developed\",\"individual\",\"kid\",\"millions\",\"support\",\"miles\",\"tools\",\"running\",\"online\",\"result\",\"act\",\"medical\",\"technologies\",\"north\",\"lab\",\"development\",\"blood\",\"fear\",\"nobody\",\"map\",\"personal\",\"issue\",\"voice\",\"material\",\"key\",\"12\",\"recently\",\"theory\",\"cut\",\"cars\",\"sun\",\"fast\",\"changing\",\"playing\",\"clear\",\"especially\",\"soon\",\"girls\",\"patient\",\"choice\",\"fly\",\"creating\",\"normal\",\"discovered\",\"europe\",\"talked\",\"relationship\",\"gives\",\"generation\",\"dark\",\"type\",\"showed\",\"chance\",\"seem\",\"industry\",\"asking\",\"rate\",\"fun\",\"issues\",\"color\",\"designed\",\"hour\",\"university\",\"innovation\",\"several\",\"class\",\"computers\",\"english\",\"tiny\",\"allow\",\"save\",\"focus\",\"digital\",\"solve\",\"developing\",\"network\",\"film\",\"special\",\"wall\",\"situation\",\"baby\",\"solution\",\"reasons\",\"box\",\"knows\",\"meet\",\"dead\",\"stand\",\"begin\",\"haven\",\"impact\",\"anybody\",\"term\",\"beyond\",\"pictures\",\"please\",\"ice\",\"produce\",\"shape\",\"non\",\"resources\",\"robot\",\"cool\",\"groups\",\"likely\",\"stay\",\"available\",\"truth\",\"rights\",\"major\",\"cause\",\"evidence\",\"obviously\",\"writing\",\"experiment\",\"modern\",\"drug\",\"becomes\",\"incredibly\",\"aren\",\"bigger\",\"guess\",\"nine\",\"product\",\"drugs\",\"lived\",\"involved\",\"perfect\",\"google\",\"month\",\"effect\",\"similar\",\"putting\",\"eye\",\"pick\",\"message\",\"quality\",\"violence\",\"web\",\"evolution\",\"security\",\"office\",\"basic\",\"solar\",\"indeed\",\"general\",\"towards\",\"present\",\"drive\",\"send\",\"listen\",\"worth\",\"revolution\",\"explain\",\"hundred\",\"certainly\",\"died\",\"ready\",\"teach\",\"journey\",\"25\",\"hit\",\"walking\",\"led\",\"approach\",\"international\",\"200\",\"scientific\",\"games\",\"60\",\"potential\",\"crazy\",\"communities\",\"chinese\",\"device\",\"source\",\"camera\",\"rules\",\"sex\",\"carbon\",\"sounds\",\"boy\",\"reach\",\"starts\",\"examples\",\"west\",\"3\",\"success\",\"measure\",\"particularly\",\"software\",\"totally\",\"suddenly\",\"action\",\"college\",\"higher\",\"code\",\"eventually\",\"democracy\",\"among\",\"minute\",\"sit\",\"largest\",\"showing\",\"hospital\",\"notice\",\"period\",\"mass\",\"develop\",\"dream\",\"onto\",\"plants\",\"break\",\"add\",\"memory\",\"everywhere\",\"favorite\",\"11\",\"zero\",\"speed\",\"schools\",\"moved\",\"response\",\"wants\",\"extremely\",\"movie\",\"individuals\",\"table\",\"wait\",\"medicine\",\"follow\",\"anyway\",\"trust\",\"plant\",\"biggest\",\"watching\",\"organization\",\"creative\",\"road\",\"choose\",\"worse\",\"lead\",\"results\",\"500\",\"exciting\",\"grew\",\"materials\",\"jobs\",\"plan\",\"east\",\"poverty\",\"positive\",\"safe\",\"strong\",\"fall\",\"essentially\",\"object\",\"door\",\"son\",\"vision\",\"further\",\"happiness\",\"continue\",\"student\",\"doctor\",\"including\",\"named\",\"role\",\"objects\",\"extraordinary\",\"standing\",\"skin\",\"leaders\",\"usually\",\"african\",\"conversation\",\"projects\",\"allowed\",\"models\",\"supposed\",\"faster\",\"interest\",\"families\",\"police\",\"fight\",\"tree\",\"connected\",\"screen\",\"5\",\"cases\",\"goal\",\"somewhere\",\"finding\",\"buildings\",\"shown\"],\"x1\":{\"__ndarray__\":\"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\",\"dtype\":\"float32\",\"shape\":[1000]},\"x2\":{\"__ndarray__\":\"X7mHwbEpHj6QEijAq8eeP1O5Ob8cdDFBkSkCP+MUZcAxKzFBkeWEQOdxfEBHkgtCIUELQjsqM0GIdSlBERx7QJjhDkIPu12/GZCSQdI3skGveTNBOZjQQMohMMHi1yLBK+0tQlWnBUFqIudAwn9KQU4yt0EKog9BppjywG2fqECWdxVB6wfIQXDM7cG7eZ3BewCWQQcN4sGlZoBBcqJYQE1OHcG2hwZBiNPPP7Bc48Fy653BCKvJQB3/BsK8pBFAd65LvfZ5MUGcc4BBII2xv0EhBcFtD7rApKykwYKVJkGJFOtBx94RwWcyjEFsJu5BveGgwb1060FPGQjCtJGRQVZA6EEiNJlAVtevwaq9J0EPADBCXvkRQSi0WUGwmfFBapKvQaGhNMAHu0VBZIRFwQ5Xm8FuINvBSiEGwlNL8kF5/jZCTqb8QCtNN8Ho4ozB6BZhPwVmI0LOoBnCXt+owWZajcEjel1B+bUvQm7X8kGqJypB0FvMQSBJ00GJ/LVBwmM2QV048MGvTOpBKf1zQHcAB8JW1YrBRWc+woIasT/GLSRBaEAEQRv1AEIQ24RBjm6kwWxPUEE5otlBnVPowEJ6SsHdSXxAVlXqQa3kYUBDN+vBJSmPQJ1cCEFolAlB35odwqoU3UGZwM1BcfUJQnw8C8IQjMFA71U4QcoSk0He3UbBIwqrwQeFL0Gay/jAerIiQsOKUkFt5fLBGwUpwVWaGkFsR0tBbBv9QYyHMUKxkAHCFRMLwppjPcId+59B0lXeQTV950G8VJpBFPQ/QNcq7kBV0hfCLx2sQTLntMDbiHdBmS35QY52iUGQT1JAt7T5QSMCNUKkyH/AeVX6QWBBpUGn1BNCbCCbwf1kVMDaWmJBkaR4wTE1c0DYhk3AuaE9QCITyjz4VylCn6aTwdrW1EG/tQNCPrfoQbVyJ0LS51BBJ2QewrkmY8A4dZVBX7f3wMFYBEGc3BHAsxX8wFjBgcGZGOu+bMDWQDcQ3cCoqHm/NMgCQucHr8HrC7ZBIZfvQXkiSkEnntPAYpRjwCHw5EHL+I5A+G82whnn3MDrIYDBYQ+rQf03pcBEyWLBwDHzwc95gkEMshDCRMfbQaPAgcE18sTB2db8QVCHkT8iFDpAfhnyQSGQlUFriDhCaWW3wVjd1sBmKjDCRQDNQTPaxsEIfTvCPpvyQMMk0kEkN7g8trqRwVGv00GCw8FA0Le8Qa13zkGM/kvB613jwTzxIEEa3I1BB4UmQpd3CsKTfeLA8BHiQT+uA0I/I8JBJ70dwte0u0Huk5NBEH6hQEOXN8Jp3jrBZ6wHQkqilMFv9ZlBlrSBwTGE0UBYdgRCUeHzvw7aDEI/1hXCWFkvwEnUp8GxmCXCm+viwaQuj8Edbq1BN22uQZw4SkGxicnArnWnQdUOCcFqOo/BwlWsQf0xQMB0+nVBjWIMwpaDaEGtoFLB/olbwVJYF0A6SfBBl2saQiAipcBCgptAYRafwUqIv8EDoQdCQsXDweS6RUH34Y9BnHv+v/A3z8HWWo1ACMMFQhvQYEENi/xB6Ro7wgdhgUGITUtBc/jCQS/6iEAsHcjBuYngwWBTxkF/GBNBEt7owRI4nsEZCB/CNWDbwe7x1cG4ZyzC0n/hQcGqQcGAPmPBkUUawKbDAEKHJbxBDXSHv/d8TkGkz65BE/21Qdpu8sFppsbAQQSIQIBRFkI4/wRCeRG0QDnm3UFGUOpB8OKMwaJHYcHniEBBTBbQwPdLm8GkoclA38GNwOcw4kBEy9vBXhsGwpVSFMJopJdAqZ71QGsZk0HtN/hBrVgZQuar6UHoSBPB90VoPwXnMMFudUxBpHDJQRHgJ8E5+QHBjAZKwdZyX0AICTrC0xwnQThRjkCHkkvBdrnkQcx5o8FKcPbA6HSoQMqjikCawc7BbbbhQWKIJ8Ex5/JAGJjKQCzIFMB6qwBCi2QUvgpZHcKrHJpAYDriQNWn38DFKtzBCkGGwGbUdUBZuKbBHgFfQV2s5cAkULNBRN42QS+NVMFQrejA1om4QdTlWUGe98Q/KM5jQcffyEEdU7BAnUDIQBydq8Da6RHBIT8OwvVhBsK4l1W+d84Vwjl8rsFS/AJC2XWBQHzMI8GNLXpBuQsowZYQksAKxfRBMvUVwDzaskBqU+O/jn/mQeJQcMAK1GpAj0cyQpk4KcI0WQVCNdObQUIBMkLVHFbBwdouwtFP1cE42EPBV4VuwaqVQcGEp5q/VvZgQHfevEEq0xLBKBAKwitD5UFRu+bBDT12QRIanMGRrQJC/mI2whGo3T8RGwTBRJdaQfYdQcHApl3BL5MEwRgECcEvgLQ/i3J8wd5UiUDc8bdBrP1xQCsELMKaBeLBPmYmwSf67UEQDrnAIrziQRY/98GmItdBM55EwTbavsAttg9Bc9KxQSCdAUL8Cg9Cr2/tQLrxoMFfCTXBHXc0Qftc2sBIA1fBHobDwT01SUEXOMZB9utwPr1FU8H6XyrBMwDZwGZBusHvpRRCz4zwwUxPdEHIYVDB8MbcQd9focFh+e1Bo675QS17ur+x16rB2U4pQiApNEA06YbBrEQFwreA3sFziY/A2gMVwsu3D0Eme4DBQS+Iwfl+TUFkaTJC8gq9QZjKiT/0XkpBpaeswTHzL8EWI7jAGbDlQbY8F8KZJNnB8gOFwZunb0BowCjCDillwcrhlcFK0B3BE1iswW+bJcAVJp1BUqvRwE3WFsEd1hbCfM7bwFASYkH9zPu+PP8swm0ex8BGnAjCeXP9QaLIO0E9qd7BZM2cwbpKVkGkQVtAhBUPQfOagcEmxzJC/s8OQswvIMGy8DDBHdWnwGf4oMG/h7/BioigP3Z/TsEhnMFAFR3NQb8ZNsKdgrJBg+XdQY2vy0Gqi8hAMPIxwuesPEH9RynBfwXYwdPrjcF1Aa0/SVNKQcQ5KsEaSBJCJGTJwRNAjkCFx3TBlvlnwOGt6EFbpkpB6nHcQUpVhb/OzBVAQQxmwQYXx0H4Ba3AMU2NwE/Fe8GcJBRAro1lQEkiE0KQgOZBU0Vjv94p+8CWV9BAg7raQY8/fEHk9fDBD2oXwaNSAUKyGq7AkEJ/wNxx5sHgLBrA7YjZQU4bhcHU6Q3BM+HjwccotsEYoIPAEtM3wkWwI0F1d8tBgLQIwo/yrsFHewZCNcSmwZwMHUHLKaBBClGRwaKUQMHm9IJB37MpQv315kHZcB5BfRGXwSvp2EHct6zBxAa1wQhsusEEJ7XAiSGFQUmi4j4nXIzBKYnQQVBqIL/GIBXCdbvwQaOrHb/9rS/BUcbjQdeVC8FO8CNBNASMwfh3qMA5rFbBmsaJwb4pvEGG4YnA0NoyQuGLZUAsL9bBVMvEQWzLjj9E1KZAiH4FQjCeU7/T8UDBPfIuwJFmzEHyTfvBqkcvwYFJ90G0tCvCKdPiv5wHjcE9Cj/ArJYuwp6oMMGuyIfB0pyywYIwfUFd6DLCiU/JQDU++cFfIb3BmFk+wfZ0rkGdcHm/lx6GQGfBFsLomwfCwTf3QWeamcDKu6bAyN+VQLfmEkGkYJdBm+MxvyZ4dcHjzgzBKTcWwvEZuUByK+HBqeWQQAy1ncFrhNlB6qlHQffqMkGwUPlBadzYQZpxxUGWjqnB14HIwc8rvsBYl8bBawDkQVGvF8HjdMzByEkCQlxqGT6sdZm/W0zjvygk0MEst5HAZQugwXUxq0GTIMxBYQkuQFsVq0Hm6OhA0Y8DQpFngUEuX9ZBh8FZQQbWAcFfJrLBSdC+QejKfMHlhAXCtNEWwsgHnUG5fBbCvtGjwWNzv0GLMfLAx7YJQdALGkAfdgTB62ehwSp7RMG86WnB6LWTwA/ZY8H7SlxAggySQI9cNcE5To9AHbPYv7OClcCqtBfBvhboQPf/M8KIjs7AY1TEP7u93kGHwrvByMO3wY5kKkGorLRAt3e2QVWBQkFQH6RAwKohQQ7k68FlawPC17SiP/p72kF6pZpBbD4WQeYF7EE5JjTBX8PuQSM8FD/K2hRCIb5ZwZH6ncHH2xPB0bYAQovaZr8oL6JBlcUFwY95AEKkJZq/YTkRQRrzysF6U0vBY2CyQUpZDcJxCovBfRCTwLF0MsKG1n3Bmw6swWwD1cDQNk1BeemfQfujp0Fy4WBBv1svwacpmkHdBJe/swEnwZ+jBcF45zJBbCeIwRxFjsC6jf/BapbBv+bKZj/G93PBfDvrQeCN0UFYWty/vdzLQbCat0G7Ci5CGRCDwKoUlEApY+0+BkYLwa7mz8FPT1dBYz6wweaHp0HmQwTBfv06wdpstMF8qBnBJqdYQX2bycGcSdg/2iDLQQ2aH8HpRCtAQZ7fwOzQT8CfmFdAcfwSwHVQ+0BCxqpBYFn0wHNTDcDiURLB2NkQQq6bcEHAyy9C7i2Pwe1h1UHwdDXCX4AAwWCMvsF6g+VBTvODQYyKHUF1lrnAPikKwuiKfMCuHy5BMX+zQcPuWsEBwdxBHeCjwDmBfb7O6v3AFDY4wag7nT9a0PTAsCiIwTHy50DiD7HBajzrQHv6TMBPjgnB+VMLQYEc10FHhdVBY67TQSOA7UBjk9rAjbrUQZ41OcK2PPNAhyLmQZxFd0GhMNBBuDduwE0YL8JS+ORBvJ7BQdqvu0F8FdPAHfcLwcGrK8InISLAIVoMwbvLL8IBiaW+GT4aQTGRzMFYUCbBQfcZwSLOEcGxIErB4wyzwSTqqkDn57vBX7ugQX5EBsKIT+ZB3V4TQsU3xsFZcEDBgWYswtRxvD2R9KFBfQCnQPCFJMF9zzJBg7DXvyYeIMAWEonBeR6UwfkaH8F1lB/A4vSEwCKMbsGnhgrCuejPQYXmcMGA9+5BxnyKwc8h5EFIV7LAOsGuwZripkGEXSvAP/8owe+cscGxVdtBxabbQe6ctr+D8ky+BIs3wDgkNMIrFrjB46WwwaaQ0sHV3dlBZoELvr9l50G/mnFBuQoBwe9rv8EsQYvBI4d/QWvJU8AnAdRBYufdQEqRkUDTUqrBJjNuwY/Pt0E0IQfB1KMSQVMBm8G8J8xB5ciPwaTzsEHwjcTBPhkpwmzOY0G9+NFBmRaqwUVyw8GYFhPADwNLwbku+cCHhBZBM1k1QW8bLEGQMNRBrZH1QJlsBMFkSYfBX2Hzwa+pr79Hn4fBmOP0PiimsUHIoIXB+pr/wXnLa8GRhKZBugRtwEn+ssGOsXlBCUPDQZdyW8H94cbBPqa7QBoUL8EHzWDAAejBwbQJkUHNrqnBweyKQTX5jsHWy4C9TzjQwfqrLsEZDKVBokqVwYnDkEEbDZDBZcotwlyYzcEKTL2/ZQhbwBWHn0GerrnBJr/HQQ==\",\"dtype\":\"float32\",\"shape\":[1000]}}},\"id\":\"d13c9461-4cb6-4320-a55d-7e004684e3eb\",\"type\":\"ColumnDataSource\"},{\"attributes\":{\"callback\":null},\"id\":\"1542fdcb-aea2-4a37-9870-72b2d58897d2\",\"type\":\"DataRange1d\"},{\"attributes\":{},\"id\":\"f87a7afa-7c1a-44b2-9b89-f7bca81bff69\",\"type\":\"PanTool\"},{\"attributes\":{\"plot\":null,\"text\":\"word2vec T-SNE for most common words\"},\"id\":\"ed809e9e-74c0-4082-9516-0b8081525545\",\"type\":\"Title\"},{\"attributes\":{},\"id\":\"d8249eb9-b781-4f41-a9ba-041adbb8a05b\",\"type\":\"SaveTool\"},{\"attributes\":{\"active_drag\":\"auto\",\"active_inspect\":\"auto\",\"active_scroll\":\"auto\",\"active_tap\":\"auto\",\"tools\":[{\"id\":\"f87a7afa-7c1a-44b2-9b89-f7bca81bff69\",\"type\":\"PanTool\"},{\"id\":\"52bec009-8ed2-48a2-857d-ab7eb255989d\",\"type\":\"WheelZoomTool\"},{\"id\":\"225cb6d9-f3c7-4307-81d1-7f2e05b7e9a1\",\"type\":\"ResetTool\"},{\"id\":\"d8249eb9-b781-4f41-a9ba-041adbb8a05b\",\"type\":\"SaveTool\"}]},\"id\":\"ff81fbee-9d07-4188-93aa-021c35dc51d5\",\"type\":\"Toolbar\"},{\"attributes\":{\"fill_color\":{\"value\":\"#1f77b4\"},\"line_color\":{\"value\":\"#1f77b4\"},\"size\":{\"units\":\"screen\",\"value\":8},\"x\":{\"field\":\"x1\"},\"y\":{\"field\":\"x2\"}},\"id\":\"1b685607-5424-4108-96ea-334203abd2d0\",\"type\":\"Circle\"},{\"attributes\":{},\"id\":\"52bec009-8ed2-48a2-857d-ab7eb255989d\",\"type\":\"WheelZoomTool\"},{\"attributes\":{},\"id\":\"7d103633-da42-4d57-a868-15ceb3b4a837\",\"type\":\"BasicTickFormatter\"},{\"attributes\":{},\"id\":\"ea796def-a170-4316-9c96-f7f3cfe76eb1\",\"type\":\"LinearScale\"},{\"attributes\":{\"callback\":null},\"id\":\"284a495d-d51e-4c99-8763-ea16c49affe1\",\"type\":\"DataRange1d\"}],\"root_ids\":[\"db88116b-dbc0-405c-84e1-8bac57281900\"]},\"title\":\"Bokeh Application\",\"version\":\"0.12.13\"}};\n",
       "  var render_items = [{\"docid\":\"58ca93c5-bc4f-4b0b-b32f-5b57cccc2e76\",\"elementid\":\"d07eab2d-3c6d-4aa2-bff5-4d5924f4c7d3\",\"modelid\":\"db88116b-dbc0-405c-84e1-8bac57281900\"}];\n",
       "  root.Bokeh.embed.embed_items_notebook(docs_json, render_items);\n",
       "\n",
       "  }\n",
       "  if (root.Bokeh !== undefined) {\n",
       "    embed_document(root);\n",
       "  } else {\n",
       "    var attempts = 0;\n",
       "    var timer = setInterval(function(root) {\n",
       "      if (root.Bokeh !== undefined) {\n",
       "        embed_document(root);\n",
       "        clearInterval(timer);\n",
       "      }\n",
       "      attempts++;\n",
       "      if (attempts > 100) {\n",
       "        console.log(\"Bokeh: ERROR: Unable to run BokehJS code because BokehJS library is missing\")\n",
       "        clearInterval(timer);\n",
       "      }\n",
       "    }, 10, root)\n",
       "  }\n",
       "})(window);"
      ],
      "application/vnd.bokehjs_exec.v0+json": ""
     },
     "metadata": {
      "application/vnd.bokehjs_exec.v0+json": {
       "id": "db88116b-dbc0-405c-84e1-8bac57281900"
      }
     },
     "output_type": "display_data"
    }
   ],
   "source": [
    "p = figure(tools=\"pan,wheel_zoom,reset,save\",\n",
    "           toolbar_location=\"above\",\n",
    "           title=\"word2vec T-SNE for most common words\")\n",
    "\n",
    "source = ColumnDataSource(data=dict(x1=words_top_ted_tsne[:,0],\n",
    "                                    x2=words_top_ted_tsne[:,1],\n",
    "                                    names=words_top_ted))\n",
    "\n",
    "p.scatter(x=\"x1\", y=\"x2\", size=8, source=source)\n",
    "\n",
    "labels = LabelSet(x=\"x1\", y=\"x2\", text=\"names\", y_offset=6,\n",
    "                  text_font_size=\"8pt\", text_color=\"#555555\",\n",
    "                  source=source, text_align='center')\n",
    "p.add_layout(labels)\n",
    "\n",
    "show(p)"
   ]
  },
  {
   "cell_type": "markdown",
   "metadata": {},
   "source": [
    "### Part 5: Wiki Learnt Representations"
   ]
  },
  {
   "cell_type": "markdown",
   "metadata": {},
   "source": [
    "Download dataset"
   ]
  },
  {
   "cell_type": "code",
   "execution_count": 31,
   "metadata": {},
   "outputs": [],
   "source": [
    "if not os.path.isfile('wikitext-103-raw-v1.zip'):\n",
    "    urllib.request.urlretrieve(\"https://s3.amazonaws.com/research.metamind.io/wikitext/wikitext-103-raw-v1.zip\", filename=\"wikitext-103-raw-v1.zip\")"
   ]
  },
  {
   "cell_type": "code",
   "execution_count": 32,
   "metadata": {},
   "outputs": [],
   "source": [
    "with zipfile.ZipFile('wikitext-103-raw-v1.zip', 'r') as z:\n",
    "    input_text = str(z.open('wikitext-103-raw/wiki.train.raw', 'r').read(), encoding='utf-8') # Thanks Robert Bastian"
   ]
  },
  {
   "cell_type": "markdown",
   "metadata": {},
   "source": [
    "Preprocess sentences (note that it's important to remove small sentences for performance)"
   ]
  },
  {
   "cell_type": "code",
   "execution_count": 33,
   "metadata": {},
   "outputs": [],
   "source": [
    "sentences_wiki = []\n",
    "for line in input_text.split('\\n'):\n",
    "    s = [x for x in line.split('.') if x and len(x.split()) >= 5]\n",
    "    sentences_wiki.extend(s)\n",
    "    \n",
    "for s_i in range(len(sentences_wiki)):\n",
    "    sentences_wiki[s_i] = re.sub(\"[^a-z]\", \" \", sentences_wiki[s_i].lower())\n",
    "    sentences_wiki[s_i] = re.sub(r'\\([^)]*\\)', '', sentences_wiki[s_i])\n",
    "del input_text"
   ]
  },
  {
   "cell_type": "code",
   "execution_count": 34,
   "metadata": {},
   "outputs": [
    {
     "name": "stdout",
     "output_type": "stream",
     "text": [
      "4267112\n",
      "853422\n"
     ]
    }
   ],
   "source": [
    "# sample 1/5 of the data\n",
    "shuffle(sentences_wiki)\n",
    "print(len(sentences_wiki))\n",
    "sentences_wiki = sentences_wiki[:int(len(sentences_wiki)/5)]\n",
    "print(len(sentences_wiki))"
   ]
  },
  {
   "cell_type": "code",
   "execution_count": 35,
   "metadata": {},
   "outputs": [
    {
     "data": {
      "text/plain": [
       "' love not at all   that i heard not a grain of '"
      ]
     },
     "execution_count": 35,
     "metadata": {},
     "output_type": "execute_result"
    }
   ],
   "source": [
    "sentences_wiki[1]"
   ]
  },
  {
   "cell_type": "markdown",
   "metadata": {},
   "source": [
    "Now, repeat all the same steps that you performed above. You should be able to reuse essentially all the code."
   ]
  },
  {
   "cell_type": "code",
   "execution_count": 36,
   "metadata": {},
   "outputs": [],
   "source": [
    "sentences_wiki_token = []\n",
    "for sent_str in sentences_wiki:\n",
    "    tokens = re.sub(r\"[^a-z0-9]+\", \" \", sent_str.lower()).split()\n",
    "    sentences_wiki_token.append(tokens)"
   ]
  },
  {
   "cell_type": "code",
   "execution_count": 37,
   "metadata": {},
   "outputs": [
    {
     "data": {
      "text/plain": [
       "['it',\n",
       " 'also',\n",
       " 'is',\n",
       " 'rumored',\n",
       " 'that',\n",
       " 'the',\n",
       " 'song',\n",
       " 'talks',\n",
       " 'about',\n",
       " 'the',\n",
       " 'relationship',\n",
       " 'the',\n",
       " 'two',\n",
       " 'had',\n",
       " 'in',\n",
       " 'the',\n",
       " 'tv',\n",
       " 'series']"
      ]
     },
     "execution_count": 37,
     "metadata": {},
     "output_type": "execute_result"
    }
   ],
   "source": [
    "sentences_wiki_token[0]"
   ]
  },
  {
   "cell_type": "code",
   "execution_count": 38,
   "metadata": {},
   "outputs": [],
   "source": [
    "word_dict = {}\n",
    "for sentence_str in sentences_wiki_token:\n",
    "    for word in sentence_str:\n",
    "        if word in word_dict:\n",
    "            word_dict[word]+=1\n",
    "        else:\n",
    "            word_dict[word]=1"
   ]
  },
  {
   "cell_type": "code",
   "execution_count": 39,
   "metadata": {},
   "outputs": [
    {
     "data": {
      "text/plain": [
       "234956"
      ]
     },
     "execution_count": 39,
     "metadata": {},
     "output_type": "execute_result"
    }
   ],
   "source": [
    "len(word_dict)"
   ]
  },
  {
   "cell_type": "code",
   "execution_count": 40,
   "metadata": {},
   "outputs": [],
   "source": [
    "counts_wiki_top1000_tuple = sorted(word_dict.items(), key=lambda x:-x[1])\n",
    "counts_wiki_top1000 = list(map(lambda x: int(x[1]),counts_wiki_top1000_tuple))[0:1000]\n",
    "words_top_wiki = list(map(lambda x: x[0],counts_wiki_top1000_tuple))[0:1000]"
   ]
  },
  {
   "cell_type": "code",
   "execution_count": 41,
   "metadata": {},
   "outputs": [
    {
     "data": {
      "text/plain": [
       "[('the', 1287753),\n",
       " ('of', 549042),\n",
       " ('and', 500531),\n",
       " ('in', 434075),\n",
       " ('to', 397961),\n",
       " ('a', 358727),\n",
       " ('was', 214943),\n",
       " ('s', 163871),\n",
       " ('on', 154018),\n",
       " ('as', 145397)]"
      ]
     },
     "execution_count": 41,
     "metadata": {},
     "output_type": "execute_result"
    }
   ],
   "source": [
    "counts_wiki_top1000_tuple[0:10]"
   ]
  },
  {
   "cell_type": "code",
   "execution_count": 42,
   "metadata": {},
   "outputs": [
    {
     "data": {
      "text/plain": [
       "48737"
      ]
     },
     "execution_count": 42,
     "metadata": {},
     "output_type": "execute_result"
    }
   ],
   "source": [
    "#model\n",
    "model_wiki = Word2Vec(sentences_wiki_token, min_count=10)\n",
    "len(model_wiki.wv.vocab)"
   ]
  },
  {
   "cell_type": "markdown",
   "metadata": {},
   "source": [
    "#### t-SNE visualization"
   ]
  },
  {
   "cell_type": "code",
   "execution_count": 45,
   "metadata": {},
   "outputs": [],
   "source": [
    "# This assumes words_top_wiki is a list of strings, the top 1000 words\n",
    "words_top_vec_wiki = model_wiki.wv[words_top_wiki]\n",
    "\n",
    "tsne = TSNE(n_components=2, random_state=0)\n",
    "words_top_wiki_tsne = tsne.fit_transform(words_top_vec_wiki)"
   ]
  },
  {
   "cell_type": "code",
   "execution_count": 46,
   "metadata": {},
   "outputs": [
    {
     "data": {
      "text/html": [
       "\n",
       "<div class=\"bk-root\">\n",
       "    <div class=\"bk-plotdiv\" id=\"5683cdd0-d47c-4cdf-a093-f0bcf7fa1cc6\"></div>\n",
       "</div>"
      ]
     },
     "metadata": {},
     "output_type": "display_data"
    },
    {
     "data": {
      "application/javascript": [
       "(function(root) {\n",
       "  function embed_document(root) {\n",
       "    \n",
       "  var docs_json = {\"6e190e10-810f-47dc-95c7-1e68eac334f9\":{\"roots\":{\"references\":[{\"attributes\":{},\"id\":\"895058d2-1838-44fd-9c39-9b31aab05c56\",\"type\":\"LinearScale\"},{\"attributes\":{\"plot\":{\"id\":\"3dd07ba2-bb5a-487d-836b-0e7935b6520d\",\"subtype\":\"Figure\",\"type\":\"Plot\"},\"ticker\":{\"id\":\"b9a9f451-ea0b-42a7-a6e6-d57fbcb88e80\",\"type\":\"BasicTicker\"}},\"id\":\"0029a05f-7258-432a-9887-508c35dc1cdc\",\"type\":\"Grid\"},{\"attributes\":{\"formatter\":{\"id\":\"852ee39a-21fc-43fb-aa00-50e15822dc33\",\"type\":\"BasicTickFormatter\"},\"plot\":{\"id\":\"3dd07ba2-bb5a-487d-836b-0e7935b6520d\",\"subtype\":\"Figure\",\"type\":\"Plot\"},\"ticker\":{\"id\":\"b9a9f451-ea0b-42a7-a6e6-d57fbcb88e80\",\"type\":\"BasicTicker\"}},\"id\":\"8d3cf4ed-901b-4a2e-ad5b-10da572afc67\",\"type\":\"LinearAxis\"},{\"attributes\":{},\"id\":\"b9a9f451-ea0b-42a7-a6e6-d57fbcb88e80\",\"type\":\"BasicTicker\"},{\"attributes\":{\"formatter\":{\"id\":\"94928edd-170f-41fc-8972-36f817623e0e\",\"type\":\"BasicTickFormatter\"},\"plot\":{\"id\":\"3dd07ba2-bb5a-487d-836b-0e7935b6520d\",\"subtype\":\"Figure\",\"type\":\"Plot\"},\"ticker\":{\"id\":\"2f34071e-4c31-43d3-8d3a-05be6c58ee20\",\"type\":\"BasicTicker\"}},\"id\":\"f02bdd4c-db80-47c5-8cb5-8479f5b32518\",\"type\":\"LinearAxis\"},{\"attributes\":{},\"id\":\"2f34071e-4c31-43d3-8d3a-05be6c58ee20\",\"type\":\"BasicTicker\"},{\"attributes\":{\"dimension\":1,\"plot\":{\"id\":\"3dd07ba2-bb5a-487d-836b-0e7935b6520d\",\"subtype\":\"Figure\",\"type\":\"Plot\"},\"ticker\":{\"id\":\"2f34071e-4c31-43d3-8d3a-05be6c58ee20\",\"type\":\"BasicTicker\"}},\"id\":\"adcdb035-487a-470e-b89e-45423aaddcd8\",\"type\":\"Grid\"},{\"attributes\":{\"plot\":{\"id\":\"3dd07ba2-bb5a-487d-836b-0e7935b6520d\",\"subtype\":\"Figure\",\"type\":\"Plot\"},\"source\":{\"id\":\"0b69d0bf-aa7a-4c34-84e1-45f60a0e760e\",\"type\":\"ColumnDataSource\"},\"text\":{\"field\":\"names\"},\"text_align\":\"center\",\"text_color\":{\"value\":\"#555555\"},\"text_font_size\":{\"value\":\"8pt\"},\"x\":{\"field\":\"x1\"},\"y\":{\"field\":\"x2\"},\"y_offset\":{\"value\":6}},\"id\":\"ed5095da-fbcd-4a55-af96-bedbac9a2347\",\"type\":\"LabelSet\"},{\"attributes\":{\"data_source\":{\"id\":\"0b69d0bf-aa7a-4c34-84e1-45f60a0e760e\",\"type\":\"ColumnDataSource\"},\"glyph\":{\"id\":\"31022b9f-fe07-4cdf-acf7-d9ece362f24c\",\"type\":\"Circle\"},\"hover_glyph\":null,\"muted_glyph\":null,\"nonselection_glyph\":{\"id\":\"46e700d0-edaf-4e96-a521-afd140d29531\",\"type\":\"Circle\"},\"selection_glyph\":null,\"view\":{\"id\":\"fa09e7dd-e8f7-439d-a543-9f8fe5b0cc64\",\"type\":\"CDSView\"}},\"id\":\"c0795161-ec15-4d96-801a-0b77ae96585a\",\"type\":\"GlyphRenderer\"},{\"attributes\":{\"below\":[{\"id\":\"8d3cf4ed-901b-4a2e-ad5b-10da572afc67\",\"type\":\"LinearAxis\"}],\"left\":[{\"id\":\"f02bdd4c-db80-47c5-8cb5-8479f5b32518\",\"type\":\"LinearAxis\"}],\"renderers\":[{\"id\":\"8d3cf4ed-901b-4a2e-ad5b-10da572afc67\",\"type\":\"LinearAxis\"},{\"id\":\"0029a05f-7258-432a-9887-508c35dc1cdc\",\"type\":\"Grid\"},{\"id\":\"f02bdd4c-db80-47c5-8cb5-8479f5b32518\",\"type\":\"LinearAxis\"},{\"id\":\"adcdb035-487a-470e-b89e-45423aaddcd8\",\"type\":\"Grid\"},{\"id\":\"c0795161-ec15-4d96-801a-0b77ae96585a\",\"type\":\"GlyphRenderer\"},{\"id\":\"ed5095da-fbcd-4a55-af96-bedbac9a2347\",\"type\":\"LabelSet\"}],\"title\":{\"id\":\"9817290d-aa15-4b2e-bf32-006c1886eacf\",\"type\":\"Title\"},\"toolbar\":{\"id\":\"1be55a3d-f1dc-4ba4-98d1-0002fac9b120\",\"type\":\"Toolbar\"},\"toolbar_location\":\"above\",\"x_range\":{\"id\":\"2b3cbfc3-bf98-47a9-b5f9-063edf2c4acd\",\"type\":\"DataRange1d\"},\"x_scale\":{\"id\":\"1bf96e0c-23ff-4cd7-9aad-98dfcc76638a\",\"type\":\"LinearScale\"},\"y_range\":{\"id\":\"16784540-4e18-46a1-8889-a7cdd4c469df\",\"type\":\"DataRange1d\"},\"y_scale\":{\"id\":\"895058d2-1838-44fd-9c39-9b31aab05c56\",\"type\":\"LinearScale\"}},\"id\":\"3dd07ba2-bb5a-487d-836b-0e7935b6520d\",\"subtype\":\"Figure\",\"type\":\"Plot\"},{\"attributes\":{\"callback\":null,\"column_names\":[\"x1\",\"x2\",\"names\"],\"data\":{\"names\":[\"the\",\"of\",\"and\",\"in\",\"to\",\"a\",\"was\",\"s\",\"on\",\"as\",\"for\",\"that\",\"with\",\"by\",\"is\",\"his\",\"at\",\"he\",\"it\",\"from\",\"were\",\"an\",\"had\",\"which\",\"be\",\"this\",\"but\",\"are\",\"first\",\"not\",\"their\",\"after\",\"one\",\"her\",\"also\",\"its\",\"they\",\"two\",\"or\",\"have\",\"who\",\"been\",\"new\",\"has\",\"she\",\"when\",\"time\",\"during\",\"other\",\"would\",\"into\",\"all\",\"i\",\"more\",\"while\",\"over\",\"him\",\"later\",\"game\",\"only\",\"up\",\"most\",\"three\",\"about\",\"out\",\"between\",\"th\",\"there\",\"than\",\"some\",\"film\",\"may\",\"before\",\"year\",\"no\",\"made\",\"such\",\"season\",\"where\",\"second\",\"world\",\"war\",\"years\",\"both\",\"however\",\"used\",\"then\",\"song\",\"them\",\"these\",\"being\",\"through\",\"against\",\"series\",\"m\",\"many\",\"album\",\"team\",\"city\",\"part\",\"became\",\"number\",\"north\",\"including\",\"united\",\"several\",\"can\",\"well\",\"four\",\"under\",\"early\",\"state\",\"south\",\"day\",\"music\",\"so\",\"episode\",\"said\",\"states\",\"following\",\"although\",\"american\",\"known\",\"did\",\"could\",\"work\",\"began\",\"because\",\"t\",\"released\",\"until\",\"called\",\"high\",\"like\",\"people\",\"end\",\"british\",\"since\",\"national\",\"long\",\"around\",\"found\",\"each\",\"best\",\"if\",\"september\",\"life\",\"west\",\"us\",\"same\",\"million\",\"along\",\"back\",\"five\",\"use\",\"another\",\"show\",\"you\",\"any\",\"km\",\"group\",\"took\",\"area\",\"off\",\"century\",\"august\",\"received\",\"final\",\"october\",\"school\",\"due\",\"john\",\"line\",\"government\",\"what\",\"march\",\"will\",\"system\",\"east\",\"games\",\"single\",\"home\",\"june\",\"july\",\"third\",\"november\",\"general\",\"much\",\"april\",\"set\",\"large\",\"left\",\"based\",\"major\",\"family\",\"company\",\"york\",\"place\",\"down\",\"band\",\"history\",\"we\",\"road\",\"house\",\"december\",\"army\",\"just\",\"included\",\"played\",\"january\",\"king\",\"character\",\"wrote\",\"six\",\"name\",\"won\",\"now\",\"led\",\"according\",\"those\",\"near\",\"main\",\"river\",\"within\",\"described\",\"de\",\"video\",\"men\",\"d\",\"own\",\"times\",\"last\",\"air\",\"st\",\"death\",\"next\",\"league\",\"named\",\"release\",\"make\",\"battle\",\"record\",\"ship\",\"species\",\"top\",\"very\",\"still\",\"late\",\"production\",\"great\",\"force\",\"original\",\"way\",\"even\",\"storm\",\"public\",\"u\",\"man\",\"february\",\"club\",\"route\",\"small\",\"though\",\"university\",\"again\",\"old\",\"held\",\"among\",\"book\",\"built\",\"play\",\"side\",\"days\",\"role\",\"b\",\"story\",\"further\",\"service\",\"german\",\"members\",\"do\",\"division\",\"power\",\"point\",\"white\",\"match\",\"having\",\"h\",\"water\",\"often\",\"order\",\"player\",\"career\",\"french\",\"black\",\"town\",\"park\",\"former\",\"local\",\"despite\",\"continued\",\"came\",\"without\",\"party\",\"form\",\"england\",\"take\",\"county\",\"half\",\"considered\",\"version\",\"island\",\"few\",\"songs\",\"period\",\"moved\",\"development\",\"written\",\"support\",\"c\",\"different\",\"president\",\"english\",\"become\",\"international\",\"military\",\"court\",\"forces\",\"similar\",\"given\",\"tropical\",\"london\",\"little\",\"re\",\"lost\",\"building\",\"country\",\"performance\",\"my\",\"returned\",\"ii\",\"tour\",\"went\",\"using\",\"position\",\"gave\",\"n\",\"church\",\"attack\",\"produced\",\"street\",\"track\",\"lead\",\"class\",\"short\",\"never\",\"children\",\"recorded\",\"highway\",\"published\",\"stated\",\"royal\",\"ships\",\"western\",\"land\",\"aircraft\",\"run\",\"good\",\"making\",\"father\",\"throughout\",\"live\",\"star\",\"per\",\"television\",\"right\",\"total\",\"fire\",\"control\",\"australia\",\"head\",\"week\",\"include\",\"how\",\"less\",\"women\",\"love\",\"once\",\"me\",\"upon\",\"central\",\"characters\",\"design\",\"age\",\"title\",\"result\",\"law\",\"players\",\"himself\",\"away\",\"young\",\"writing\",\"developed\",\"southern\",\"light\",\"political\",\"across\",\"rock\",\"seven\",\"sea\",\"remained\",\"office\",\"station\",\"instead\",\"previous\",\"james\",\"ten\",\"red\",\"died\",\"months\",\"return\",\"r\",\"e\",\"act\",\"ft\",\"field\",\"night\",\"areas\",\"noted\",\"eight\",\"announced\",\"created\",\"hurricane\",\"japanese\",\"various\",\"center\",\"too\",\"race\",\"reported\",\"felt\",\"william\",\"miles\",\"style\",\"low\",\"college\",\"win\",\"award\",\"eventually\",\"reached\",\"construction\",\"should\",\"america\",\"seen\",\"served\",\"northern\",\"sent\",\"performed\",\"son\",\"together\",\"taken\",\"member\",\"body\",\"range\",\"chart\",\"killed\",\"full\",\"followed\",\"mm\",\"level\",\"campaign\",\"success\",\"able\",\"common\",\"works\",\"established\",\"points\",\"born\",\"started\",\"action\",\"modern\",\"playing\",\"project\",\"stage\",\"post\",\"originally\",\"thought\",\"australian\",\"get\",\"located\",\"features\",\"front\",\"appeared\",\"george\",\"others\",\"behind\",\"decided\",\"critics\",\"caused\",\"football\",\"addition\",\"special\",\"site\",\"fourth\",\"feet\",\"o\",\"important\",\"rather\",\"present\",\"bridge\",\"formed\",\"heavy\",\"almost\",\"f\",\"added\",\"kingdom\",\"population\",\"initially\",\"fleet\",\"director\",\"open\",\"every\",\"david\",\"go\",\"non\",\"art\",\"championship\",\"damage\",\"popular\",\"eastern\",\"sold\",\"soon\",\"close\",\"see\",\"saw\",\"weeks\",\"command\",\"guns\",\"towards\",\"mi\",\"free\",\"strong\",\"completed\",\"mother\",\"ground\",\"awards\",\"working\",\"opened\",\"case\",\"worked\",\"region\",\"l\",\"recording\",\"leading\",\"hall\",\"michael\",\"scored\",\"france\",\"sound\",\"ever\",\"provided\",\"wanted\",\"help\",\"coast\",\"navy\",\"scene\",\"studio\",\"union\",\"records\",\"brought\",\"does\",\"hit\",\"event\",\"put\",\"allowed\",\"cup\",\"henry\",\"victory\",\"designed\",\"example\",\"placed\",\"runs\",\"generally\",\"average\",\"co\",\"troops\",\"far\",\"events\",\"magazine\",\"joined\",\"europe\",\"training\",\"wife\",\"featured\",\"list\",\"human\",\"either\",\"least\",\"hours\",\"replaced\",\"council\",\"washington\",\"opening\",\"involved\",\"mid\",\"robert\",\"significant\",\"believed\",\"brown\",\"japan\",\"media\",\"month\",\"police\",\"official\",\"successful\",\"base\",\"al\",\"start\",\"finished\",\"earlier\",\"nine\",\"process\",\"forced\",\"summer\",\"squadron\",\"society\",\"european\",\"radio\",\"increased\",\"particularly\",\"rest\",\"mph\",\"available\",\"review\",\"shot\",\"taking\",\"saying\",\"beginning\",\"outside\",\"praised\",\"association\",\"big\",\"x\",\"change\",\"highest\",\"possible\",\"films\",\"largest\",\"minutes\",\"test\",\"operation\",\"middle\",\"cast\",\"san\",\"met\",\"reviews\",\"crew\",\"passed\",\"previously\",\"research\",\"community\",\"thus\",\"must\",\"stone\",\"section\",\"goal\",\"business\",\"turned\",\"social\",\"captain\",\"signed\",\"appearance\",\"relationship\",\"additional\",\"chief\",\"real\",\"above\",\"charles\",\"winds\",\"ended\",\"going\",\"gold\",\"rights\",\"cross\",\"come\",\"elements\",\"round\",\"ordered\",\"canada\",\"better\",\"lower\",\"move\",\"units\",\"future\",\"space\",\"committee\",\"don\",\"critical\",\"castle\",\"thomas\",\"program\",\"enough\",\"brother\",\"california\",\"gun\",\"failed\",\"positive\",\"board\",\"musical\",\"hand\",\"parts\",\"attempt\",\"staff\",\"paul\",\"g\",\"give\",\"hill\",\"female\",\"lake\",\"required\",\"plan\",\"overall\",\"novel\",\"cover\",\"reception\",\"groups\",\"told\",\"find\",\"news\",\"asked\",\"prior\",\"money\",\"directed\",\"v\",\"study\",\"india\",\"infantry\",\"sometimes\",\"entire\",\"port\",\"smith\",\"spent\",\"already\",\"turn\",\"germany\",\"type\",\"whose\",\"interest\",\"grand\",\"lines\",\"indian\",\"background\",\"green\",\"uk\",\"students\",\"our\",\"evidence\",\"bill\",\"itself\",\"district\",\"surface\",\"claimed\",\"room\",\"term\",\"score\",\"election\",\"effects\",\"plot\",\"personal\",\"idea\",\"governor\",\"introduced\",\"education\",\"debut\",\"limited\",\"food\",\"square\",\"complete\",\"fifth\",\"speed\",\"battalion\",\"press\",\"la\",\"especially\",\"arrived\",\"services\",\"report\",\"industry\",\"usually\",\"minister\",\"department\",\"quickly\",\"whom\",\"ny\",\"k\",\"virginia\",\"woman\",\"p\",\"response\",\"loss\",\"carried\",\"larger\",\"person\",\"teams\",\"past\",\"writer\",\"anti\",\"issue\",\"commander\",\"entered\",\"leaving\",\"blue\",\"shows\",\"peter\",\"estimated\",\"movement\",\"scenes\",\"material\",\"becoming\",\"mark\",\"voice\",\"pop\",\"nearly\",\"suggested\",\"decision\",\"episodes\",\"structure\",\"commercial\",\"car\",\"queen\",\"bay\",\"latter\",\"los\",\"winning\",\"naval\",\"stars\",\"britain\",\"pressure\",\"living\",\"remaining\",\"length\",\"richard\",\"civil\",\"earth\",\"depression\",\"influence\",\"science\",\"course\",\"defeated\",\"cut\",\"dark\",\"might\",\"destroyed\",\"date\",\"flight\",\"centre\",\"changes\",\"size\",\"village\",\"appointed\",\"percent\",\"fact\",\"tracks\",\"god\",\"view\",\"running\",\"compared\",\"experience\",\"operations\",\"network\",\"islands\",\"fans\",\"finally\",\"spanish\",\"language\",\"current\",\"empire\",\"nature\",\"self\",\"child\",\"producer\",\"higher\",\"hot\",\"contract\",\"private\",\"immediately\",\"chinese\",\"daughter\",\"today\",\"provide\",\"lack\",\"awarded\",\"museum\",\"planned\",\"shortly\",\"subsequently\",\"intended\",\"soldiers\",\"proposed\",\"whether\",\"approximately\",\"cost\",\"soviet\",\"wide\",\"manager\",\"married\",\"face\",\"related\",\"remains\",\"plans\",\"supported\",\"corps\",\"regular\",\"leader\",\"trade\",\"done\",\"yet\",\"associated\",\"initial\",\"longer\",\"helped\",\"officers\",\"appear\",\"buildings\",\"natural\",\"create\",\"conference\",\"numerous\",\"agreed\",\"nd\",\"billboard\",\"energy\",\"singles\",\"moving\",\"minor\",\"pacific\",\"countries\",\"fort\",\"guitar\",\"health\",\"difficult\",\"christian\",\"railway\",\"something\",\"leave\",\"ball\",\"federal\",\"changed\",\"chicago\",\"captured\",\"professional\",\"status\",\"really\",\"brigade\",\"j\",\"your\",\"extended\",\"jackson\",\"always\",\"mixed\",\"dance\",\"officer\",\"location\",\"friend\",\"friends\",\"regiment\",\"feature\",\"mostly\",\"johnson\",\"offered\",\"probably\",\"lord\",\"china\",\"effect\",\"books\",\"unit\",\"dead\",\"edward\",\"themselves\",\"issued\",\"copies\",\"got\",\"ran\",\"atlantic\",\"know\",\"increase\",\"upper\",\"forward\",\"key\",\"wind\",\"singer\",\"likely\",\"sales\",\"cause\",\"lyrics\",\"florida\",\"raised\",\"minute\",\"pre\",\"majority\",\"makes\"],\"x1\":{\"__ndarray__\":\"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\",\"dtype\":\"float32\",\"shape\":[1000]},\"x2\":{\"__ndarray__\":\"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\",\"dtype\":\"float32\",\"shape\":[1000]}}},\"id\":\"0b69d0bf-aa7a-4c34-84e1-45f60a0e760e\",\"type\":\"ColumnDataSource\"},{\"attributes\":{\"fill_color\":{\"value\":\"#1f77b4\"},\"line_color\":{\"value\":\"#1f77b4\"},\"size\":{\"units\":\"screen\",\"value\":8},\"x\":{\"field\":\"x1\"},\"y\":{\"field\":\"x2\"}},\"id\":\"31022b9f-fe07-4cdf-acf7-d9ece362f24c\",\"type\":\"Circle\"},{\"attributes\":{},\"id\":\"5edf8b9a-99a0-432a-8de8-afb6bb04d6ef\",\"type\":\"PanTool\"},{\"attributes\":{\"plot\":null,\"text\":\"word2vec T-SNE for most common words\"},\"id\":\"9817290d-aa15-4b2e-bf32-006c1886eacf\",\"type\":\"Title\"},{\"attributes\":{},\"id\":\"852ee39a-21fc-43fb-aa00-50e15822dc33\",\"type\":\"BasicTickFormatter\"},{\"attributes\":{\"callback\":null},\"id\":\"2b3cbfc3-bf98-47a9-b5f9-063edf2c4acd\",\"type\":\"DataRange1d\"},{\"attributes\":{},\"id\":\"9d67e895-7176-4626-a649-747ac42ef98a\",\"type\":\"WheelZoomTool\"},{\"attributes\":{\"active_drag\":\"auto\",\"active_inspect\":\"auto\",\"active_scroll\":\"auto\",\"active_tap\":\"auto\",\"tools\":[{\"id\":\"5edf8b9a-99a0-432a-8de8-afb6bb04d6ef\",\"type\":\"PanTool\"},{\"id\":\"9d67e895-7176-4626-a649-747ac42ef98a\",\"type\":\"WheelZoomTool\"},{\"id\":\"d931a516-c0e9-4b16-ae80-c636ffa67111\",\"type\":\"ResetTool\"},{\"id\":\"093b26c0-57b0-4221-af13-463f9fb4bf2f\",\"type\":\"SaveTool\"}]},\"id\":\"1be55a3d-f1dc-4ba4-98d1-0002fac9b120\",\"type\":\"Toolbar\"},{\"attributes\":{},\"id\":\"d931a516-c0e9-4b16-ae80-c636ffa67111\",\"type\":\"ResetTool\"},{\"attributes\":{},\"id\":\"093b26c0-57b0-4221-af13-463f9fb4bf2f\",\"type\":\"SaveTool\"},{\"attributes\":{\"source\":{\"id\":\"0b69d0bf-aa7a-4c34-84e1-45f60a0e760e\",\"type\":\"ColumnDataSource\"}},\"id\":\"fa09e7dd-e8f7-439d-a543-9f8fe5b0cc64\",\"type\":\"CDSView\"},{\"attributes\":{\"fill_alpha\":{\"value\":0.1},\"fill_color\":{\"value\":\"#1f77b4\"},\"line_alpha\":{\"value\":0.1},\"line_color\":{\"value\":\"#1f77b4\"},\"size\":{\"units\":\"screen\",\"value\":8},\"x\":{\"field\":\"x1\"},\"y\":{\"field\":\"x2\"}},\"id\":\"46e700d0-edaf-4e96-a521-afd140d29531\",\"type\":\"Circle\"},{\"attributes\":{},\"id\":\"94928edd-170f-41fc-8972-36f817623e0e\",\"type\":\"BasicTickFormatter\"},{\"attributes\":{},\"id\":\"1bf96e0c-23ff-4cd7-9aad-98dfcc76638a\",\"type\":\"LinearScale\"},{\"attributes\":{\"callback\":null},\"id\":\"16784540-4e18-46a1-8889-a7cdd4c469df\",\"type\":\"DataRange1d\"}],\"root_ids\":[\"3dd07ba2-bb5a-487d-836b-0e7935b6520d\"]},\"title\":\"Bokeh Application\",\"version\":\"0.12.13\"}};\n",
       "  var render_items = [{\"docid\":\"6e190e10-810f-47dc-95c7-1e68eac334f9\",\"elementid\":\"5683cdd0-d47c-4cdf-a093-f0bcf7fa1cc6\",\"modelid\":\"3dd07ba2-bb5a-487d-836b-0e7935b6520d\"}];\n",
       "  root.Bokeh.embed.embed_items_notebook(docs_json, render_items);\n",
       "\n",
       "  }\n",
       "  if (root.Bokeh !== undefined) {\n",
       "    embed_document(root);\n",
       "  } else {\n",
       "    var attempts = 0;\n",
       "    var timer = setInterval(function(root) {\n",
       "      if (root.Bokeh !== undefined) {\n",
       "        embed_document(root);\n",
       "        clearInterval(timer);\n",
       "      }\n",
       "      attempts++;\n",
       "      if (attempts > 100) {\n",
       "        console.log(\"Bokeh: ERROR: Unable to run BokehJS code because BokehJS library is missing\")\n",
       "        clearInterval(timer);\n",
       "      }\n",
       "    }, 10, root)\n",
       "  }\n",
       "})(window);"
      ],
      "application/vnd.bokehjs_exec.v0+json": ""
     },
     "metadata": {
      "application/vnd.bokehjs_exec.v0+json": {
       "id": "3dd07ba2-bb5a-487d-836b-0e7935b6520d"
      }
     },
     "output_type": "display_data"
    }
   ],
   "source": [
    "p = figure(tools=\"pan,wheel_zoom,reset,save\",\n",
    "           toolbar_location=\"above\",\n",
    "           title=\"word2vec T-SNE for most common words\")\n",
    "\n",
    "source = ColumnDataSource(data=dict(x1=words_top_wiki_tsne[:,0],\n",
    "                                    x2=words_top_wiki_tsne[:,1],\n",
    "                                    names=words_top_wiki))\n",
    "\n",
    "p.scatter(x=\"x1\", y=\"x2\", size=8, source=source)\n",
    "\n",
    "labels = LabelSet(x=\"x1\", y=\"x2\", text=\"names\", y_offset=6,\n",
    "                  text_font_size=\"8pt\", text_color=\"#555555\",\n",
    "                  source=source, text_align='center')\n",
    "p.add_layout(labels)\n",
    "\n",
    "show(p)"
   ]
  },
  {
   "cell_type": "code",
   "execution_count": null,
   "metadata": {},
   "outputs": [],
   "source": []
  }
 ],
 "metadata": {
  "anaconda-cloud": {},
  "kernelspec": {
   "display_name": "Python 3",
   "language": "python",
   "name": "python3"
  },
  "language_info": {
   "codemirror_mode": {
    "name": "ipython",
    "version": 3
   },
   "file_extension": ".py",
   "mimetype": "text/x-python",
   "name": "python",
   "nbconvert_exporter": "python",
   "pygments_lexer": "ipython3",
   "version": "3.6.4"
  }
 },
 "nbformat": 4,
 "nbformat_minor": 1
}
